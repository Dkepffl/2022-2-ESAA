{
  "nbformat": 4,
  "nbformat_minor": 0,
  "metadata": {
    "colab": {
      "provenance": [],
      "collapsed_sections": [],
      "authorship_tag": "ABX9TyMdH391zEyYIll6CIXMWF66",
      "include_colab_link": true
    },
    "kernelspec": {
      "name": "python3",
      "display_name": "Python 3"
    },
    "language_info": {
      "name": "python"
    }
  },
  "cells": [
    {
      "cell_type": "markdown",
      "metadata": {
        "id": "view-in-github",
        "colab_type": "text"
      },
      "source": [
        "<a href=\"https://colab.research.google.com/github/Dkepffl/2022-2-ESAA/blob/main/Assignment/Assignment221007_text1.ipynb\" target=\"_parent\"><img src=\"https://colab.research.google.com/assets/colab-badge.svg\" alt=\"Open In Colab\"/></a>"
      ]
    },
    {
      "cell_type": "markdown",
      "source": [
        "# **CHAPTER 08 텍스트 분석**\n",
        "___\n",
        "- 머신러닝이 보편화되면서 NLP와 텍스트 분석을 구분하는 것이 큰 없어 보이지만, 굳이 구분하자면 \n",
        "  + NLP는 머신이 인간의 언어를 이해하고 해석하는 데 더 중점을 둔다.\n",
        "  + 텍스트 마이닝이라고도 불리는 텍스트 분석은 비정형 텍스트에서 의미 있는 정보를 추출하는 것에 좀 더 중점을 둔다.\n",
        "- NLP 기술이 발전함에 따라 텍스트 분석도 정교하게 발전할 수 있다. \n",
        "- NLP는 언어를 해석하기 위한 **기계 번역**, 자동으로 질문을 해석하고 답을 해주는 **질의응답 시스템** 등을 수행한다.\n",
        "- 텍스트 분석은 머신러닝, 언어 이해, 통계 등을 활용해 모델을 수립하고 정보를 추출해 **비즈니스 인텔리전스**나 **예측 분석** 등의 분석 작업을 주로 수행한다.\n",
        "  + **텍스트 분류(Text Classification)** : 문서가 특정 분류 또는 카테고리에 속하는 것을 예측하는 기법을 통칭한다. 스팸 메일 검출이나 기사 카테고리 분류 등을 예로 들 수 있으며, 지도학습을 적용한다.\n",
        "  + **감성 분석(Sentiment Analysis)** : 텍스트에서 나타나는 감정/판단/믿음/의견/기분 등의 주관적인 요소를 분석하는 기법을 총칭한다. 지도학습뿐만 아니라 비지도 학습을 적용할 수도 있다.\n",
        "  + **텍스트 요약(Summarization)** : 텍스트 내에서 중요한 주제나 중심 사상을 추출하는 기법. 대표적으로 토픽 모델링(Topic Modeling)이 있다.\n",
        "  + **텍스트 군집화(Clustering)오ㅘ 유사도 측정** : 비슷한 유형의 문서에 대해 군집화를 수행하는 기법. 텍스트 분류를 비지도 학습으로 수행하는 방법 중 하나이다. 유사도 측정 역시 문서들 간의 유사도를 측정해 비슷한 문서끼리 모을 수 있는 방법이다."
      ],
      "metadata": {
        "id": "ZlMi1iUj8v9G"
      }
    },
    {
      "cell_type": "markdown",
      "source": [
        "## **01 텍스트 분석 이해**\n",
        "___\n",
        "- 텍스트 분석은 비정형 데이터인 텍스트를 분석하는 것이다.\n",
        "- 지금까지 ML 모델은 주어진 정형 데이터를 기반으로 모델을 수립하고 예측했다. 머신러닝 알고리즘은 수자형의 피처 기반 데이터만 입력받을 수 있기 때문에, 텍스트를 머신러닝에 적용하기 위해서는 **'비정형 텍스트 데이터를 어떻게 피처 형태로 추출하고 추출된 피처에 의미 있는 값을 부여하는가'**가 중요한 문제입니다.\n",
        "- **피처 벡터화(혹은 피처 추출)** : 텍스트를 word 기반의 다수의 피처로 추출하고, 이 피처에 단어 빈도수와 같은 숫자값을 부여하여, 텍스트를 단어의 조합인 벡터값으로 표현하는 것.\n",
        "  + 대표적인 방법으로 BOW(Bag of Words)와 Word2Vec 방법이 있다.\n"
      ],
      "metadata": {
        "id": "dkEcaWz_c7XM"
      }
    },
    {
      "cell_type": "markdown",
      "source": [
        "### | **텍스트 분석 수행 프로세스**\n",
        "- 텍스트 분석 수행 프로세스는 다음과 같다.\n",
        "  1. **텍스트 사전 준비작업(텍스트 전처리)** : 텍스트를 피처로 만들기 전에 미리 클렌징, 대/소문자 변경, 특수 문자 삭제 등의 **클렌징 작업**, 단어(Word) 등의 **토큰화 작업**, **의미 없는 단어(Stop Word) 제거 작업**, 어근 추출(Stemming/Lemmatization) 등의 **텍스트 정규화 작업**\n",
        "  2. **피처 벡터화/추출** : 사전 준비 작업으로 가공된 텍스트에서 피처를 추출하고, 여기에 벡터 값을 할당한다. 대표적인 방법으로, BOW와 Word2Vec이 있다.\n",
        "  3. **ML 모델 수립 및 학습/예측/평가** : 피처 벡터화 된 데이터셋에서 ML 모델을 적용해 학습/예측 및 평가를 수행한다.\n"
      ],
      "metadata": {
        "id": "i_aiiAk7AncI"
      }
    },
    {
      "cell_type": "markdown",
      "source": [
        "### | **파이썬 기반의 NLP, 텍스트 분석 패키지**\n",
        "- **NLTK(Natural Language Toolkit for Python)** : 파이썬의 가장 대표적인 NLP 패키지. 방대한 데이터셋과 서브 모듈을 가지고 있으며, NLP의 거의 모든 영역을 커버하고 있다. 많은 NLP 패키지가 NLTK의 영향을 받아 작성되고 있다. 수행 속도가 느려 대규모의 데이터셋에서는 제대로 활용되지 못하고 있다.\n",
        "- **Gensim** : 토픽 모델링 분야에서 가장 두각을 나타내는 패키지\n",
        "- **SpaCy** : 뛰어난 수행 성능으로 최근 가장 주목을 받는 NLP 패키지\n",
        "- 사이킷런과 위의 NLP 전용 패키지를 결합해 텍스트 분석을 진행한다.\n"
      ],
      "metadata": {
        "id": "h3mrcLkCXNfJ"
      }
    },
    {
      "cell_type": "markdown",
      "source": [
        "## **02 텍스트 사전 준비 작업(텍스트 전처리)-텍스트 정규화**\n",
        "___\n",
        "- 텍스트 자체를 바로 피처로 만들 수는 없다. 사전에 텍스트를 가공하는 준비 작업이 필요하다.\n",
        "- **텍스트 정규화**는 텍스트를 머신러닝 알고리즘이나 NLP 애플리케이션에 입력 데이터로 사용하기 위해 클렌징, 정제, 토큰화, 어근화 등의 다양한 텍스트 데이터의 사전 작업을 수행하는 것이다."
      ],
      "metadata": {
        "id": "dGaDquviXTgQ"
      }
    },
    {
      "cell_type": "markdown",
      "source": [
        "### | **클렌징**\n",
        "- 텍스트에서 분석에 방해가 되는 불필요한 문자, 기호 등을 사전에 제거하는 작업니다. 예를 들어 HTML, XML 태그나 특정 기호 등을 제거한다.\n"
      ],
      "metadata": {
        "id": "mLLm9hWUXdYy"
      }
    },
    {
      "cell_type": "markdown",
      "source": [
        "### | **텍스트 토큰화**\n",
        "- 문서에서 문장을 분리하는 문장 토큰화와 문장에서 다어를 토큰으로 분리하는 단어 토큰화로 나눌 수 있다. NLTK는 텍스트 토큰화를 위한 다양한 API를 제공한다.\n"
      ],
      "metadata": {
        "id": "0NIOSmGiXdls"
      }
    },
    {
      "cell_type": "markdown",
      "source": [
        "#### **문장 토큰화**\n",
        "- 문장 토큰화는 문장의 마침표(.), 개행문자(\\n) 등 문장의 마지막을 뜻하는 기호에 따라 분리하는 것이 일반적이다. 혹은 정규 표현식에 따른 문장 토큰화도 가능하다.\n",
        "- NTLK에서 일반적으로 많이 쓰이는 `sent_tokenize`를 이용해 토큰화를 수행해보자. 3개의 문장으로 이루어진 텍스트 문서를 문장으로 각각 분리할 것이다."
      ],
      "metadata": {
        "id": "czEa_Uv8pxAo"
      }
    },
    {
      "cell_type": "code",
      "source": [
        "from nltk import sent_tokenize\n",
        "import nltk\n",
        "nltk.download('punkt') # 마침표, 개행 문자 등의 데이터셋을 다운로드\n",
        "\n",
        "# 예시 문서\n",
        "text_sample = 'The Matrix is everywhere its all around us, here even in this room. \\\n",
        "               You can see it out your window or on your television. \\\n",
        "               You feel it when you go to work, or go to church or pay your taxes.'\n",
        "\n",
        "# 토큰화 수행               \n",
        "sentences = sent_tokenize(text=text_sample)"
      ],
      "metadata": {
        "colab": {
          "base_uri": "https://localhost:8080/"
        },
        "id": "s0mHppQ8qOHm",
        "outputId": "532cdaba-7bf4-43c3-d6a9-f30bd91dcc52"
      },
      "execution_count": 1,
      "outputs": [
        {
          "output_type": "stream",
          "name": "stderr",
          "text": [
            "[nltk_data] Downloading package punkt to /root/nltk_data...\n",
            "[nltk_data]   Package punkt is already up-to-date!\n"
          ]
        }
      ]
    },
    {
      "cell_type": "code",
      "source": [
        "print(type(sentences),len(sentences))"
      ],
      "metadata": {
        "colab": {
          "base_uri": "https://localhost:8080/"
        },
        "id": "BfnE_QKAqgcn",
        "outputId": "e6796b07-8f0c-4736-9996-b84ace6548e4"
      },
      "execution_count": 2,
      "outputs": [
        {
          "output_type": "stream",
          "name": "stdout",
          "text": [
            "<class 'list'> 3\n"
          ]
        }
      ]
    },
    {
      "cell_type": "code",
      "source": [
        "print(sentences)"
      ],
      "metadata": {
        "colab": {
          "base_uri": "https://localhost:8080/"
        },
        "id": "pvOPO13YqfRO",
        "outputId": "1d6b3301-e12b-47b3-ffd0-b5a4fda09b2f"
      },
      "execution_count": 3,
      "outputs": [
        {
          "output_type": "stream",
          "name": "stdout",
          "text": [
            "['The Matrix is everywhere its all around us, here even in this room.', 'You can see it out your window or on your television.', 'You feel it when you go to work, or go to church or pay your taxes.']\n"
          ]
        }
      ]
    },
    {
      "cell_type": "markdown",
      "source": [
        "- `sent_tokenize()`는 각각의 문장으로 구성된 list 객체를 반환한다.\n",
        "- 리스트의 길이는 3으로 3개의 문장으로 된 문자열을 가지고 있는 리스트 객체가 반환되었다."
      ],
      "metadata": {
        "id": "78hBPNj1qiBI"
      }
    },
    {
      "cell_type": "markdown",
      "source": [
        "#### **단어 토큰화**\n",
        "- 단어 토근화(Word Tokenization)는 단어로 토큰화하는 것이다. 기본적으로 공백, 콤마(,), 마침표(.), 개행 문자 등으로 단어를 분리하지만, 역시 정규 표현식을 이용해 다양한 유형으로 토큰화를 수행할 수 있다.\n",
        "- 마침표(.)나 개행 문자와 같이 문장을 분리하는 구분자를 이용해 단어를 토큰화할 수 있으므로, Bag of Word와 같이 단어의 순서가 중요하지 않은 경우, 문장 토큰화를 사용하지 않고, 단어 토큰화만 사용한다.\n",
        "- 일반적으로 문장 토큰화는 각 문작이 가지는 구조적 의미가 중요할 때 사용한다.\n",
        "- NTLK에서 제공하는 `word_tokenzie()`를 이용해 단어로 토큰화해보자."
      ],
      "metadata": {
        "id": "dTwUqsG6pz3u"
      }
    },
    {
      "cell_type": "code",
      "source": [
        "from nltk import word_tokenize\n",
        "\n",
        "sentence = \"The Matrix is everywhere its all around us, here even in this room.\"\n",
        "words = word_tokenize(sentence)"
      ],
      "metadata": {
        "id": "O0TK6i3-rTgz"
      },
      "execution_count": 4,
      "outputs": []
    },
    {
      "cell_type": "code",
      "source": [
        "print(type(words), len(words))"
      ],
      "metadata": {
        "colab": {
          "base_uri": "https://localhost:8080/"
        },
        "id": "iC0rJ65JrVLL",
        "outputId": "c75d1cd4-dad3-47de-f92e-3e00f1e46d61"
      },
      "execution_count": 5,
      "outputs": [
        {
          "output_type": "stream",
          "name": "stdout",
          "text": [
            "<class 'list'> 15\n"
          ]
        }
      ]
    },
    {
      "cell_type": "code",
      "source": [
        "print(words)"
      ],
      "metadata": {
        "colab": {
          "base_uri": "https://localhost:8080/"
        },
        "id": "WeweK_WYrWNX",
        "outputId": "e833ed1f-f80b-44fc-b84a-56dff1572d03"
      },
      "execution_count": 6,
      "outputs": [
        {
          "output_type": "stream",
          "name": "stdout",
          "text": [
            "['The', 'Matrix', 'is', 'everywhere', 'its', 'all', 'around', 'us', ',', 'here', 'even', 'in', 'this', 'room', '.']\n"
          ]
        }
      ]
    },
    {
      "cell_type": "markdown",
      "source": [
        "- 이번에는 `sent_tokenize`와 `word_tokenize`를 조합해 문서에 대해서 모든 단어를 토큰화해보자. 문장 토큰화 예제에서 사용했던 문장에 문장별로 단어 토큰화를 적용한다.\n",
        "- 문서를 먼저 문장으로 나누고, 개별 문장을 다시 단어로 토큰화하는 `tokenize_text()` 함수를 생성해보자."
      ],
      "metadata": {
        "id": "TBGw0QAfttq4"
      }
    },
    {
      "cell_type": "code",
      "source": [
        "from nltk import word_tokenize, sent_tokenize\n",
        "\n",
        "def tokenize_text(text):\n",
        "    # 문장별로 분리\n",
        "    sentences = sent_tokenize(text)\n",
        "\n",
        "    # 개별 문장을 단어로 토큰화\n",
        "    word_tokens = [word_tokenize(sentence) for sentence in sentences]\n",
        "    return word_tokens"
      ],
      "metadata": {
        "id": "yzQ3jUzS0Lbl"
      },
      "execution_count": 7,
      "outputs": []
    },
    {
      "cell_type": "code",
      "source": [
        "word_tokens = tokenize_text(text_sample) # 토근화 수행\n",
        "print(type(word_tokens),len(word_tokens))"
      ],
      "metadata": {
        "colab": {
          "base_uri": "https://localhost:8080/"
        },
        "id": "x-V7PHam0yt3",
        "outputId": "67eebde3-c5f5-4433-b088-87b561d41038"
      },
      "execution_count": 8,
      "outputs": [
        {
          "output_type": "stream",
          "name": "stdout",
          "text": [
            "<class 'list'> 3\n"
          ]
        }
      ]
    },
    {
      "cell_type": "code",
      "source": [
        "print(word_tokens)"
      ],
      "metadata": {
        "colab": {
          "base_uri": "https://localhost:8080/"
        },
        "id": "iFb0dIK_03b_",
        "outputId": "e7e13899-e75e-402d-c63a-60144a727709"
      },
      "execution_count": 9,
      "outputs": [
        {
          "output_type": "stream",
          "name": "stdout",
          "text": [
            "[['The', 'Matrix', 'is', 'everywhere', 'its', 'all', 'around', 'us', ',', 'here', 'even', 'in', 'this', 'room', '.'], ['You', 'can', 'see', 'it', 'out', 'your', 'window', 'or', 'on', 'your', 'television', '.'], ['You', 'feel', 'it', 'when', 'you', 'go', 'to', 'work', ',', 'or', 'go', 'to', 'church', 'or', 'pay', 'your', 'taxes', '.']]\n"
          ]
        }
      ]
    },
    {
      "cell_type": "markdown",
      "source": [
        "- 문장을 단어별로 하나씩 토큰화할 겨우, 문맥적인 의미는 무시된다. 이러한 문제를 조금이라도 해결하기 위해 **n-graom**을 도입하였다.\n",
        "  + n-gram은 연속된 n개의 단어를 하나의 토큰화 단위로 분리하는 것이다.\n",
        "  - n개 단어 크기의 윈도우를 만들어 문장의 처음부터 오른쪽으로 움직이며 토큰화를 수행한다."
      ],
      "metadata": {
        "id": "xf7ZoD543LF2"
      }
    },
    {
      "cell_type": "markdown",
      "source": [
        "### | **스톱 워드 제거**\n",
        "- **스톱 워드(Stop Word)**는 분석에 큰 의미가 없는 단어를 의미한다. 영어에서 be 동사나 관사와 같이 문장을 구성하는 필수 문법 요소지만, 문맥적으로 큰 의미가 없는 단어가 이에 해당한다.\n",
        "- 이 단어의 경우, 문법적인 특성으로 인해 빈번하게 텍스트에 나타나 제거하지 않으면 중요한 단어로 인지될 수 있다. 따라서 이 의미 없는 단어를 제거하는 것은 중요한 전처리 작업이다.\n",
        "- NLTK는 가장 다양한 언어의 스톱 워드를 제공한다. 먼저 NLTK의 `stopwords` 목록을 다운받아 보자."
      ],
      "metadata": {
        "id": "Dl7ynhDsXdzE"
      }
    },
    {
      "cell_type": "code",
      "source": [
        "import nltk\n",
        "nltk.download('stopwords')"
      ],
      "metadata": {
        "colab": {
          "base_uri": "https://localhost:8080/"
        },
        "id": "1MANYry04H3C",
        "outputId": "199e8e51-06ad-455c-906c-588510eb4d12"
      },
      "execution_count": 10,
      "outputs": [
        {
          "output_type": "stream",
          "name": "stderr",
          "text": [
            "[nltk_data] Downloading package stopwords to /root/nltk_data...\n",
            "[nltk_data]   Package stopwords is already up-to-date!\n"
          ]
        },
        {
          "output_type": "execute_result",
          "data": {
            "text/plain": [
              "True"
            ]
          },
          "metadata": {},
          "execution_count": 10
        }
      ]
    },
    {
      "cell_type": "code",
      "source": [
        "# 영어의 stopwords 개수 확인\n",
        "print('영어 stop words 개수:',len(nltk.corpus.stopwords.words('english')))\n",
        "print(nltk.corpus.stopwords.words('english')[:20])"
      ],
      "metadata": {
        "colab": {
          "base_uri": "https://localhost:8080/"
        },
        "id": "JL854RRr4Lfm",
        "outputId": "e01a2adc-c137-4338-b5ef-f8bb314b53b2"
      },
      "execution_count": 11,
      "outputs": [
        {
          "output_type": "stream",
          "name": "stdout",
          "text": [
            "영어 stop words 개수: 179\n",
            "['i', 'me', 'my', 'myself', 'we', 'our', 'ours', 'ourselves', 'you', \"you're\", \"you've\", \"you'll\", \"you'd\", 'your', 'yours', 'yourself', 'yourselves', 'he', 'him', 'his']\n"
          ]
        }
      ]
    },
    {
      "cell_type": "markdown",
      "source": [
        "- 영어의 경우, 스톱 워드의 개수가 179개이다.\n",
        "- 앞에서 문장별로 단어를 토근화해 생성한 `word_tokens` 리스트에 stopwords를 필터링으로 제거해 의미 있는 단어만 추출해보자."
      ],
      "metadata": {
        "id": "A446vjjT4VE4"
      }
    },
    {
      "cell_type": "code",
      "source": [
        "import nltk"
      ],
      "metadata": {
        "id": "NbQiDP5e4nuw"
      },
      "execution_count": 12,
      "outputs": []
    },
    {
      "cell_type": "code",
      "source": [
        "stopwords = nltk.corpus.stopwords.words('english')\n",
        "all_tokens = []\n",
        "\n",
        "for sentence in word_tokens:\n",
        "    filtered_words=[]\n",
        "    for word in sentence:\n",
        "        word = word.lower() # 소문자로 변환\n",
        "        if word not in stopwords:\n",
        "            filtered_words.append(word) # 주어진 word가 stopwords에 해당하지 않으면 리스트에 추가\n",
        "    all_tokens.append(filtered_words)"
      ],
      "metadata": {
        "id": "_E9adV0u4mPC"
      },
      "execution_count": 13,
      "outputs": []
    },
    {
      "cell_type": "code",
      "source": [
        "print(all_tokens)"
      ],
      "metadata": {
        "colab": {
          "base_uri": "https://localhost:8080/"
        },
        "id": "J2Xn8GRo43Ir",
        "outputId": "fad49698-03a0-4fd6-a776-11e69c2b49d5"
      },
      "execution_count": 14,
      "outputs": [
        {
          "output_type": "stream",
          "name": "stdout",
          "text": [
            "[['matrix', 'everywhere', 'around', 'us', ',', 'even', 'room', '.'], ['see', 'window', 'television', '.'], ['feel', 'go', 'work', ',', 'go', 'church', 'pay', 'taxes', '.']]\n"
          ]
        }
      ]
    },
    {
      "cell_type": "markdown",
      "source": [
        "- is, this와 같은 스톱 워드가 제거되었다."
      ],
      "metadata": {
        "id": "mRDkIGMG46W-"
      }
    },
    {
      "cell_type": "markdown",
      "source": [
        "### | **Stemming과 Lemmatization**\n",
        "- 많은 언어에서 문법적인 요소에 따라 단어가 다양하게 변화한다. **Stemming**과 **Lemmatization**은 이렇게 문법적 또는 의미적으로 변화하는 단어의 원형을 찾는 작업이다.\n",
        "- 두 가지 모두 단어의 원형을 찾는다는 목적은 유사하지만, Lemmatization이 Stemming보다 정교하며, 의미론 기반에서 단어의 원형을 찾는다.\n",
        "  + Stemming은 원형 단어로 변환 시 일반적인 방법을 적용하거나 더 단순화된 방법을 적용해, 원래 단어에서 일부 철자가 훼손된 어근 단어를 추출하는 경향이 있다.\n",
        "  + Lemmatization은 품사와 같은 문법 요소와 의미적인 부분을 감안해 정환한 철자로 된 어근 단어를 찾아준다. 따라서 Lemmatization이 Stemming보다 변환에 더 오랜 시간을 피룡로 한다.\n",
        "- NLTK는 Porter, Lancaster, Snowball Stemmer 등 다양한 Stemmer를 제공한다.\n",
        "- Lemmatization을 위해서는 WordNetLemmatizer를 제공한다.\n",
        "\n"
      ],
      "metadata": {
        "id": "EahckDl5XeBd"
      }
    },
    {
      "cell_type": "code",
      "source": [
        "# Stemmer 예제-Lancaster\n",
        "from nltk.stem import LancasterStemmer\n",
        "stemmer = LancasterStemmer() # Stemmer 객체 생성\n",
        "\n",
        "print(stemmer.stem('working'),stemmer.stem('works'),stemmer.stem('worked')) # stem 메서드 호출\n",
        "print(stemmer.stem('amusing'),stemmer.stem('amuses'),stemmer.stem('amused'))\n",
        "print(stemmer.stem('happier'),stemmer.stem('happiest'))\n",
        "print(stemmer.stem('fancier'),stemmer.stem('fanciest'))"
      ],
      "metadata": {
        "colab": {
          "base_uri": "https://localhost:8080/"
        },
        "id": "bgB7PWzU7hxQ",
        "outputId": "191e9a2c-27ff-4ec0-82e5-834ba0f2e7bf"
      },
      "execution_count": 15,
      "outputs": [
        {
          "output_type": "stream",
          "name": "stdout",
          "text": [
            "work work work\n",
            "amus amus amus\n",
            "happy happiest\n",
            "fant fanciest\n"
          ]
        }
      ]
    },
    {
      "cell_type": "markdown",
      "source": [
        "- 진행형, 3인칭 단수, 과거형에 따른 동사, 그리고 비교급, 최상급에 따른 형용사의 변화에 따라 Stemming은 조금 단순하게 원형 단어를 찾아준다.\n",
        "- work의 경우, 진행형, 3인칭 단수, 과겨형 모두 원형 단어에 ing, s, ed가 붙는 단순한 변화이기 때문에, work를 제대로 인식한다.\n",
        "- 하지만 ammuse의 경우 amus를 원형으로 인식하였으며, 형용사인 happy, fancy의 경우, 비교형, 최상급형으로 변형된 단어의 원형을 정확하게 찾지 못했다.\n"
      ],
      "metadata": {
        "id": "QXni9Y3x8Tt_"
      }
    },
    {
      "cell_type": "code",
      "source": [
        "from nltk.stem import WordNetLemmatizer\n",
        "import nltk\n",
        "nltk.download('wordnet')\n",
        "nltk.download('omw-1.4')"
      ],
      "metadata": {
        "colab": {
          "base_uri": "https://localhost:8080/"
        },
        "id": "a04PxAACV0KS",
        "outputId": "9664c3db-043f-43ab-fcb0-2392da4e37f4"
      },
      "execution_count": 21,
      "outputs": [
        {
          "output_type": "stream",
          "name": "stderr",
          "text": [
            "[nltk_data] Downloading package wordnet to /root/nltk_data...\n",
            "[nltk_data]   Package wordnet is already up-to-date!\n",
            "[nltk_data] Downloading package omw-1.4 to /root/nltk_data...\n"
          ]
        },
        {
          "output_type": "execute_result",
          "data": {
            "text/plain": [
              "True"
            ]
          },
          "metadata": {},
          "execution_count": 21
        }
      ]
    },
    {
      "cell_type": "code",
      "source": [
        "lemma = WordNetLemmatizer()\n",
        "print(lemma.lemmatize('amusing','v'),lemma.lemmatize('amuses','v'),lemma.lemmatize('amused','v'))\n",
        "print(lemma.lemmatize('happier','a'),lemma.lemmatize('happiest','a'))\n",
        "print(lemma.lemmatize('fancier','a'),lemma.lemmatize('fanciest','a'))"
      ],
      "metadata": {
        "id": "KGSxef219Ibn",
        "colab": {
          "base_uri": "https://localhost:8080/"
        },
        "outputId": "c788ca91-9c79-447e-96d8-6fe4440c5887"
      },
      "execution_count": 22,
      "outputs": [
        {
          "output_type": "stream",
          "name": "stdout",
          "text": [
            "amuse amuse amuse\n",
            "happy happy\n",
            "fancy fancy\n"
          ]
        }
      ]
    },
    {
      "cell_type": "markdown",
      "source": [
        "- 앞의 Stemmer보다 정확하게 원형 단어를 추출하였다."
      ],
      "metadata": {
        "id": "oJx9Y6lwj1ot"
      }
    },
    {
      "cell_type": "markdown",
      "source": [
        "## **03 Bag of Words-BOW**\n",
        "___\n",
        "- Bag of Words 모델은 문서가  가지는 모든 단어(Words)를 문맥이나 순서를 무시하고 일괄적으로 단어에 대해 빈도 값을 부여하여, 피처 값을 추출하는 모델이다.\n",
        "- 문서 내 모든 단어를 한꺼번에 봉투(Bag) 안에 넣고 흔들어서 섞는다는 의미로 Bag of Words(BOW) 모델이라고 한다.\n",
        "- 다음과 같은 2개의 문장이 있다고 가정하고 BOW의 단어 수(Word Count) 기반으로 피처를 추출해보자.\n",
        "```\n",
        "문장 1 : 'My wife likes to watch baseball games and my daugther likes to watch baseball games too'\n",
        "문장 2 : 'My wife likes to play baseball'\n",
        "```\n",
        "  1. 문장 1과 문장 2에 있는 모든 단어에서 중복을 제거하고, 각 단어를 컬럼 형태로 나열한다. 그리고 각 단어에 고유의 인덱스를 부여한다.\n",
        "  2. 개별 문장에서 해당 단어가 나타나는 횟수(Occurrence)를 각 단어(단어 인덱스)에 기재한다.\n",
        "- BOW 모델의 장점은 쉽고 빠르게 구축할 수 있다는 것이다. 단순히 단어의 발생 횟수에 기반하고 있지만, 예상보다 문서의 특징을 잘 나타낼 수 있는 모델이어서, 여러 분야에서 활용도가 높다.\n",
        "- 하지만 BOW 기반의 NLP 연구는 다음과 같은 제약에 부딪히고 있다.\n",
        "  + **문맥 의미(Semantic Context) 반영 부족** : 단어의 순서를 고래하지 않아, 문장 내에서 단어의 문맥적인 의미가 무시된다. \n",
        "  + **희소 행렬 문제(희소성, 희소 행렬)** : BOW로 피처 벡터화를 수행하면 희소 행렬 형태의 데이터셋이 만들어지기 쉽다. 희소 행렬은 일반적으로 ML 알고리즘의 수행 시간과 예측 성능을 떨어뜨린다. 이를 해결하기 위해 희소 행렬을 위한 특별한 기법이 존재한다."
      ],
      "metadata": {
        "id": "UjRu3p9pXTvx"
      }
    },
    {
      "cell_type": "markdown",
      "source": [
        "### | **BOW 피처 벡터화**\n",
        "- **피처 벡터화** : 텍스트를 특정 의미를 가지는 숫자형 값인 벡터 값으로 변환하는 것\n",
        "- 각 문서의 텍스트를 단어로 추출해 피처로 할당하고, 각 단어의 발생 빈도수 등을 값으로 부여해 각 문서를 이 단어 피처의 발생 빈도 값으로 구성된 벡터로 만들 수 있다.\n",
        "- BOW 모델에서는 모든 문서에서 모든 단어를 컬럼형태로 나열하고 각 문서에서 해당 단어의 횟수나 정규화된 빈도를 값으로 부여하는 데이터셋 모델로 변경하여 피처 벡터화를 수행한다.\n",
        "- BOW의 피처 벡터화는 두 가지 방식이 있다.\n",
        "  + **카운트 기반의 벡터화** : 단어 피처에 값을 부여할 때 각 문어에서 해당 단어가 나타나는 횟수(Count)를 부여한다.\n",
        "  + **TF-IDF(Term Frequency-Inverse Document Frequency) 기반의 벡터화** : 개별 문서에서 자주 나타나는 단어에 높은 가중치를 주되, 모든 문서에서 전반적으로 자주 나타나는 단어에 대해서는 페널티를 준다.\n",
        "- 문서마다 텍스트가 길고 문서의 개수가 많은 경우 카운트 방식보다는 TF-IDF 방식을 사용하는 것이 더 좋다."
      ],
      "metadata": {
        "id": "w-2Ci78tXRx8"
      }
    },
    {
      "cell_type": "markdown",
      "source": [
        "### | **사이킷런의 Count 및 TF-IDF 벡터화 구현 : CountVectorizer, TfidVectorizer**\n",
        "- 사이킷런의 `CountVectorizer` 클래스는 카운트 기반의 벡터화를 구현한 클래스이다.\n",
        "  + 피처 벡터화뿐만 아니라, 소문자 일괄 변환, 토큰화, 스톱 워드 필터링 등 텍스트 전처리도 함께 수행한다.\n",
        "  + `fit()`과 `transform()`을 통해 피처 벡터화된 객체를 반환한다.\n",
        "- `CountVectorizer`의 입력 파라미터\n",
        "  - `max_df` : 전체 문서 중 너무 높은 빈도수를 가지는 단어 피처를 제외하기 위한 파라미터. 정수 값일 경우, 그 개수 이하로 나타나는 단어만 피처로 추출하며, 0에서 1 사이의 소수값일 경우, 그 비율만큼의 단어만 피처로 추출한다.\n",
        "  - `min_df` : 전체 문서 중 너무 낮은 빈도수를 가지는 단어 피처를 제외하기 위한 파라미터\n",
        "  - `max_features` : 추출하는 피처의 개수를 제한한다. 정수값을 입력한다.\n",
        "  - `stop_words` : 'english'로 지정하면 영어의 스톱 워드로 지정된 단어를 추출에서 제외한다.\n",
        "  - `n_gram_range` : BOW 모델의 순서를 어느정도 보강하기 위한 n_gram의 범위를 튜플 형태로 입력한다.\n",
        "  - `analyzer` : 피처 추출을 수행할 단위를 지정하는 파라미터로 디폴트는 'word'이다.\n",
        "  - `token_patter` : 토큰화를 수행하는 정규 표현식 패턴을 지정한다. 디폴트 값은 '\\b\\w\\w+\\b'로 공백 또는 개행 문자 등으로 구분된 단어를 토큰으로 분리한다.\n",
        "  - `tokenizer` : 토큰화를 별도의 커스텀 함수로 진행할 경우 적용한다.\n",
        "- `CountVectorizer`의 텍스트 피처 벡터화 방법\n",
        "  1. **사전 데이터 가공** : 영어의 경우 모든 문자를 소문자로 변경하는 등 전처리 작업을 수행한다.\n",
        "  2. **토큰화** : 각 단어를 토큰화한다.\n",
        "  3. **텍스트 정규화** : Stop Words 필터링을 수행한다.\n",
        "  4. **피처 벡터화** : 입력된 파라미터를 바탕으로 토큰화된 단어를 피처로 추출하고 단어 빈도수 벡터 값을 적용한다.\n",
        "- 사이킷런에서 TF-IDF 벡터화는 `TfidVectorizer` 클래스를 이용하며, 파라미터와 변환 방법은 `CountVectorizer`와 동일하다."
      ],
      "metadata": {
        "id": "--PP_VmPXgVH"
      }
    },
    {
      "cell_type": "markdown",
      "source": [
        "### | **BOW 벡터화를 위한 희소 행렬**\n",
        "- 사이킷런의 `CountVectorizer`/`TfidVectorizer`를 이용해 텍스트를 피처 단위로 벡터화하면 CSR 형태의 희소 행렬을 반환한다.\n",
        "- 대규모 행렬의 대부분의 값을 0이 차지하는 행렬을 희소 행렬이라고 하는데, BOW 형태를 가진 언어 모델의 피처 벡터화 결과는 대부분 희소 행렬이다.\n",
        "- 희소 행렬 형태의 데이터셋은 불필요한 0 값이 메모리 공간에 할당되어 메모리 공간이 많이 필요하며, 행렬의 크기가 커서 연산 시에 시간이 많이 소모된다.\n",
        "- 따라서 희소 행렬을 물리적으로 적은 메모리 공간을 차지하도록 변환해야 한다. 대표적인 방법으로 COO 형식과 CSR 형식이 있다."
      ],
      "metadata": {
        "id": "SIoTyZOQXgkH"
      }
    },
    {
      "cell_type": "markdown",
      "source": [
        "### | **희소 행렬 - COO 형식**\n",
        "- **COO(Coordinate) 형식**은 0이 아닌 데이터만 별도의 데이터 배열에 저장하고, 그 위치를 별도의 배열에 저장하는 방식이다.\n",
        "- 사이파이(Scipy)의 `sparse` 패키지는 희소 행렬 변환을 위한 다양한 모듈을 제공한다. 이를 이용해 COO 형식으로 희소 행렬 변환을 수행해보자.\n",
        "- 다음 예제는 밀집 행렬을 만든 후, COO 형식으로 희소행렬로 변환하는 문제이다."
      ],
      "metadata": {
        "id": "9uZO3iTiXg-p"
      }
    },
    {
      "cell_type": "code",
      "source": [
        "import numpy as np\n",
        "from scipy import sparse"
      ],
      "metadata": {
        "id": "L4kReXEPs8iB"
      },
      "execution_count": 24,
      "outputs": []
    },
    {
      "cell_type": "code",
      "source": [
        "# 밀집 행렬 생성\n",
        "dense = np.array([[ 3, 0, 1 ], [0, 2, 0 ]])"
      ],
      "metadata": {
        "id": "RWCzaShPtKD9"
      },
      "execution_count": 26,
      "outputs": []
    },
    {
      "cell_type": "code",
      "source": [
        "data = np.array([3,1,2]) # 0이 아닌 데이터 추출\n",
        "\n",
        "# 행 위치와 열 위치를 각각 array로 생성 \n",
        "row_pos = np.array([0,0,1])\n",
        "col_pos = np.array([0,2,1])\n",
        "\n",
        "# sparse 패키지의 coo_matrix를 이용하여 COO 형식으로 희소 행렬 생성\n",
        "sparse_coo = sparse.coo_matrix((data, (row_pos,col_pos)))"
      ],
      "metadata": {
        "id": "pId9_uwlsyhP"
      },
      "execution_count": 27,
      "outputs": []
    },
    {
      "cell_type": "code",
      "source": [
        "# 다시 밀집 형태의 행렬로 출력\n",
        "sparse_coo.toarray()"
      ],
      "metadata": {
        "colab": {
          "base_uri": "https://localhost:8080/"
        },
        "id": "7qYiTMZ7tZ4Z",
        "outputId": "71e39eea-e529-4ac9-cbd8-0dcf7e63f909"
      },
      "execution_count": 28,
      "outputs": [
        {
          "output_type": "execute_result",
          "data": {
            "text/plain": [
              "array([[3, 0, 1],\n",
              "       [0, 2, 0]])"
            ]
          },
          "metadata": {},
          "execution_count": 28
        }
      ]
    },
    {
      "cell_type": "markdown",
      "source": [
        "### | **희소 행렬 - CSR 형식**\n",
        "- CSR(Compressed Sparse Row) 형식은 COO 형식이 행과 열의 위치를 나타내기 위해 반복적인 위치 데이터를 사용해야 하는 문제점을 해결한 방법이다.\n",
        "- 행 위치 배열 내에 있는 고유한 값의 시작 위치만 다시 별도의 위치 배열로 가지는 변환 방식을 의미한다.\n",
        "- 고유 값의 시작 위치만 알고 있다면 얼마든지 행 위치 배열을 다시 만들 수 있어 COO 방식보다 메모리가 적게 들고 빠른 영상이 가능하다."
      ],
      "metadata": {
        "id": "NnF0JyLOXhML"
      }
    },
    {
      "cell_type": "code",
      "source": [
        "from scipy import sparse\n",
        "\n",
        "dense2 = np.array([[0,0,1,0,0,5],\n",
        "             [1,4,0,3,2,5],\n",
        "             [0,6,0,3,0,0],\n",
        "             [2,0,0,0,0,0],\n",
        "             [0,0,0,7,0,8],\n",
        "             [1,0,0,0,0,0]])"
      ],
      "metadata": {
        "id": "CEnThouyuINW"
      },
      "execution_count": 30,
      "outputs": []
    },
    {
      "cell_type": "code",
      "source": [
        "# 0 이 아닌 데이터 추출\n",
        "data2 = np.array([1, 5, 1, 4, 3, 2, 5, 6, 3, 2, 7, 8, 1])\n",
        "\n",
        "# 행 위치와 열 위치를 각각 array로 생성 \n",
        "row_pos = np.array([0, 0, 1, 1, 1, 1, 1, 2, 2, 3, 4, 4, 5])\n",
        "col_pos = np.array([2, 5, 0, 1, 3, 4, 5, 1, 3, 0, 3, 5, 0])\n",
        "\n",
        "# COO 형식으로 변환 \n",
        "sparse_coo = sparse.coo_matrix((data2, (row_pos,col_pos)))"
      ],
      "metadata": {
        "id": "N3qdRXY-tyRs"
      },
      "execution_count": 31,
      "outputs": []
    },
    {
      "cell_type": "code",
      "source": [
        "# CRS\n",
        "row_pos_ind = np.array([0, 2, 7, 9, 10, 12, 13]) # 행 위치 배열의 고유한 값들의 시작 위치 인덱스를 배열로 생성\n",
        "\n",
        "sparse_csr = sparse.csr_matrix((data2, col_pos, row_pos_ind))"
      ],
      "metadata": {
        "id": "Xgp2pGesuN4_"
      },
      "execution_count": 32,
      "outputs": []
    },
    {
      "cell_type": "code",
      "source": [
        "print('COO 변환된 데이터가 제대로 되었는지 다시 Dense로 출력 확인')\n",
        "print(sparse_coo.toarray())"
      ],
      "metadata": {
        "colab": {
          "base_uri": "https://localhost:8080/"
        },
        "id": "MEsR-rdwuUg3",
        "outputId": "b38ef617-2cb5-4481-ca3a-ef160a8173cc"
      },
      "execution_count": 33,
      "outputs": [
        {
          "output_type": "stream",
          "name": "stdout",
          "text": [
            "COO 변환된 데이터가 제대로 되었는지 다시 Dense로 출력 확인\n",
            "[[0 0 1 0 0 5]\n",
            " [1 4 0 3 2 5]\n",
            " [0 6 0 3 0 0]\n",
            " [2 0 0 0 0 0]\n",
            " [0 0 0 7 0 8]\n",
            " [1 0 0 0 0 0]]\n"
          ]
        }
      ]
    },
    {
      "cell_type": "code",
      "source": [
        "print('CSR 변환된 데이터가 제대로 되었는지 다시 Dense로 출력 확인')\n",
        "print(sparse_csr.toarray())"
      ],
      "metadata": {
        "colab": {
          "base_uri": "https://localhost:8080/"
        },
        "id": "RfcXC3EEuVxx",
        "outputId": "409d942e-63c2-4eed-f4f2-5095fdd3f89e"
      },
      "execution_count": 35,
      "outputs": [
        {
          "output_type": "stream",
          "name": "stdout",
          "text": [
            "CSR 변환된 데이터가 제대로 되었는지 다시 Dense로 출력 확인\n",
            "[[0 0 1 0 0 5]\n",
            " [1 4 0 3 2 5]\n",
            " [0 6 0 3 0 0]\n",
            " [2 0 0 0 0 0]\n",
            " [0 0 0 7 0 8]\n",
            " [1 0 0 0 0 0]]\n"
          ]
        }
      ]
    }
  ]
}