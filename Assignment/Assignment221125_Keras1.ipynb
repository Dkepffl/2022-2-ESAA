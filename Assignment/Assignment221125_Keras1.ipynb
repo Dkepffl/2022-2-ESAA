{
  "nbformat": 4,
  "nbformat_minor": 0,
  "metadata": {
    "colab": {
      "provenance": [],
      "authorship_tag": "ABX9TyOyZEJbsWWr4IKGA7urc8YY",
      "include_colab_link": true
    },
    "kernelspec": {
      "name": "python3",
      "display_name": "Python 3"
    },
    "language_info": {
      "name": "python"
    }
  },
  "cells": [
    {
      "cell_type": "markdown",
      "metadata": {
        "id": "view-in-github",
        "colab_type": "text"
      },
      "source": [
        "<a href=\"https://colab.research.google.com/github/Dkepffl/2022-2-ESAA/blob/main/Assignment/Assignment221125_Keras1.ipynb\" target=\"_parent\"><img src=\"https://colab.research.google.com/assets/colab-badge.svg\" alt=\"Open In Colab\"/></a>"
      ]
    },
    {
      "cell_type": "markdown",
      "source": [
        "## **PART 03 케라스(Keras)**"
      ],
      "metadata": {
        "id": "5v8sAWMXhNE9"
      }
    },
    {
      "cell_type": "markdown",
      "source": [
        "### **01 딥러닝 준비**\n"
      ],
      "metadata": {
        "id": "vwkBs3P0hR8K"
      }
    },
    {
      "cell_type": "markdown",
      "source": [
        "#### | **1-1 주요 용어**"
      ],
      "metadata": {
        "id": "SZ_3BNOGhntz"
      }
    },
    {
      "cell_type": "markdown",
      "source": [
        "##### **1-1-1 하이퍼파라미터(hyper-parameter)**\n",
        "- 하이퍼파라미터는 딥러닝을 포함하여 머신러닝 모델을 훈련할 때 사용자가 직접 설정해주는 설정 값이다.\n",
        "- 사용자가 어떠한 값을 설정하느냐에 따라 모델의 성능 및 결과가 달라져, 하이퍼파라미터를 설정하는 것은 매우 중요하다. \n",
        "- 사용자가 별도로 설정하지 않으면, 기본값이 자동 적용된다.\n",
        "- 하이퍼파라미터 튜닝 : 하이퍼파라미터의 값을 조절하는 행위\n",
        "- 딥러닝 프로젝트 초기에는 튜닝에 많은 시간을 투자하는 것보다 마지막 단계에 진행하는 것을 추천한다.\n",
        "\n",
        "##### **1-1-2 과소적합 vs. 과대적합(underfitting vs. overfitting)**\n",
        "- 훈련용 데이터를 반복해서 학습하면 모델의 (학습 데이터에서의) 성능이 사람의 예측 성능을 뛰어 넘을 수도 있다. \n",
        "- 그러나 예측할 데이터의 분포가 학습 데이터와 다르거나 학습 데이터가 편향된 데이터였다면 모델의 **예측 성능이 현저히 저하**된다.\n",
        "- **과소적합** : 모델이 충분히 학습되지 않아 예측 성능이 떨어지는 경우\n",
        "- **과대적합** : 학습 데이터를 지나치게 반복 학습하여, 과하게 적합된 상태. 훈련 데이터에 존재하는 노이즈까지 모델에 반영되어, 예측 데이터에서의 성능이 크게 떨어진다.\n",
        "- 이를 해결하기 위해, 훈련 데이터를 잘 구성하고, 훈련 데이터의 일부를 검증 데이터로 활용하여, 검증 성능이 가장 좋은 구간을 최종 모델을 결정한다.\n",
        "\n",
        "##### **1-1-3 에포크(epoch)**\n",
        "- 에포크(epoch) : 딥러닝 모델이 반복 훈련을 할 때 데이터셋을 전부 학습에 사용하는 1회의 훈련 루프(loop)\n",
        "- 사전에 설정된 최대 epoch 횟수까지 반복적으로 훈련한다.\n",
        "\n",
        "##### **1-1-4 손실함수(loss function)**\n",
        "- **손실 함수** : 예측 값과 정답 값의 차이, 즉 오차(Error)\n",
        "- 딥러닝 모델에 적용하는 손실함수는 사용자가 정의해야 한다.\n",
        "- 이진 분류의 경우, `binary_crossentropy` 손실함수를 사용한다. 이는 출력츠으이 활성화 함수가 'sigmoid'인 경우를 말한다.\n",
        "- 다중 분류의 경우, `categorical_crossentropy` 손실함수를 사용하며, 다중 분류의 대상이 되는 클래스가 원-핫 벡터인 경우 사용한다. 그렇지 않다면(예 : 0, 1, 2, 3, $\\cdots$) `sparse_categorical_crossentropy` 손실함수를 사용한다. 출력함수로는 softmax를 이용한다.\n",
        "- 회귀 모델의 경우, MSE나 MAE, Huber 등을 이용한다.\n",
        "- 다음과 같이 손실함수를 지정하여 사용한다.\n",
        "```python\n",
        "import tensorflow as tf\n",
        "# 클래스 형태로 지정\n",
        "tf.keras.losses.BinaryCrossentropy()\n",
        "# 함수 형태로 지정\n",
        "tf.keras. losses.binary_crossentropy\n",
        "```"
      ],
      "metadata": {
        "id": "dBrKcShEm8Ew"
      }
    },
    {
      "cell_type": "markdown",
      "source": [
        "##### **1-1-5 경사 하강법(gradient descent)**\n",
        "- **경사하강법** : 딥러닝 모델 내부의 가중치(weight)에 대한 미분 값을 구하고 목적 함수 값이 낮아지는 방향으로 차감하면서 결국 최소 함수 값을 갖도록 하는 방법이다.\n",
        "- 경사하강법을 넘파이(NumPy)로 직접 구현해보자.\n",
        "  1. 손실 함수를 적용한다.\n",
        "  2. 단순선형회귀 수식이 주어졌을 때, 손실함수를 최소로 하는 w와 b를 경사하강법으로 구하는 과정을 구현한다.\n",
        "  3. 샘플 데이터셋을 생성하는 함수를 정의하고, 임의의 w와 b 값을 지정하여 주어진 x에 대한 y 값을 생성한다. y 값을 생성할 때 약간의 노이즈를 추가한다."
      ],
      "metadata": {
        "id": "unX9rm97vAOf"
      }
    },
    {
      "cell_type": "code",
      "source": [
        "import numpy as np\n",
        "import matplotlib.pyplot as plt\n",
        "\n",
        "# 샘플에 활용할 데이터셋 생성 함수\n",
        "def make_linear(w=0.5, b=0.8, size=50, noise=1.0):\n",
        "    x = np.random.rand(size)\n",
        "    y = w * x + b\n",
        "    noise = np.random.uniform(-abs(noise), abs(noise), size=y.shape) # 약간의 노이즈 추가\n",
        "    yy = y + noise\n",
        "\n",
        "    plt.figure(figsize=(10, 7))\n",
        "    plt.plot(x, y, color='r', label=f'y = {w}*x + {b}')\n",
        "    plt.scatter(x, yy, label='data')\n",
        "    plt.legend(fontsize=20)\n",
        "    plt.show()\n",
        "    print(f'w: {w}, b: {b}')\n",
        "    return x, yy"
      ],
      "metadata": {
        "id": "QnhpSfnsvBvY"
      },
      "execution_count": null,
      "outputs": []
    },
    {
      "cell_type": "code",
      "source": [
        "# 샘플 데이터셋 생성\n",
        "x, y = make_linear(w=0.3, b=0.5, size=100, noise=0.01)"
      ],
      "metadata": {
        "colab": {
          "base_uri": "https://localhost:8080/",
          "height": 445
        },
        "id": "Qn3kZ5bbvPLX",
        "outputId": "44adaa5c-fcb7-4ddb-8475-808b6d07f5ca"
      },
      "execution_count": null,
      "outputs": [
        {
          "output_type": "display_data",
          "data": {
            "text/plain": [
              "<Figure size 720x504 with 1 Axes>"
            ],
            "image/png": "[encoded data removed]"
          },
          "metadata": {
            "needs_background": "light"
          }
        },
        {
          "output_type": "stream",
          "name": "stdout",
          "text": [
            "w: 0.3, b: 0.5\n"
          ]
        }
      ]
    },
    {
      "cell_type": "markdown",
      "source": [
        "- 이제 경사하강법 알고리즘의 핵심인 w와 b에 대한 그래디언트를 구하는 부분을 구현하자.\n",
        "- 손실함수를 w, b에 대한 각각의 편미분 값을 구한 뒤 학습률 계수를 곱하여 이전의 w, b로부터 차감한다."
      ],
      "metadata": {
        "id": "83DXaKvEvUsM"
      }
    },
    {
      "cell_type": "code",
      "source": [
        "# 최대 반복 횟수\n",
        "num_epoch = 1000\n",
        "\n",
        "# 학습율 (learning_rate)\n",
        "learning_rate = 0.005\n",
        "\n",
        "# 에러 기록\n",
        "errors = []\n",
        "\n",
        "# random 한 값으로 w, b를 초기화 합니다.\n",
        "w = np.random.uniform(low=0.0, high=1.0)\n",
        "b = np.random.uniform(low=0.0, high=1.0)\n",
        "\n",
        "for epoch in range(num_epoch):\n",
        "    # Hypothesis 정의\n",
        "    y_hat = w * x + b\n",
        "    \n",
        "    # Loss Function 정의\n",
        "    error = 0.5*((y_hat - y) ** 2).sum()\n",
        "    if error < 0.005:\n",
        "        break\n",
        "    # Gradient 미분 계산\n",
        "    w = w - learning_rate * ((y_hat - y) * x).sum()\n",
        "    b = b - learning_rate * (y_hat - y).sum()\n",
        "    \n",
        "    errors.append(error)\n",
        "\n",
        "    if epoch % 5 == 0:\n",
        "        print(\"{0:2} w = {1:.5f}, b = {2:.5f} error = {3:.5f}\".format(epoch, w, b, error))\n",
        "    \n",
        "print(\"----\" * 15)\n",
        "print(\"{0:2} w = {1:.1f}, b = {2:.1f} error = {3:.5f}\".format(epoch, w, b, error))"
      ],
      "metadata": {
        "colab": {
          "base_uri": "https://localhost:8080/"
        },
        "id": "5pcPfWCKvp5q",
        "outputId": "1bb09d0f-12c0-4c1b-9881-8db0058e12c2"
      },
      "execution_count": null,
      "outputs": [
        {
          "output_type": "stream",
          "name": "stdout",
          "text": [
            " 0 w = 0.69265, b = 0.24165 error = 1.32577\n",
            " 5 w = 0.64535, b = 0.30528 error = 0.55506\n",
            "10 w = 0.59208, b = 0.33542 error = 0.39707\n",
            "15 w = 0.54697, b = 0.36077 error = 0.28418\n",
            "20 w = 0.50884, b = 0.38219 error = 0.20351\n",
            "25 w = 0.47661, b = 0.40030 error = 0.14587\n",
            "30 w = 0.44937, b = 0.41561 error = 0.10468\n",
            "35 w = 0.42633, b = 0.42856 error = 0.07525\n",
            "40 w = 0.40686, b = 0.43950 error = 0.05422\n",
            "45 w = 0.39041, b = 0.44874 error = 0.03919\n",
            "50 w = 0.37649, b = 0.45656 error = 0.02845\n",
            "55 w = 0.36473, b = 0.46317 error = 0.02078\n",
            "60 w = 0.35479, b = 0.46876 error = 0.01529\n",
            "65 w = 0.34639, b = 0.47348 error = 0.01137\n",
            "70 w = 0.33929, b = 0.47747 error = 0.00857\n",
            "75 w = 0.33328, b = 0.48084 error = 0.00657\n",
            "80 w = 0.32820, b = 0.48370 error = 0.00514\n",
            "------------------------------------------------------------\n",
            "81 w = 0.3, b = 0.5 error = 0.00491\n"
          ]
        }
      ]
    },
    {
      "cell_type": "code",
      "source": [
        "# 시각화\n",
        "plt.figure(figsize=(10, 7))\n",
        "plt.plot(errors)\n",
        "plt.xlabel('Epochs')\n",
        "plt.ylabel('Error')\n",
        "plt.show()"
      ],
      "metadata": {
        "colab": {
          "base_uri": "https://localhost:8080/",
          "height": 442
        },
        "id": "SJfYp60WvyqP",
        "outputId": "4a2e85e8-c6a3-4703-be22-37114170789a"
      },
      "execution_count": null,
      "outputs": [
        {
          "output_type": "display_data",
          "data": {
            "text/plain": [
              "<Figure size 720x504 with 1 Axes>"
            ],
            "image/png": "[encoded data removed]"
          },
          "metadata": {
            "needs_background": "light"
          }
        }
      ]
    },
    {
      "cell_type": "markdown",
      "source": [
        "#### | **1-2 딥러닝 프로세스**\n",
        "- 데이터 로드\n",
        "- 데이터 전처리(피처 가공, 피처 선택, 피처 추출)\n",
        "- 데이터 분할\n",
        "- 모델 생성 및 컴파일\n",
        "- 훈련\n",
        "- 검증\n",
        "- 하이퍼파라미터 튜닝 후 모델 생성 및 컴파일 단계부터 검증 단계까지 다시 진행\n",
        "- 예측"
      ],
      "metadata": {
        "id": "aPOZSPhNhrSd"
      }
    },
    {
      "cell_type": "markdown",
      "source": [
        "##### **1-2-1 데이터 전처리**\n",
        "- 모델 훈련 전 데이터를 가공하는 단계\n",
        "- 데이터셋의 종류와 문제 유형에 따라 방법이 다양하다.\n",
        "- 배열의 차원을 변경하거나 스케일을 조정할 수 있다.\n",
        "\n",
        "##### **1-2-2 모델 생성**\n",
        "- 모델의 구조를 정의하고 생성하는 단계\n",
        "- 순차적 구조의 모델은 Sequential API로, 다중 입력 및 출력 등 복잡한 구조를 갖는 모델은 Functional API 혹은 Model Subclassing 방법으로 구현할 수 있다.\n",
        "\n",
        "##### **1-2-3 모델 컴파일**\n",
        "- 생성된 모델 훈련에 사용한 손실함수, 옵티마이저, 평가지표 등을 정의\n",
        "- 모델 인스턴스에 `compile()` 메소드를 적용하고 위의 속성 값을 설정한다.\n",
        "\n",
        "##### **1-2-4 모델 훈련**\n",
        "- 모델을 훈련하는 단계\n",
        "- `fit()` 함수에 모델 훈련에 필요한 훈련 데이터셋, 검증 데이터셋을 입력하고, epoch, batch 크기 및 콜백 함수 등을 지정한다.\n",
        "\n",
        "##### **1-2-5 모델 검증**\n",
        "- 훈련이 완료된 모델을 검증하는 단계\n",
        "- 모델을 훈련할 때 **사용하지 않은** 검증 데이터셋을 모델에 입력하고 평가 지표를 계산한다.\n",
        "- 검증 결과를 바탕으로 다시 모델 생성 단계로 돌아가 모델을 수정하고 재평가하는 과정을 목표 성능에 도달할 때까지 반복한다.\n",
        "\n",
        "##### **1-2-6 모델 예측**\n",
        "- 훈련과 검증이 완료된 모델로 테스트셋에 대해 예측"
      ],
      "metadata": {
        "id": "QgCYmGntwZBI"
      }
    },
    {
      "cell_type": "markdown",
      "source": [
        "### **02 단순 신경망 훈련**"
      ],
      "metadata": {
        "id": "0E4fjDUvhXXo"
      }
    },
    {
      "cell_type": "markdown",
      "source": [
        "#### | **2-1 선형 회귀**\n",
        "- 회귀 분석 : 하나 이상의 독립 변수들이 종속 변수에 미치는 영향을 추정하는 통계 기법\n",
        "- 그 중 단순선형회귀(simple linear regression) 모형은 하나의 X가 Y에 미치는 영향을 추정하며, 1차 함수 관계로 나타낼 수 있다.\n",
        "$$y = ax + b$$\n",
        "- 텐서플로 케라스를 활용하여 딥러닝으로 단순선형회귀 모델을 직접 만들어보자"
      ],
      "metadata": {
        "id": "XVgPuK79htI7"
      }
    },
    {
      "cell_type": "markdown",
      "source": [
        "#### | **2-2 뉴런(Neuron)**\n",
        "- 뉴런은 인공 신경망 모델을 구성하는 하나의 신경을 의미한다.\n",
        "- 노드(node)라고도 한다.\n",
        "- 신경망은 여러 개의 레이어로 이루어져 있으며 1개의 레이어는 1개 이상의 뉴런으로 구성된다."
      ],
      "metadata": {
        "id": "e06fm00phvXd"
      }
    },
    {
      "cell_type": "markdown",
      "source": [
        "#### | **2-3 Dense 레이어**\n",
        "- Dense 레이어는 심층 신경망 모델을 구성하는 가장 기본 레이어이다.\n",
        "- 각 레이어와 레이어 사이에 모든 뉴런이 연결되어 있어 완전 연결층(Fully Connected Layer)라고 부른다.\n",
        "- 다음과 같이 노드의 개수와 활성화 함수를 지정하여 사용할 수 있다.\n",
        "```python\n",
        "import tensorflow as tf\n",
        "# 10개의 노드로 이루어진 Dense 레이어\n",
        "tf.keras.layers.Dense(10)\n",
        "# ReLU 활성화 함수 적용\n",
        "tf.keras.layers.Dense(10, activation='relu')\n",
        "```"
      ],
      "metadata": {
        "id": "0ZA5qiOKhy0F"
      }
    },
    {
      "cell_type": "markdown",
      "source": [
        "#### | **2-4 데이터셋 만들기**\n",
        "- 넘파이의 `arrange()` 메소드를 이용하여 5개의 순차적인 x 데이터를 생성하고 이를 1차 함수인 $y= 3x + 2$에 대입하여 y 데이터 5개를 생성한다."
      ],
      "metadata": {
        "id": "86lQmzbHh3Ub"
      }
    },
    {
      "cell_type": "code",
      "source": [
        "# 샘플 데이터셋 생성\n",
        "x = np.arange(1, 6)\n",
        "\n",
        "# y = 3x + 2\n",
        "y = 3 * x + 2"
      ],
      "metadata": {
        "id": "Vw5FIO2i3mf5"
      },
      "execution_count": null,
      "outputs": []
    },
    {
      "cell_type": "code",
      "source": [
        "print(x)\n",
        "print(y)"
      ],
      "metadata": {
        "colab": {
          "base_uri": "https://localhost:8080/"
        },
        "id": "8mDZ4CYC3s00",
        "outputId": "00651043-6663-4d9e-ccda-be6b92aa69a3"
      },
      "execution_count": null,
      "outputs": [
        {
          "output_type": "stream",
          "name": "stdout",
          "text": [
            "[1 2 3 4 5]\n",
            "[ 5  8 11 14 17]\n"
          ]
        }
      ]
    },
    {
      "cell_type": "markdown",
      "source": [
        "- 생성한 데이터를 그래프로 시각화해보자."
      ],
      "metadata": {
        "id": "ESv-pg_h3xVw"
      }
    },
    {
      "cell_type": "code",
      "source": [
        "# 시각화\n",
        "plt.plot(x, y)\n",
        "plt.title('y = 3x + 2')\n",
        "plt.show()"
      ],
      "metadata": {
        "colab": {
          "base_uri": "https://localhost:8080/",
          "height": 281
        },
        "id": "d1UwpM3R31R1",
        "outputId": "e5cf1ad9-16ae-49a7-8e1f-fcc0313d3eae"
      },
      "execution_count": null,
      "outputs": [
        {
          "output_type": "display_data",
          "data": {
            "text/plain": [
              "<Figure size 432x288 with 1 Axes>"
            ],
            "image/png": "[encoded data removed]"
          },
          "metadata": {
            "needs_background": "light"
          }
        }
      ]
    },
    {
      "cell_type": "markdown",
      "source": [
        "#### | **2-5 Sequential API**\n",
        "- 앞에서 언급한 것처럼 간단한 구조의 딥러닝 모델은 케라스의 Sequantial API를 이용하여 만들 수 있다.\n",
        "- **Sequantial API** : 층을 이어 붙이듯 순서에 맞게 일렬로 연결하는 방식"
      ],
      "metadata": {
        "id": "j2AA1TvNh5-_"
      }
    },
    {
      "cell_type": "markdown",
      "source": [
        "##### **2-5-1 모델 구조**\n",
        "1. **리스트형 정의**\n",
        "  - Sequential 클래스 함수에 파이썬 리스트 형태로 여러 개의 층을 입력한다.\n",
        "  - 앞에 위치한 층부터 연산을 먼저 처리하고 순차적으로 다음 층의 연산을 수행한다.\n",
        "  ```python\n",
        "  import tensorflow as tf\n",
        "  # 리스트형\n",
        "  model = tf.keras.Sequential([\n",
        "          tf.keras.layers.Dense(10),\n",
        "          tf.keras.layers.Dense(5),\n",
        "          tf.keras.layers.Dense(1)\n",
        "          ])\n",
        "  ```\n",
        "2. **add 함수로 레이어 추가**\n",
        "  - Sequential 클래스 객체 생성 후, 모델 객체에 층을 추가하는 방식\n",
        "  - `add()` 메소드는 1개의 층을 추가할 수 있다.\n",
        "  ```python\n",
        "  model = tf.keras.Sequential()\n",
        "  model.add(tf.keras.layers.Dense(10))\n",
        "  model.add(tf.keras.layers.Dense(5))\n",
        "  model.add(tf.keras.layers.Dense(1))\n",
        "  ```\n",
        "\n",
        "##### **2-5-2 단순선형회귀 모델 정의**\n",
        "- 단순선형회귀에서 입력 변수는 1개이기 때문에, Dense 레이어 생성 시 `input_shape=[1]`로 지정한다.\n",
        "- 1개의 뉴런을 가지는 Dense 레이어는 1개의 출력값을 가지므로, 출력값은 y에 대한 모델의 예측 값이다."
      ],
      "metadata": {
        "id": "mFtw30L44Mde"
      }
    },
    {
      "cell_type": "code",
      "source": [
        "import tensorflow as tf\n",
        " \n",
        "model = tf.keras.Sequential([\n",
        "        tf.keras.layers.Dense(1, input_shape=[1])\n",
        "        ])"
      ],
      "metadata": {
        "id": "sjsTRHgx6KzX"
      },
      "execution_count": null,
      "outputs": []
    },
    {
      "cell_type": "markdown",
      "source": [
        "#### | **2-6 모델 요약**\n",
        "- Sequential API로 모델을 만들었따면 `model.summary()`로 모델의 요약을 확인할 수 있다.\n",
        "- 모델의 구조, 층별 노드의 개수 등을 확인할 수 있다."
      ],
      "metadata": {
        "id": "3y9DwrsDh89f"
      }
    },
    {
      "cell_type": "code",
      "source": [
        "model.summary()"
      ],
      "metadata": {
        "colab": {
          "base_uri": "https://localhost:8080/"
        },
        "id": "Fk2QVpfm6SEC",
        "outputId": "5b587381-75a4-4a36-916d-bf36ed16a9ad"
      },
      "execution_count": null,
      "outputs": [
        {
          "output_type": "stream",
          "name": "stdout",
          "text": [
            "Model: \"sequential_1\"\n",
            "_________________________________________________________________\n",
            " Layer (type)                Output Shape              Param #   \n",
            "=================================================================\n",
            " dense_1 (Dense)             (None, 1)                 2         \n",
            "                                                                 \n",
            "=================================================================\n",
            "Total params: 2\n",
            "Trainable params: 2\n",
            "Non-trainable params: 0\n",
            "_________________________________________________________________\n"
          ]
        }
      ]
    },
    {
      "cell_type": "markdown",
      "source": [
        "#### | **2-7 컴파일**\n",
        "- 모델의 훈련 과정에서 적용할 옵티마이저(optimizer), 손실 함수, 그리고 평가지표 등을 정의한다.\n",
        "- 클래스 인스턴스로 지정할 경우, 학습률, 모멘텀 등의 하이퍼 파라미터를 사용자가 직접 지정할 수도 있다."
      ],
      "metadata": {
        "id": "we_lxxeLh-6v"
      }
    },
    {
      "cell_type": "code",
      "source": [
        "# 긴 문자열 지정\n",
        "model.compile(optimizer='sgd', loss='mean_squared_error', \n",
        "              metrics=['mean_squared_error', 'mean_absolute_error'])"
      ],
      "metadata": {
        "id": "9zLkIfYt6izo"
      },
      "execution_count": null,
      "outputs": []
    },
    {
      "cell_type": "code",
      "source": [
        "# 짧은 문자열 지정\n",
        "model.compile(optimizer='sgd', loss='mse', metrics=['mse', 'mae'])"
      ],
      "metadata": {
        "id": "o46bv-pL6l43"
      },
      "execution_count": null,
      "outputs": []
    },
    {
      "cell_type": "code",
      "source": [
        "# 클래스 인스턴스 지정\n",
        "model.compile(optimizer=tf.keras.optimizers.SGD(lr=0.005), \n",
        "              loss=tf.keras.losses.MeanAbsoluteError(), \n",
        "              metrics=[tf.keras.metrics.MeanAbsoluteError(), \n",
        "                       tf.keras.metrics.MeanSquaredError()\n",
        "                       ])"
      ],
      "metadata": {
        "colab": {
          "base_uri": "https://localhost:8080/"
        },
        "id": "wsyWsge26oG_",
        "outputId": "370145de-2633-4870-b2e9-cac90e0f5b6e"
      },
      "execution_count": null,
      "outputs": [
        {
          "output_type": "stream",
          "name": "stderr",
          "text": [
            "/usr/local/lib/python3.7/dist-packages/keras/optimizers/optimizer_v2/gradient_descent.py:108: UserWarning: The `lr` argument is deprecated, use `learning_rate` instead.\n",
            "  super(SGD, self).__init__(name, **kwargs)\n"
          ]
        }
      ]
    },
    {
      "cell_type": "markdown",
      "source": [
        "- 옵티마이저는 확률적 경사하강법, 손실함수는 MSE, 평가 지표는 MAE로 지정하여 모델을 훈련시켜보자."
      ],
      "metadata": {
        "id": "w5G7UQff6uQ1"
      }
    },
    {
      "cell_type": "code",
      "source": [
        "# 컴파일\n",
        "model.compile(optimizer='sgd', loss='mse', metrics=['mae'])"
      ],
      "metadata": {
        "id": "mkIbq7-V60P1"
      },
      "execution_count": null,
      "outputs": []
    },
    {
      "cell_type": "markdown",
      "source": [
        "#### | **2-8 훈련**\n",
        "- 생성된 모델 인스턴스에 `fit()` 메소드를 적용하면, 데이터를 입력하여 모델을 훈련할 수 있다.\n",
        "- **'모델을 훈련한다.'** : 가중치를 업데이트"
      ],
      "metadata": {
        "id": "_AIs6pOMiAZF"
      }
    },
    {
      "cell_type": "code",
      "source": [
        "model.fit(x, y, epochs=5)"
      ],
      "metadata": {
        "colab": {
          "base_uri": "https://localhost:8080/"
        },
        "id": "9JVs_fow7Cec",
        "outputId": "8fed90d5-4ee1-44d0-f7a0-2c9ae24bb905"
      },
      "execution_count": null,
      "outputs": [
        {
          "output_type": "stream",
          "name": "stdout",
          "text": [
            "Epoch 1/5\n",
            "1/1 [==============================] - 1s 546ms/step - loss: 121.6208 - mae: 10.3091\n",
            "Epoch 2/5\n",
            "1/1 [==============================] - 0s 13ms/step - loss: 70.9725 - mae: 7.9149\n",
            "Epoch 3/5\n",
            "1/1 [==============================] - 0s 8ms/step - loss: 41.4566 - mae: 6.0871\n",
            "Epoch 4/5\n",
            "1/1 [==============================] - 0s 9ms/step - loss: 24.2555 - mae: 4.6916\n",
            "Epoch 5/5\n",
            "1/1 [==============================] - 0s 7ms/step - loss: 14.2309 - mae: 3.6262\n"
          ]
        },
        {
          "output_type": "execute_result",
          "data": {
            "text/plain": [
              "<keras.callbacks.History at 0x7f7c2bad0810>"
            ]
          },
          "metadata": {},
          "execution_count": 17
        }
      ]
    },
    {
      "cell_type": "markdown",
      "source": [
        "- 5 epoch의 훈련이 끝난 후, loss는 14.2309, mae는 3.6262를 기록했따.\n",
        "- 위 학습에서는 모델의 예측 오차가 점점 줄어드는 것을 보아, 과소 적합되었을 가능성이 있다.\n",
        "- 이번에는 epoch을 1200으로 지정하여 충분히 훈련시킨다."
      ],
      "metadata": {
        "id": "xt7UBnf87IUg"
      }
    },
    {
      "cell_type": "code",
      "source": [
        "model = tf.keras.Sequential([\n",
        "        tf.keras.layers.Dense(1, input_shape=[1])\n",
        "        ])\n",
        "\n",
        "# 컴파일\n",
        "model.compile(optimizer='sgd', loss='mse', metrics=['mae'])\n",
        "\n",
        "# 훈련\n",
        "history = model.fit(x, y, epochs=1200)"
      ],
      "metadata": {
        "colab": {
          "base_uri": "https://localhost:8080/"
        },
        "id": "6mt8fQgt7cUq",
        "outputId": "693d9bde-0484-4711-ba53-18207d944d34"
      },
      "execution_count": null,
      "outputs": [
        {
          "output_type": "stream",
          "name": "stdout",
          "text": [
            "Epoch 1/1200\n",
            "1/1 [==============================] - 0s 319ms/step - loss: 172.4930 - mae: 12.2184\n",
            "Epoch 2/1200\n",
            "1/1 [==============================] - 0s 9ms/step - loss: 100.5923 - mae: 9.3660\n",
            "Epoch 3/1200\n",
            "1/1 [==============================] - 0s 13ms/step - loss: 58.6917 - mae: 7.1884\n",
            "Epoch 4/1200\n",
            "1/1 [==============================] - 0s 12ms/step - loss: 34.2736 - mae: 5.5259\n",
            "Epoch 5/1200\n",
            "1/1 [==============================] - 0s 12ms/step - loss: 20.0435 - mae: 4.2567\n",
            "Epoch 6/1200\n",
            "1/1 [==============================] - 0s 10ms/step - loss: 11.7504 - mae: 3.2876\n",
            "Epoch 7/1200\n",
            "1/1 [==============================] - 0s 11ms/step - loss: 6.9171 - mae: 2.5478\n",
            "Epoch 8/1200\n",
            "1/1 [==============================] - 0s 10ms/step - loss: 4.1000 - mae: 1.9828\n",
            "Epoch 9/1200\n",
            "1/1 [==============================] - 0s 8ms/step - loss: 2.4579 - mae: 1.5514\n",
            "Epoch 10/1200\n",
            "1/1 [==============================] - 0s 8ms/step - loss: 1.5005 - mae: 1.2220\n",
            "Epoch 11/1200\n",
            "1/1 [==============================] - 0s 7ms/step - loss: 0.9421 - mae: 0.9704\n",
            "Epoch 12/1200\n",
            "1/1 [==============================] - 0s 11ms/step - loss: 0.6162 - mae: 0.7782\n",
            "Epoch 13/1200\n",
            "1/1 [==============================] - 0s 8ms/step - loss: 0.4259 - mae: 0.6313\n",
            "Epoch 14/1200\n",
            "1/1 [==============================] - 0s 8ms/step - loss: 0.3145 - mae: 0.5191\n",
            "Epoch 15/1200\n",
            "1/1 [==============================] - 0s 9ms/step - loss: 0.2492 - mae: 0.4333\n",
            "Epoch 16/1200\n",
            "1/1 [==============================] - 0s 14ms/step - loss: 0.2106 - mae: 0.3760\n",
            "Epoch 17/1200\n",
            "1/1 [==============================] - 0s 7ms/step - loss: 0.1877 - mae: 0.3573\n",
            "Epoch 18/1200\n",
            "1/1 [==============================] - 0s 6ms/step - loss: 0.1740 - mae: 0.3428\n",
            "Epoch 19/1200\n",
            "1/1 [==============================] - 0s 7ms/step - loss: 0.1655 - mae: 0.3315\n",
            "Epoch 20/1200\n",
            "1/1 [==============================] - 0s 7ms/step - loss: 0.1601 - mae: 0.3251\n",
            "Epoch 21/1200\n",
            "1/1 [==============================] - 0s 8ms/step - loss: 0.1566 - mae: 0.3268\n",
            "Epoch 22/1200\n",
            "1/1 [==============================] - 0s 7ms/step - loss: 0.1541 - mae: 0.3278\n",
            "Epoch 23/1200\n",
            "1/1 [==============================] - 0s 8ms/step - loss: 0.1522 - mae: 0.3283\n",
            "Epoch 24/1200\n",
            "1/1 [==============================] - 0s 8ms/step - loss: 0.1507 - mae: 0.3284\n",
            "Epoch 25/1200\n",
            "1/1 [==============================] - 0s 7ms/step - loss: 0.1494 - mae: 0.3282\n",
            "Epoch 26/1200\n",
            "1/1 [==============================] - 0s 23ms/step - loss: 0.1482 - mae: 0.3278\n",
            "Epoch 27/1200\n",
            "1/1 [==============================] - 0s 48ms/step - loss: 0.1471 - mae: 0.3273\n",
            "Epoch 28/1200\n",
            "1/1 [==============================] - 0s 13ms/step - loss: 0.1461 - mae: 0.3266\n",
            "Epoch 29/1200\n",
            "1/1 [==============================] - 0s 10ms/step - loss: 0.1450 - mae: 0.3258\n",
            "Epoch 30/1200\n",
            "1/1 [==============================] - 0s 9ms/step - loss: 0.1440 - mae: 0.3249\n",
            "Epoch 31/1200\n",
            "1/1 [==============================] - 0s 7ms/step - loss: 0.1431 - mae: 0.3240\n",
            "Epoch 32/1200\n",
            "1/1 [==============================] - 0s 6ms/step - loss: 0.1421 - mae: 0.3231\n",
            "Epoch 33/1200\n",
            "1/1 [==============================] - 0s 9ms/step - loss: 0.1411 - mae: 0.3221\n",
            "Epoch 34/1200\n",
            "1/1 [==============================] - 0s 8ms/step - loss: 0.1402 - mae: 0.3211\n",
            "Epoch 35/1200\n",
            "1/1 [==============================] - 0s 9ms/step - loss: 0.1392 - mae: 0.3200\n",
            "Epoch 36/1200\n",
            "1/1 [==============================] - 0s 8ms/step - loss: 0.1383 - mae: 0.3190\n",
            "Epoch 37/1200\n",
            "1/1 [==============================] - 0s 10ms/step - loss: 0.1373 - mae: 0.3180\n",
            "Epoch 38/1200\n",
            "1/1 [==============================] - 0s 7ms/step - loss: 0.1364 - mae: 0.3169\n",
            "Epoch 39/1200\n",
            "1/1 [==============================] - 0s 8ms/step - loss: 0.1355 - mae: 0.3159\n",
            "Epoch 40/1200\n",
            "1/1 [==============================] - 0s 11ms/step - loss: 0.1346 - mae: 0.3148\n",
            "Epoch 41/1200\n",
            "1/1 [==============================] - 0s 9ms/step - loss: 0.1337 - mae: 0.3138\n",
            "Epoch 42/1200\n",
            "1/1 [==============================] - 0s 8ms/step - loss: 0.1328 - mae: 0.3127\n",
            "Epoch 43/1200\n",
            "1/1 [==============================] - 0s 28ms/step - loss: 0.1319 - mae: 0.3117\n",
            "Epoch 44/1200\n",
            "1/1 [==============================] - 0s 16ms/step - loss: 0.1310 - mae: 0.3106\n",
            "Epoch 45/1200\n",
            "1/1 [==============================] - 0s 9ms/step - loss: 0.1301 - mae: 0.3096\n",
            "Epoch 46/1200\n",
            "1/1 [==============================] - 0s 10ms/step - loss: 0.1292 - mae: 0.3085\n",
            "Epoch 47/1200\n",
            "1/1 [==============================] - 0s 13ms/step - loss: 0.1283 - mae: 0.3075\n",
            "Epoch 48/1200\n",
            "1/1 [==============================] - 0s 9ms/step - loss: 0.1275 - mae: 0.3064\n",
            "Epoch 49/1200\n",
            "1/1 [==============================] - 0s 6ms/step - loss: 0.1266 - mae: 0.3054\n",
            "Epoch 50/1200\n",
            "1/1 [==============================] - 0s 9ms/step - loss: 0.1258 - mae: 0.3044\n",
            "Epoch 51/1200\n",
            "1/1 [==============================] - 0s 11ms/step - loss: 0.1249 - mae: 0.3034\n",
            "Epoch 52/1200\n",
            "1/1 [==============================] - 0s 6ms/step - loss: 0.1241 - mae: 0.3023\n",
            "Epoch 53/1200\n",
            "1/1 [==============================] - 0s 6ms/step - loss: 0.1232 - mae: 0.3013\n",
            "Epoch 54/1200\n",
            "1/1 [==============================] - 0s 6ms/step - loss: 0.1224 - mae: 0.3003\n",
            "Epoch 55/1200\n",
            "1/1 [==============================] - 0s 8ms/step - loss: 0.1216 - mae: 0.2993\n",
            "Epoch 56/1200\n",
            "1/1 [==============================] - 0s 10ms/step - loss: 0.1208 - mae: 0.2983\n",
            "Epoch 57/1200\n",
            "1/1 [==============================] - 0s 7ms/step - loss: 0.1199 - mae: 0.2973\n",
            "Epoch 58/1200\n",
            "1/1 [==============================] - 0s 7ms/step - loss: 0.1191 - mae: 0.2963\n",
            "Epoch 59/1200\n",
            "1/1 [==============================] - 0s 8ms/step - loss: 0.1183 - mae: 0.2952\n",
            "Epoch 60/1200\n",
            "1/1 [==============================] - 0s 11ms/step - loss: 0.1175 - mae: 0.2943\n",
            "Epoch 61/1200\n",
            "1/1 [==============================] - 0s 8ms/step - loss: 0.1167 - mae: 0.2933\n",
            "Epoch 62/1200\n",
            "1/1 [==============================] - 0s 14ms/step - loss: 0.1159 - mae: 0.2923\n",
            "Epoch 63/1200\n",
            "1/1 [==============================] - 0s 9ms/step - loss: 0.1152 - mae: 0.2913\n",
            "Epoch 64/1200\n",
            "1/1 [==============================] - 0s 6ms/step - loss: 0.1144 - mae: 0.2903\n",
            "Epoch 65/1200\n",
            "1/1 [==============================] - 0s 11ms/step - loss: 0.1136 - mae: 0.2893\n",
            "Epoch 66/1200\n",
            "1/1 [==============================] - 0s 6ms/step - loss: 0.1128 - mae: 0.2883\n",
            "Epoch 67/1200\n",
            "1/1 [==============================] - 0s 6ms/step - loss: 0.1121 - mae: 0.2874\n",
            "Epoch 68/1200\n",
            "1/1 [==============================] - 0s 13ms/step - loss: 0.1113 - mae: 0.2864\n",
            "Epoch 69/1200\n",
            "1/1 [==============================] - 0s 7ms/step - loss: 0.1106 - mae: 0.2854\n",
            "Epoch 70/1200\n",
            "1/1 [==============================] - 0s 7ms/step - loss: 0.1098 - mae: 0.2845\n",
            "Epoch 71/1200\n",
            "1/1 [==============================] - 0s 11ms/step - loss: 0.1091 - mae: 0.2835\n",
            "Epoch 72/1200\n",
            "1/1 [==============================] - 0s 7ms/step - loss: 0.1084 - mae: 0.2825\n",
            "Epoch 73/1200\n",
            "1/1 [==============================] - 0s 7ms/step - loss: 0.1076 - mae: 0.2816\n",
            "Epoch 74/1200\n",
            "1/1 [==============================] - 0s 7ms/step - loss: 0.1069 - mae: 0.2806\n",
            "Epoch 75/1200\n",
            "1/1 [==============================] - 0s 12ms/step - loss: 0.1062 - mae: 0.2797\n",
            "Epoch 76/1200\n",
            "1/1 [==============================] - 0s 7ms/step - loss: 0.1055 - mae: 0.2787\n",
            "Epoch 77/1200\n",
            "1/1 [==============================] - 0s 7ms/step - loss: 0.1047 - mae: 0.2778\n",
            "Epoch 78/1200\n",
            "1/1 [==============================] - 0s 6ms/step - loss: 0.1040 - mae: 0.2768\n",
            "Epoch 79/1200\n",
            "1/1 [==============================] - 0s 11ms/step - loss: 0.1033 - mae: 0.2759\n",
            "Epoch 80/1200\n",
            "1/1 [==============================] - 0s 6ms/step - loss: 0.1026 - mae: 0.2750\n",
            "Epoch 81/1200\n",
            "1/1 [==============================] - 0s 8ms/step - loss: 0.1019 - mae: 0.2741\n",
            "Epoch 82/1200\n",
            "1/1 [==============================] - 0s 10ms/step - loss: 0.1013 - mae: 0.2731\n",
            "Epoch 83/1200\n",
            "1/1 [==============================] - 0s 8ms/step - loss: 0.1006 - mae: 0.2722\n",
            "Epoch 84/1200\n",
            "1/1 [==============================] - 0s 8ms/step - loss: 0.0999 - mae: 0.2713\n",
            "Epoch 85/1200\n",
            "1/1 [==============================] - 0s 6ms/step - loss: 0.0992 - mae: 0.2704\n",
            "Epoch 86/1200\n",
            "1/1 [==============================] - 0s 8ms/step - loss: 0.0985 - mae: 0.2694\n",
            "Epoch 87/1200\n",
            "1/1 [==============================] - 0s 102ms/step - loss: 0.0979 - mae: 0.2685\n",
            "Epoch 88/1200\n",
            "1/1 [==============================] - 0s 11ms/step - loss: 0.0972 - mae: 0.2676\n",
            "Epoch 89/1200\n",
            "1/1 [==============================] - 0s 10ms/step - loss: 0.0966 - mae: 0.2667\n",
            "Epoch 90/1200\n",
            "1/1 [==============================] - 0s 11ms/step - loss: 0.0959 - mae: 0.2658\n",
            "Epoch 91/1200\n",
            "1/1 [==============================] - 0s 7ms/step - loss: 0.0953 - mae: 0.2649\n",
            "Epoch 92/1200\n",
            "1/1 [==============================] - 0s 7ms/step - loss: 0.0946 - mae: 0.2640\n",
            "Epoch 93/1200\n",
            "1/1 [==============================] - 0s 9ms/step - loss: 0.0940 - mae: 0.2631\n",
            "Epoch 94/1200\n",
            "1/1 [==============================] - 0s 8ms/step - loss: 0.0934 - mae: 0.2622\n",
            "Epoch 95/1200\n",
            "1/1 [==============================] - 0s 10ms/step - loss: 0.0927 - mae: 0.2614\n",
            "Epoch 96/1200\n",
            "1/1 [==============================] - 0s 7ms/step - loss: 0.0921 - mae: 0.2605\n",
            "Epoch 97/1200\n",
            "1/1 [==============================] - 0s 7ms/step - loss: 0.0915 - mae: 0.2596\n",
            "Epoch 98/1200\n",
            "1/1 [==============================] - 0s 7ms/step - loss: 0.0909 - mae: 0.2587\n",
            "Epoch 99/1200\n",
            "1/1 [==============================] - 0s 7ms/step - loss: 0.0902 - mae: 0.2578\n",
            "Epoch 100/1200\n",
            "1/1 [==============================] - 0s 9ms/step - loss: 0.0896 - mae: 0.2570\n",
            "Epoch 101/1200\n",
            "1/1 [==============================] - 0s 7ms/step - loss: 0.0890 - mae: 0.2561\n",
            "Epoch 102/1200\n",
            "1/1 [==============================] - 0s 7ms/step - loss: 0.0884 - mae: 0.2552\n",
            "Epoch 103/1200\n",
            "1/1 [==============================] - 0s 7ms/step - loss: 0.0878 - mae: 0.2544\n",
            "Epoch 104/1200\n",
            "1/1 [==============================] - 0s 12ms/step - loss: 0.0872 - mae: 0.2535\n",
            "Epoch 105/1200\n",
            "1/1 [==============================] - 0s 8ms/step - loss: 0.0866 - mae: 0.2527\n",
            "Epoch 106/1200\n",
            "1/1 [==============================] - 0s 10ms/step - loss: 0.0861 - mae: 0.2518\n",
            "Epoch 107/1200\n",
            "1/1 [==============================] - 0s 12ms/step - loss: 0.0855 - mae: 0.2510\n",
            "Epoch 108/1200\n",
            "1/1 [==============================] - 0s 8ms/step - loss: 0.0849 - mae: 0.2501\n",
            "Epoch 109/1200\n",
            "1/1 [==============================] - 0s 7ms/step - loss: 0.0843 - mae: 0.2493\n",
            "Epoch 110/1200\n",
            "1/1 [==============================] - 0s 7ms/step - loss: 0.0838 - mae: 0.2484\n",
            "Epoch 111/1200\n",
            "1/1 [==============================] - 0s 9ms/step - loss: 0.0832 - mae: 0.2476\n",
            "Epoch 112/1200\n",
            "1/1 [==============================] - 0s 7ms/step - loss: 0.0826 - mae: 0.2467\n",
            "Epoch 113/1200\n",
            "1/1 [==============================] - 0s 7ms/step - loss: 0.0821 - mae: 0.2459\n",
            "Epoch 114/1200\n",
            "1/1 [==============================] - 0s 9ms/step - loss: 0.0815 - mae: 0.2451\n",
            "Epoch 115/1200\n",
            "1/1 [==============================] - 0s 8ms/step - loss: 0.0810 - mae: 0.2442\n",
            "Epoch 116/1200\n",
            "1/1 [==============================] - 0s 11ms/step - loss: 0.0804 - mae: 0.2434\n",
            "Epoch 117/1200\n",
            "1/1 [==============================] - 0s 7ms/step - loss: 0.0799 - mae: 0.2426\n",
            "Epoch 118/1200\n",
            "1/1 [==============================] - 0s 7ms/step - loss: 0.0793 - mae: 0.2418\n",
            "Epoch 119/1200\n",
            "1/1 [==============================] - 0s 8ms/step - loss: 0.0788 - mae: 0.2410\n",
            "Epoch 120/1200\n",
            "1/1 [==============================] - 0s 8ms/step - loss: 0.0783 - mae: 0.2401\n",
            "Epoch 121/1200\n",
            "1/1 [==============================] - 0s 8ms/step - loss: 0.0777 - mae: 0.2393\n",
            "Epoch 122/1200\n",
            "1/1 [==============================] - 0s 7ms/step - loss: 0.0772 - mae: 0.2385\n",
            "Epoch 123/1200\n",
            "1/1 [==============================] - 0s 10ms/step - loss: 0.0767 - mae: 0.2377\n",
            "Epoch 124/1200\n",
            "1/1 [==============================] - 0s 6ms/step - loss: 0.0762 - mae: 0.2369\n",
            "Epoch 125/1200\n",
            "1/1 [==============================] - 0s 7ms/step - loss: 0.0757 - mae: 0.2361\n",
            "Epoch 126/1200\n",
            "1/1 [==============================] - 0s 7ms/step - loss: 0.0752 - mae: 0.2353\n",
            "Epoch 127/1200\n",
            "1/1 [==============================] - 0s 7ms/step - loss: 0.0747 - mae: 0.2345\n",
            "Epoch 128/1200\n",
            "1/1 [==============================] - 0s 7ms/step - loss: 0.0741 - mae: 0.2337\n",
            "Epoch 129/1200\n",
            "1/1 [==============================] - 0s 7ms/step - loss: 0.0736 - mae: 0.2329\n",
            "Epoch 130/1200\n",
            "1/1 [==============================] - 0s 66ms/step - loss: 0.0732 - mae: 0.2321\n",
            "Epoch 131/1200\n",
            "1/1 [==============================] - 0s 7ms/step - loss: 0.0727 - mae: 0.2314\n",
            "Epoch 132/1200\n",
            "1/1 [==============================] - 0s 7ms/step - loss: 0.0722 - mae: 0.2306\n",
            "Epoch 133/1200\n",
            "1/1 [==============================] - 0s 7ms/step - loss: 0.0717 - mae: 0.2298\n",
            "Epoch 134/1200\n",
            "1/1 [==============================] - 0s 24ms/step - loss: 0.0712 - mae: 0.2290\n",
            "Epoch 135/1200\n",
            "1/1 [==============================] - 0s 46ms/step - loss: 0.0707 - mae: 0.2282\n",
            "Epoch 136/1200\n",
            "1/1 [==============================] - 0s 10ms/step - loss: 0.0702 - mae: 0.2275\n",
            "Epoch 137/1200\n",
            "1/1 [==============================] - 0s 10ms/step - loss: 0.0698 - mae: 0.2267\n",
            "Epoch 138/1200\n",
            "1/1 [==============================] - 0s 9ms/step - loss: 0.0693 - mae: 0.2259\n",
            "Epoch 139/1200\n",
            "1/1 [==============================] - 0s 10ms/step - loss: 0.0688 - mae: 0.2252\n",
            "Epoch 140/1200\n",
            "1/1 [==============================] - 0s 8ms/step - loss: 0.0684 - mae: 0.2244\n",
            "Epoch 141/1200\n",
            "1/1 [==============================] - 0s 8ms/step - loss: 0.0679 - mae: 0.2237\n",
            "Epoch 142/1200\n",
            "1/1 [==============================] - 0s 10ms/step - loss: 0.0674 - mae: 0.2229\n",
            "Epoch 143/1200\n",
            "1/1 [==============================] - 0s 12ms/step - loss: 0.0670 - mae: 0.2221\n",
            "Epoch 144/1200\n",
            "1/1 [==============================] - 0s 22ms/step - loss: 0.0665 - mae: 0.2214\n",
            "Epoch 145/1200\n",
            "1/1 [==============================] - 0s 10ms/step - loss: 0.0661 - mae: 0.2206\n",
            "Epoch 146/1200\n",
            "1/1 [==============================] - 0s 10ms/step - loss: 0.0656 - mae: 0.2199\n",
            "Epoch 147/1200\n",
            "1/1 [==============================] - 0s 6ms/step - loss: 0.0652 - mae: 0.2192\n",
            "Epoch 148/1200\n",
            "1/1 [==============================] - 0s 8ms/step - loss: 0.0648 - mae: 0.2184\n",
            "Epoch 149/1200\n",
            "1/1 [==============================] - 0s 12ms/step - loss: 0.0643 - mae: 0.2177\n",
            "Epoch 150/1200\n",
            "1/1 [==============================] - 0s 9ms/step - loss: 0.0639 - mae: 0.2169\n",
            "Epoch 151/1200\n",
            "1/1 [==============================] - 0s 11ms/step - loss: 0.0635 - mae: 0.2162\n",
            "Epoch 152/1200\n",
            "1/1 [==============================] - 0s 10ms/step - loss: 0.0630 - mae: 0.2155\n",
            "Epoch 153/1200\n",
            "1/1 [==============================] - 0s 6ms/step - loss: 0.0626 - mae: 0.2147\n",
            "Epoch 154/1200\n",
            "1/1 [==============================] - 0s 6ms/step - loss: 0.0622 - mae: 0.2140\n",
            "Epoch 155/1200\n",
            "1/1 [==============================] - 0s 11ms/step - loss: 0.0618 - mae: 0.2133\n",
            "Epoch 156/1200\n",
            "1/1 [==============================] - 0s 6ms/step - loss: 0.0613 - mae: 0.2126\n",
            "Epoch 157/1200\n",
            "1/1 [==============================] - 0s 6ms/step - loss: 0.0609 - mae: 0.2119\n",
            "Epoch 158/1200\n",
            "1/1 [==============================] - 0s 8ms/step - loss: 0.0605 - mae: 0.2111\n",
            "Epoch 159/1200\n",
            "1/1 [==============================] - 0s 6ms/step - loss: 0.0601 - mae: 0.2104\n",
            "Epoch 160/1200\n",
            "1/1 [==============================] - 0s 6ms/step - loss: 0.0597 - mae: 0.2097\n",
            "Epoch 161/1200\n",
            "1/1 [==============================] - 0s 6ms/step - loss: 0.0593 - mae: 0.2090\n",
            "Epoch 162/1200\n",
            "1/1 [==============================] - 0s 6ms/step - loss: 0.0589 - mae: 0.2083\n",
            "Epoch 163/1200\n",
            "1/1 [==============================] - 0s 6ms/step - loss: 0.0585 - mae: 0.2076\n",
            "Epoch 164/1200\n",
            "1/1 [==============================] - 0s 7ms/step - loss: 0.0581 - mae: 0.2069\n",
            "Epoch 165/1200\n",
            "1/1 [==============================] - 0s 6ms/step - loss: 0.0577 - mae: 0.2062\n",
            "Epoch 166/1200\n",
            "1/1 [==============================] - 0s 6ms/step - loss: 0.0573 - mae: 0.2055\n",
            "Epoch 167/1200\n",
            "1/1 [==============================] - 0s 5ms/step - loss: 0.0569 - mae: 0.2048\n",
            "Epoch 168/1200\n",
            "1/1 [==============================] - 0s 8ms/step - loss: 0.0566 - mae: 0.2041\n",
            "Epoch 169/1200\n",
            "1/1 [==============================] - 0s 6ms/step - loss: 0.0562 - mae: 0.2034\n",
            "Epoch 170/1200\n",
            "1/1 [==============================] - 0s 7ms/step - loss: 0.0558 - mae: 0.2027\n",
            "Epoch 171/1200\n",
            "1/1 [==============================] - 0s 6ms/step - loss: 0.0554 - mae: 0.2020\n",
            "Epoch 172/1200\n",
            "1/1 [==============================] - 0s 22ms/step - loss: 0.0550 - mae: 0.2014\n",
            "Epoch 173/1200\n",
            "1/1 [==============================] - 0s 6ms/step - loss: 0.0547 - mae: 0.2007\n",
            "Epoch 174/1200\n",
            "1/1 [==============================] - 0s 6ms/step - loss: 0.0543 - mae: 0.2000\n",
            "Epoch 175/1200\n",
            "1/1 [==============================] - 0s 11ms/step - loss: 0.0539 - mae: 0.1993\n",
            "Epoch 176/1200\n",
            "1/1 [==============================] - 0s 6ms/step - loss: 0.0536 - mae: 0.1987\n",
            "Epoch 177/1200\n",
            "1/1 [==============================] - 0s 6ms/step - loss: 0.0532 - mae: 0.1980\n",
            "Epoch 178/1200\n",
            "1/1 [==============================] - 0s 6ms/step - loss: 0.0528 - mae: 0.1973\n",
            "Epoch 179/1200\n",
            "1/1 [==============================] - 0s 7ms/step - loss: 0.0525 - mae: 0.1966\n",
            "Epoch 180/1200\n",
            "1/1 [==============================] - 0s 6ms/step - loss: 0.0521 - mae: 0.1960\n",
            "Epoch 181/1200\n",
            "1/1 [==============================] - 0s 7ms/step - loss: 0.0518 - mae: 0.1953\n",
            "Epoch 182/1200\n",
            "1/1 [==============================] - 0s 6ms/step - loss: 0.0514 - mae: 0.1947\n",
            "Epoch 183/1200\n",
            "1/1 [==============================] - 0s 6ms/step - loss: 0.0511 - mae: 0.1940\n",
            "Epoch 184/1200\n",
            "1/1 [==============================] - 0s 6ms/step - loss: 0.0507 - mae: 0.1933\n",
            "Epoch 185/1200\n",
            "1/1 [==============================] - 0s 9ms/step - loss: 0.0504 - mae: 0.1927\n",
            "Epoch 186/1200\n",
            "1/1 [==============================] - 0s 11ms/step - loss: 0.0501 - mae: 0.1920\n",
            "Epoch 187/1200\n",
            "1/1 [==============================] - 0s 8ms/step - loss: 0.0497 - mae: 0.1914\n",
            "Epoch 188/1200\n",
            "1/1 [==============================] - 0s 6ms/step - loss: 0.0494 - mae: 0.1907\n",
            "Epoch 189/1200\n",
            "1/1 [==============================] - 0s 7ms/step - loss: 0.0491 - mae: 0.1901\n",
            "Epoch 190/1200\n",
            "1/1 [==============================] - 0s 6ms/step - loss: 0.0487 - mae: 0.1895\n",
            "Epoch 191/1200\n",
            "1/1 [==============================] - 0s 12ms/step - loss: 0.0484 - mae: 0.1888\n",
            "Epoch 192/1200\n",
            "1/1 [==============================] - 0s 6ms/step - loss: 0.0481 - mae: 0.1882\n",
            "Epoch 193/1200\n",
            "1/1 [==============================] - 0s 6ms/step - loss: 0.0477 - mae: 0.1875\n",
            "Epoch 194/1200\n",
            "1/1 [==============================] - 0s 7ms/step - loss: 0.0474 - mae: 0.1869\n",
            "Epoch 195/1200\n",
            "1/1 [==============================] - 0s 9ms/step - loss: 0.0471 - mae: 0.1863\n",
            "Epoch 196/1200\n",
            "1/1 [==============================] - 0s 8ms/step - loss: 0.0468 - mae: 0.1856\n",
            "Epoch 197/1200\n",
            "1/1 [==============================] - 0s 7ms/step - loss: 0.0465 - mae: 0.1850\n",
            "Epoch 198/1200\n",
            "1/1 [==============================] - 0s 8ms/step - loss: 0.0462 - mae: 0.1844\n",
            "Epoch 199/1200\n",
            "1/1 [==============================] - 0s 43ms/step - loss: 0.0458 - mae: 0.1838\n",
            "Epoch 200/1200\n",
            "1/1 [==============================] - 0s 13ms/step - loss: 0.0455 - mae: 0.1831\n",
            "Epoch 201/1200\n",
            "1/1 [==============================] - 0s 5ms/step - loss: 0.0452 - mae: 0.1825\n",
            "Epoch 202/1200\n",
            "1/1 [==============================] - 0s 6ms/step - loss: 0.0449 - mae: 0.1819\n",
            "Epoch 203/1200\n",
            "1/1 [==============================] - 0s 8ms/step - loss: 0.0446 - mae: 0.1813\n",
            "Epoch 204/1200\n",
            "1/1 [==============================] - 0s 9ms/step - loss: 0.0443 - mae: 0.1807\n",
            "Epoch 205/1200\n",
            "1/1 [==============================] - 0s 11ms/step - loss: 0.0440 - mae: 0.1801\n",
            "Epoch 206/1200\n",
            "1/1 [==============================] - 0s 7ms/step - loss: 0.0437 - mae: 0.1795\n",
            "Epoch 207/1200\n",
            "1/1 [==============================] - 0s 10ms/step - loss: 0.0434 - mae: 0.1789\n",
            "Epoch 208/1200\n",
            "1/1 [==============================] - 0s 10ms/step - loss: 0.0431 - mae: 0.1783\n",
            "Epoch 209/1200\n",
            "1/1 [==============================] - 0s 9ms/step - loss: 0.0428 - mae: 0.1776\n",
            "Epoch 210/1200\n",
            "1/1 [==============================] - 0s 9ms/step - loss: 0.0425 - mae: 0.1770\n",
            "Epoch 211/1200\n",
            "1/1 [==============================] - 0s 6ms/step - loss: 0.0423 - mae: 0.1765\n",
            "Epoch 212/1200\n",
            "1/1 [==============================] - 0s 5ms/step - loss: 0.0420 - mae: 0.1759\n",
            "Epoch 213/1200\n",
            "1/1 [==============================] - 0s 5ms/step - loss: 0.0417 - mae: 0.1753\n",
            "Epoch 214/1200\n",
            "1/1 [==============================] - 0s 5ms/step - loss: 0.0414 - mae: 0.1747\n",
            "Epoch 215/1200\n",
            "1/1 [==============================] - 0s 9ms/step - loss: 0.0411 - mae: 0.1741\n",
            "Epoch 216/1200\n",
            "1/1 [==============================] - 0s 5ms/step - loss: 0.0409 - mae: 0.1735\n",
            "Epoch 217/1200\n",
            "1/1 [==============================] - 0s 5ms/step - loss: 0.0406 - mae: 0.1729\n",
            "Epoch 218/1200\n",
            "1/1 [==============================] - 0s 26ms/step - loss: 0.0403 - mae: 0.1723\n",
            "Epoch 219/1200\n",
            "1/1 [==============================] - 0s 10ms/step - loss: 0.0400 - mae: 0.1717\n",
            "Epoch 220/1200\n",
            "1/1 [==============================] - 0s 9ms/step - loss: 0.0398 - mae: 0.1712\n",
            "Epoch 221/1200\n",
            "1/1 [==============================] - 0s 20ms/step - loss: 0.0395 - mae: 0.1706\n",
            "Epoch 222/1200\n",
            "1/1 [==============================] - 0s 10ms/step - loss: 0.0392 - mae: 0.1700\n",
            "Epoch 223/1200\n",
            "1/1 [==============================] - 0s 9ms/step - loss: 0.0390 - mae: 0.1694\n",
            "Epoch 224/1200\n",
            "1/1 [==============================] - 0s 8ms/step - loss: 0.0387 - mae: 0.1689\n",
            "Epoch 225/1200\n",
            "1/1 [==============================] - 0s 12ms/step - loss: 0.0384 - mae: 0.1683\n",
            "Epoch 226/1200\n",
            "1/1 [==============================] - 0s 15ms/step - loss: 0.0382 - mae: 0.1677\n",
            "Epoch 227/1200\n",
            "1/1 [==============================] - 0s 12ms/step - loss: 0.0379 - mae: 0.1671\n",
            "Epoch 228/1200\n",
            "1/1 [==============================] - 0s 11ms/step - loss: 0.0377 - mae: 0.1666\n",
            "Epoch 229/1200\n",
            "1/1 [==============================] - 0s 14ms/step - loss: 0.0374 - mae: 0.1660\n",
            "Epoch 230/1200\n",
            "1/1 [==============================] - 0s 13ms/step - loss: 0.0372 - mae: 0.1655\n",
            "Epoch 231/1200\n",
            "1/1 [==============================] - 0s 11ms/step - loss: 0.0369 - mae: 0.1649\n",
            "Epoch 232/1200\n",
            "1/1 [==============================] - 0s 10ms/step - loss: 0.0367 - mae: 0.1643\n",
            "Epoch 233/1200\n",
            "1/1 [==============================] - 0s 13ms/step - loss: 0.0364 - mae: 0.1638\n",
            "Epoch 234/1200\n",
            "1/1 [==============================] - 0s 10ms/step - loss: 0.0362 - mae: 0.1632\n",
            "Epoch 235/1200\n",
            "1/1 [==============================] - 0s 11ms/step - loss: 0.0359 - mae: 0.1627\n",
            "Epoch 236/1200\n",
            "1/1 [==============================] - 0s 9ms/step - loss: 0.0357 - mae: 0.1621\n",
            "Epoch 237/1200\n",
            "1/1 [==============================] - 0s 11ms/step - loss: 0.0354 - mae: 0.1616\n",
            "Epoch 238/1200\n",
            "1/1 [==============================] - 0s 10ms/step - loss: 0.0352 - mae: 0.1610\n",
            "Epoch 239/1200\n",
            "1/1 [==============================] - 0s 14ms/step - loss: 0.0350 - mae: 0.1605\n",
            "Epoch 240/1200\n",
            "1/1 [==============================] - 0s 13ms/step - loss: 0.0347 - mae: 0.1599\n",
            "Epoch 241/1200\n",
            "1/1 [==============================] - 0s 12ms/step - loss: 0.0345 - mae: 0.1594\n",
            "Epoch 242/1200\n",
            "1/1 [==============================] - 0s 18ms/step - loss: 0.0343 - mae: 0.1589\n",
            "Epoch 243/1200\n",
            "1/1 [==============================] - 0s 10ms/step - loss: 0.0340 - mae: 0.1583\n",
            "Epoch 244/1200\n",
            "1/1 [==============================] - 0s 9ms/step - loss: 0.0338 - mae: 0.1578\n",
            "Epoch 245/1200\n",
            "1/1 [==============================] - 0s 11ms/step - loss: 0.0336 - mae: 0.1573\n",
            "Epoch 246/1200\n",
            "1/1 [==============================] - 0s 13ms/step - loss: 0.0333 - mae: 0.1567\n",
            "Epoch 247/1200\n",
            "1/1 [==============================] - 0s 13ms/step - loss: 0.0331 - mae: 0.1562\n",
            "Epoch 248/1200\n",
            "1/1 [==============================] - 0s 11ms/step - loss: 0.0329 - mae: 0.1557\n",
            "Epoch 249/1200\n",
            "1/1 [==============================] - 0s 10ms/step - loss: 0.0327 - mae: 0.1551\n",
            "Epoch 250/1200\n",
            "1/1 [==============================] - 0s 16ms/step - loss: 0.0325 - mae: 0.1546\n",
            "Epoch 251/1200\n",
            "1/1 [==============================] - 0s 10ms/step - loss: 0.0322 - mae: 0.1541\n",
            "Epoch 252/1200\n",
            "1/1 [==============================] - 0s 16ms/step - loss: 0.0320 - mae: 0.1536\n",
            "Epoch 253/1200\n",
            "1/1 [==============================] - 0s 14ms/step - loss: 0.0318 - mae: 0.1531\n",
            "Epoch 254/1200\n",
            "1/1 [==============================] - 0s 84ms/step - loss: 0.0316 - mae: 0.1525\n",
            "Epoch 255/1200\n",
            "1/1 [==============================] - 0s 8ms/step - loss: 0.0314 - mae: 0.1520\n",
            "Epoch 256/1200\n",
            "1/1 [==============================] - 0s 13ms/step - loss: 0.0312 - mae: 0.1515\n",
            "Epoch 257/1200\n",
            "1/1 [==============================] - 0s 16ms/step - loss: 0.0309 - mae: 0.1510\n",
            "Epoch 258/1200\n",
            "1/1 [==============================] - 0s 9ms/step - loss: 0.0307 - mae: 0.1505\n",
            "Epoch 259/1200\n",
            "1/1 [==============================] - 0s 8ms/step - loss: 0.0305 - mae: 0.1500\n",
            "Epoch 260/1200\n",
            "1/1 [==============================] - 0s 14ms/step - loss: 0.0303 - mae: 0.1495\n",
            "Epoch 261/1200\n",
            "1/1 [==============================] - 0s 15ms/step - loss: 0.0301 - mae: 0.1490\n",
            "Epoch 262/1200\n",
            "1/1 [==============================] - 0s 17ms/step - loss: 0.0299 - mae: 0.1485\n",
            "Epoch 263/1200\n",
            "1/1 [==============================] - 0s 14ms/step - loss: 0.0297 - mae: 0.1480\n",
            "Epoch 264/1200\n",
            "1/1 [==============================] - 0s 11ms/step - loss: 0.0295 - mae: 0.1475\n",
            "Epoch 265/1200\n",
            "1/1 [==============================] - 0s 7ms/step - loss: 0.0293 - mae: 0.1470\n",
            "Epoch 266/1200\n",
            "1/1 [==============================] - 0s 7ms/step - loss: 0.0291 - mae: 0.1465\n",
            "Epoch 267/1200\n",
            "1/1 [==============================] - 0s 7ms/step - loss: 0.0289 - mae: 0.1460\n",
            "Epoch 268/1200\n",
            "1/1 [==============================] - 0s 7ms/step - loss: 0.0287 - mae: 0.1455\n",
            "Epoch 269/1200\n",
            "1/1 [==============================] - 0s 7ms/step - loss: 0.0285 - mae: 0.1450\n",
            "Epoch 270/1200\n",
            "1/1 [==============================] - 0s 10ms/step - loss: 0.0283 - mae: 0.1445\n",
            "Epoch 271/1200\n",
            "1/1 [==============================] - 0s 7ms/step - loss: 0.0281 - mae: 0.1440\n",
            "Epoch 272/1200\n",
            "1/1 [==============================] - 0s 9ms/step - loss: 0.0280 - mae: 0.1435\n",
            "Epoch 273/1200\n",
            "1/1 [==============================] - 0s 28ms/step - loss: 0.0278 - mae: 0.1430\n",
            "Epoch 274/1200\n",
            "1/1 [==============================] - 0s 11ms/step - loss: 0.0276 - mae: 0.1425\n",
            "Epoch 275/1200\n",
            "1/1 [==============================] - 0s 17ms/step - loss: 0.0274 - mae: 0.1421\n",
            "Epoch 276/1200\n",
            "1/1 [==============================] - 0s 11ms/step - loss: 0.0272 - mae: 0.1416\n",
            "Epoch 277/1200\n",
            "1/1 [==============================] - 0s 21ms/step - loss: 0.0270 - mae: 0.1411\n",
            "Epoch 278/1200\n",
            "1/1 [==============================] - 0s 12ms/step - loss: 0.0268 - mae: 0.1406\n",
            "Epoch 279/1200\n",
            "1/1 [==============================] - 0s 33ms/step - loss: 0.0267 - mae: 0.1402\n",
            "Epoch 280/1200\n",
            "1/1 [==============================] - 0s 18ms/step - loss: 0.0265 - mae: 0.1397\n",
            "Epoch 281/1200\n",
            "1/1 [==============================] - 0s 11ms/step - loss: 0.0263 - mae: 0.1392\n",
            "Epoch 282/1200\n",
            "1/1 [==============================] - 0s 10ms/step - loss: 0.0261 - mae: 0.1387\n",
            "Epoch 283/1200\n",
            "1/1 [==============================] - 0s 12ms/step - loss: 0.0260 - mae: 0.1383\n",
            "Epoch 284/1200\n",
            "1/1 [==============================] - 0s 15ms/step - loss: 0.0258 - mae: 0.1378\n",
            "Epoch 285/1200\n",
            "1/1 [==============================] - 0s 12ms/step - loss: 0.0256 - mae: 0.1373\n",
            "Epoch 286/1200\n",
            "1/1 [==============================] - 0s 6ms/step - loss: 0.0254 - mae: 0.1369\n",
            "Epoch 287/1200\n",
            "1/1 [==============================] - 0s 6ms/step - loss: 0.0253 - mae: 0.1364\n",
            "Epoch 288/1200\n",
            "1/1 [==============================] - 0s 6ms/step - loss: 0.0251 - mae: 0.1359\n",
            "Epoch 289/1200\n",
            "1/1 [==============================] - 0s 8ms/step - loss: 0.0249 - mae: 0.1355\n",
            "Epoch 290/1200\n",
            "1/1 [==============================] - 0s 11ms/step - loss: 0.0247 - mae: 0.1350\n",
            "Epoch 291/1200\n",
            "1/1 [==============================] - 0s 7ms/step - loss: 0.0246 - mae: 0.1346\n",
            "Epoch 292/1200\n",
            "1/1 [==============================] - 0s 10ms/step - loss: 0.0244 - mae: 0.1341\n",
            "Epoch 293/1200\n",
            "1/1 [==============================] - 0s 7ms/step - loss: 0.0243 - mae: 0.1337\n",
            "Epoch 294/1200\n",
            "1/1 [==============================] - 0s 7ms/step - loss: 0.0241 - mae: 0.1332\n",
            "Epoch 295/1200\n",
            "1/1 [==============================] - 0s 28ms/step - loss: 0.0239 - mae: 0.1328\n",
            "Epoch 296/1200\n",
            "1/1 [==============================] - 0s 9ms/step - loss: 0.0238 - mae: 0.1323\n",
            "Epoch 297/1200\n",
            "1/1 [==============================] - 0s 12ms/step - loss: 0.0236 - mae: 0.1319\n",
            "Epoch 298/1200\n",
            "1/1 [==============================] - 0s 12ms/step - loss: 0.0234 - mae: 0.1314\n",
            "Epoch 299/1200\n",
            "1/1 [==============================] - 0s 11ms/step - loss: 0.0233 - mae: 0.1310\n",
            "Epoch 300/1200\n",
            "1/1 [==============================] - 0s 19ms/step - loss: 0.0231 - mae: 0.1305\n",
            "Epoch 301/1200\n",
            "1/1 [==============================] - 0s 18ms/step - loss: 0.0230 - mae: 0.1301\n",
            "Epoch 302/1200\n",
            "1/1 [==============================] - 0s 7ms/step - loss: 0.0228 - mae: 0.1297\n",
            "Epoch 303/1200\n",
            "1/1 [==============================] - 0s 12ms/step - loss: 0.0227 - mae: 0.1292\n",
            "Epoch 304/1200\n",
            "1/1 [==============================] - 0s 7ms/step - loss: 0.0225 - mae: 0.1288\n",
            "Epoch 305/1200\n",
            "1/1 [==============================] - 0s 21ms/step - loss: 0.0224 - mae: 0.1283\n",
            "Epoch 306/1200\n",
            "1/1 [==============================] - 0s 11ms/step - loss: 0.0222 - mae: 0.1279\n",
            "Epoch 307/1200\n",
            "1/1 [==============================] - 0s 28ms/step - loss: 0.0221 - mae: 0.1275\n",
            "Epoch 308/1200\n",
            "1/1 [==============================] - 0s 24ms/step - loss: 0.0219 - mae: 0.1270\n",
            "Epoch 309/1200\n",
            "1/1 [==============================] - 0s 12ms/step - loss: 0.0218 - mae: 0.1266\n",
            "Epoch 310/1200\n",
            "1/1 [==============================] - 0s 8ms/step - loss: 0.0216 - mae: 0.1262\n",
            "Epoch 311/1200\n",
            "1/1 [==============================] - 0s 7ms/step - loss: 0.0215 - mae: 0.1258\n",
            "Epoch 312/1200\n",
            "1/1 [==============================] - 0s 7ms/step - loss: 0.0213 - mae: 0.1253\n",
            "Epoch 313/1200\n",
            "1/1 [==============================] - 0s 7ms/step - loss: 0.0212 - mae: 0.1249\n",
            "Epoch 314/1200\n",
            "1/1 [==============================] - 0s 7ms/step - loss: 0.0210 - mae: 0.1245\n",
            "Epoch 315/1200\n",
            "1/1 [==============================] - 0s 7ms/step - loss: 0.0209 - mae: 0.1241\n",
            "Epoch 316/1200\n",
            "1/1 [==============================] - 0s 10ms/step - loss: 0.0208 - mae: 0.1236\n",
            "Epoch 317/1200\n",
            "1/1 [==============================] - 0s 11ms/step - loss: 0.0206 - mae: 0.1232\n",
            "Epoch 318/1200\n",
            "1/1 [==============================] - 0s 7ms/step - loss: 0.0205 - mae: 0.1228\n",
            "Epoch 319/1200\n",
            "1/1 [==============================] - 0s 9ms/step - loss: 0.0203 - mae: 0.1224\n",
            "Epoch 320/1200\n",
            "1/1 [==============================] - 0s 7ms/step - loss: 0.0202 - mae: 0.1220\n",
            "Epoch 321/1200\n",
            "1/1 [==============================] - 0s 7ms/step - loss: 0.0201 - mae: 0.1216\n",
            "Epoch 322/1200\n",
            "1/1 [==============================] - 0s 11ms/step - loss: 0.0199 - mae: 0.1212\n",
            "Epoch 323/1200\n",
            "1/1 [==============================] - 0s 8ms/step - loss: 0.0198 - mae: 0.1208\n",
            "Epoch 324/1200\n",
            "1/1 [==============================] - 0s 7ms/step - loss: 0.0197 - mae: 0.1203\n",
            "Epoch 325/1200\n",
            "1/1 [==============================] - 0s 7ms/step - loss: 0.0195 - mae: 0.1199\n",
            "Epoch 326/1200\n",
            "1/1 [==============================] - 0s 10ms/step - loss: 0.0194 - mae: 0.1195\n",
            "Epoch 327/1200\n",
            "1/1 [==============================] - 0s 8ms/step - loss: 0.0193 - mae: 0.1191\n",
            "Epoch 328/1200\n",
            "1/1 [==============================] - 0s 16ms/step - loss: 0.0191 - mae: 0.1187\n",
            "Epoch 329/1200\n",
            "1/1 [==============================] - 0s 10ms/step - loss: 0.0190 - mae: 0.1183\n",
            "Epoch 330/1200\n",
            "1/1 [==============================] - 0s 13ms/step - loss: 0.0189 - mae: 0.1179\n",
            "Epoch 331/1200\n",
            "1/1 [==============================] - 0s 8ms/step - loss: 0.0187 - mae: 0.1175\n",
            "Epoch 332/1200\n",
            "1/1 [==============================] - 0s 8ms/step - loss: 0.0186 - mae: 0.1171\n",
            "Epoch 333/1200\n",
            "1/1 [==============================] - 0s 9ms/step - loss: 0.0185 - mae: 0.1167\n",
            "Epoch 334/1200\n",
            "1/1 [==============================] - 0s 8ms/step - loss: 0.0184 - mae: 0.1163\n",
            "Epoch 335/1200\n",
            "1/1 [==============================] - 0s 7ms/step - loss: 0.0182 - mae: 0.1159\n",
            "Epoch 336/1200\n",
            "1/1 [==============================] - 0s 7ms/step - loss: 0.0181 - mae: 0.1156\n",
            "Epoch 337/1200\n",
            "1/1 [==============================] - 0s 7ms/step - loss: 0.0180 - mae: 0.1152\n",
            "Epoch 338/1200\n",
            "1/1 [==============================] - 0s 15ms/step - loss: 0.0179 - mae: 0.1148\n",
            "Epoch 339/1200\n",
            "1/1 [==============================] - 0s 9ms/step - loss: 0.0178 - mae: 0.1144\n",
            "Epoch 340/1200\n",
            "1/1 [==============================] - 0s 8ms/step - loss: 0.0176 - mae: 0.1140\n",
            "Epoch 341/1200\n",
            "1/1 [==============================] - 0s 7ms/step - loss: 0.0175 - mae: 0.1136\n",
            "Epoch 342/1200\n",
            "1/1 [==============================] - 0s 7ms/step - loss: 0.0174 - mae: 0.1132\n",
            "Epoch 343/1200\n",
            "1/1 [==============================] - 0s 10ms/step - loss: 0.0173 - mae: 0.1128\n",
            "Epoch 344/1200\n",
            "1/1 [==============================] - 0s 7ms/step - loss: 0.0172 - mae: 0.1125\n",
            "Epoch 345/1200\n",
            "1/1 [==============================] - 0s 12ms/step - loss: 0.0171 - mae: 0.1121\n",
            "Epoch 346/1200\n",
            "1/1 [==============================] - 0s 13ms/step - loss: 0.0169 - mae: 0.1117\n",
            "Epoch 347/1200\n",
            "1/1 [==============================] - 0s 14ms/step - loss: 0.0168 - mae: 0.1113\n",
            "Epoch 348/1200\n",
            "1/1 [==============================] - 0s 13ms/step - loss: 0.0167 - mae: 0.1109\n",
            "Epoch 349/1200\n",
            "1/1 [==============================] - 0s 13ms/step - loss: 0.0166 - mae: 0.1106\n",
            "Epoch 350/1200\n",
            "1/1 [==============================] - 0s 11ms/step - loss: 0.0165 - mae: 0.1102\n",
            "Epoch 351/1200\n",
            "1/1 [==============================] - 0s 11ms/step - loss: 0.0164 - mae: 0.1098\n",
            "Epoch 352/1200\n",
            "1/1 [==============================] - 0s 11ms/step - loss: 0.0163 - mae: 0.1095\n",
            "Epoch 353/1200\n",
            "1/1 [==============================] - 0s 31ms/step - loss: 0.0162 - mae: 0.1091\n",
            "Epoch 354/1200\n",
            "1/1 [==============================] - 0s 12ms/step - loss: 0.0160 - mae: 0.1087\n",
            "Epoch 355/1200\n",
            "1/1 [==============================] - 0s 10ms/step - loss: 0.0159 - mae: 0.1083\n",
            "Epoch 356/1200\n",
            "1/1 [==============================] - 0s 12ms/step - loss: 0.0158 - mae: 0.1080\n",
            "Epoch 357/1200\n",
            "1/1 [==============================] - 0s 13ms/step - loss: 0.0157 - mae: 0.1076\n",
            "Epoch 358/1200\n",
            "1/1 [==============================] - 0s 12ms/step - loss: 0.0156 - mae: 0.1073\n",
            "Epoch 359/1200\n",
            "1/1 [==============================] - 0s 18ms/step - loss: 0.0155 - mae: 0.1069\n",
            "Epoch 360/1200\n",
            "1/1 [==============================] - 0s 11ms/step - loss: 0.0154 - mae: 0.1065\n",
            "Epoch 361/1200\n",
            "1/1 [==============================] - 0s 18ms/step - loss: 0.0153 - mae: 0.1062\n",
            "Epoch 362/1200\n",
            "1/1 [==============================] - 0s 24ms/step - loss: 0.0152 - mae: 0.1058\n",
            "Epoch 363/1200\n",
            "1/1 [==============================] - 0s 21ms/step - loss: 0.0151 - mae: 0.1055\n",
            "Epoch 364/1200\n",
            "1/1 [==============================] - 0s 25ms/step - loss: 0.0150 - mae: 0.1051\n",
            "Epoch 365/1200\n",
            "1/1 [==============================] - 0s 18ms/step - loss: 0.0149 - mae: 0.1047\n",
            "Epoch 366/1200\n",
            "1/1 [==============================] - 0s 19ms/step - loss: 0.0148 - mae: 0.1044\n",
            "Epoch 367/1200\n",
            "1/1 [==============================] - 0s 12ms/step - loss: 0.0147 - mae: 0.1040\n",
            "Epoch 368/1200\n",
            "1/1 [==============================] - 0s 25ms/step - loss: 0.0146 - mae: 0.1037\n",
            "Epoch 369/1200\n",
            "1/1 [==============================] - 0s 18ms/step - loss: 0.0145 - mae: 0.1033\n",
            "Epoch 370/1200\n",
            "1/1 [==============================] - 0s 11ms/step - loss: 0.0144 - mae: 0.1030\n",
            "Epoch 371/1200\n",
            "1/1 [==============================] - 0s 19ms/step - loss: 0.0143 - mae: 0.1026\n",
            "Epoch 372/1200\n",
            "1/1 [==============================] - 0s 10ms/step - loss: 0.0142 - mae: 0.1023\n",
            "Epoch 373/1200\n",
            "1/1 [==============================] - 0s 11ms/step - loss: 0.0141 - mae: 0.1019\n",
            "Epoch 374/1200\n",
            "1/1 [==============================] - 0s 23ms/step - loss: 0.0140 - mae: 0.1016\n",
            "Epoch 375/1200\n",
            "1/1 [==============================] - 0s 16ms/step - loss: 0.0139 - mae: 0.1013\n",
            "Epoch 376/1200\n",
            "1/1 [==============================] - 0s 12ms/step - loss: 0.0138 - mae: 0.1009\n",
            "Epoch 377/1200\n",
            "1/1 [==============================] - 0s 12ms/step - loss: 0.0137 - mae: 0.1006\n",
            "Epoch 378/1200\n",
            "1/1 [==============================] - 0s 9ms/step - loss: 0.0136 - mae: 0.1002\n",
            "Epoch 379/1200\n",
            "1/1 [==============================] - 0s 17ms/step - loss: 0.0135 - mae: 0.0999\n",
            "Epoch 380/1200\n",
            "1/1 [==============================] - 0s 11ms/step - loss: 0.0135 - mae: 0.0996\n",
            "Epoch 381/1200\n",
            "1/1 [==============================] - 0s 11ms/step - loss: 0.0134 - mae: 0.0992\n",
            "Epoch 382/1200\n",
            "1/1 [==============================] - 0s 7ms/step - loss: 0.0133 - mae: 0.0989\n",
            "Epoch 383/1200\n",
            "1/1 [==============================] - 0s 7ms/step - loss: 0.0132 - mae: 0.0985\n",
            "Epoch 384/1200\n",
            "1/1 [==============================] - 0s 11ms/step - loss: 0.0131 - mae: 0.0982\n",
            "Epoch 385/1200\n",
            "1/1 [==============================] - 0s 7ms/step - loss: 0.0130 - mae: 0.0979\n",
            "Epoch 386/1200\n",
            "1/1 [==============================] - 0s 10ms/step - loss: 0.0129 - mae: 0.0976\n",
            "Epoch 387/1200\n",
            "1/1 [==============================] - 0s 9ms/step - loss: 0.0128 - mae: 0.0972\n",
            "Epoch 388/1200\n",
            "1/1 [==============================] - 0s 13ms/step - loss: 0.0127 - mae: 0.0969\n",
            "Epoch 389/1200\n",
            "1/1 [==============================] - 0s 9ms/step - loss: 0.0127 - mae: 0.0966\n",
            "Epoch 390/1200\n",
            "1/1 [==============================] - 0s 15ms/step - loss: 0.0126 - mae: 0.0962\n",
            "Epoch 391/1200\n",
            "1/1 [==============================] - 0s 6ms/step - loss: 0.0125 - mae: 0.0959\n",
            "Epoch 392/1200\n",
            "1/1 [==============================] - 0s 6ms/step - loss: 0.0124 - mae: 0.0956\n",
            "Epoch 393/1200\n",
            "1/1 [==============================] - 0s 6ms/step - loss: 0.0123 - mae: 0.0953\n",
            "Epoch 394/1200\n",
            "1/1 [==============================] - 0s 6ms/step - loss: 0.0122 - mae: 0.0949\n",
            "Epoch 395/1200\n",
            "1/1 [==============================] - 0s 6ms/step - loss: 0.0122 - mae: 0.0946\n",
            "Epoch 396/1200\n",
            "1/1 [==============================] - 0s 6ms/step - loss: 0.0121 - mae: 0.0943\n",
            "Epoch 397/1200\n",
            "1/1 [==============================] - 0s 6ms/step - loss: 0.0120 - mae: 0.0940\n",
            "Epoch 398/1200\n",
            "1/1 [==============================] - 0s 6ms/step - loss: 0.0119 - mae: 0.0937\n",
            "Epoch 399/1200\n",
            "1/1 [==============================] - 0s 7ms/step - loss: 0.0118 - mae: 0.0933\n",
            "Epoch 400/1200\n",
            "1/1 [==============================] - 0s 108ms/step - loss: 0.0117 - mae: 0.0930\n",
            "Epoch 401/1200\n",
            "1/1 [==============================] - 0s 16ms/step - loss: 0.0117 - mae: 0.0927\n",
            "Epoch 402/1200\n",
            "1/1 [==============================] - 0s 7ms/step - loss: 0.0116 - mae: 0.0924\n",
            "Epoch 403/1200\n",
            "1/1 [==============================] - 0s 7ms/step - loss: 0.0115 - mae: 0.0921\n",
            "Epoch 404/1200\n",
            "1/1 [==============================] - 0s 7ms/step - loss: 0.0114 - mae: 0.0918\n",
            "Epoch 405/1200\n",
            "1/1 [==============================] - 0s 8ms/step - loss: 0.0114 - mae: 0.0915\n",
            "Epoch 406/1200\n",
            "1/1 [==============================] - 0s 10ms/step - loss: 0.0113 - mae: 0.0912\n",
            "Epoch 407/1200\n",
            "1/1 [==============================] - 0s 18ms/step - loss: 0.0112 - mae: 0.0909\n",
            "Epoch 408/1200\n",
            "1/1 [==============================] - 0s 55ms/step - loss: 0.0111 - mae: 0.0905\n",
            "Epoch 409/1200\n",
            "1/1 [==============================] - 0s 7ms/step - loss: 0.0111 - mae: 0.0902\n",
            "Epoch 410/1200\n",
            "1/1 [==============================] - 0s 11ms/step - loss: 0.0110 - mae: 0.0899\n",
            "Epoch 411/1200\n",
            "1/1 [==============================] - 0s 21ms/step - loss: 0.0109 - mae: 0.0896\n",
            "Epoch 412/1200\n",
            "1/1 [==============================] - 0s 9ms/step - loss: 0.0108 - mae: 0.0893\n",
            "Epoch 413/1200\n",
            "1/1 [==============================] - 0s 6ms/step - loss: 0.0108 - mae: 0.0890\n",
            "Epoch 414/1200\n",
            "1/1 [==============================] - 0s 9ms/step - loss: 0.0107 - mae: 0.0887\n",
            "Epoch 415/1200\n",
            "1/1 [==============================] - 0s 10ms/step - loss: 0.0106 - mae: 0.0884\n",
            "Epoch 416/1200\n",
            "1/1 [==============================] - 0s 6ms/step - loss: 0.0105 - mae: 0.0881\n",
            "Epoch 417/1200\n",
            "1/1 [==============================] - 0s 7ms/step - loss: 0.0105 - mae: 0.0878\n",
            "Epoch 418/1200\n",
            "1/1 [==============================] - 0s 7ms/step - loss: 0.0104 - mae: 0.0875\n",
            "Epoch 419/1200\n",
            "1/1 [==============================] - 0s 6ms/step - loss: 0.0103 - mae: 0.0872\n",
            "Epoch 420/1200\n",
            "1/1 [==============================] - 0s 7ms/step - loss: 0.0103 - mae: 0.0869\n",
            "Epoch 421/1200\n",
            "1/1 [==============================] - 0s 10ms/step - loss: 0.0102 - mae: 0.0866\n",
            "Epoch 422/1200\n",
            "1/1 [==============================] - 0s 6ms/step - loss: 0.0101 - mae: 0.0864\n",
            "Epoch 423/1200\n",
            "1/1 [==============================] - 0s 6ms/step - loss: 0.0101 - mae: 0.0861\n",
            "Epoch 424/1200\n",
            "1/1 [==============================] - 0s 6ms/step - loss: 0.0100 - mae: 0.0858\n",
            "Epoch 425/1200\n",
            "1/1 [==============================] - 0s 6ms/step - loss: 0.0099 - mae: 0.0855\n",
            "Epoch 426/1200\n",
            "1/1 [==============================] - 0s 7ms/step - loss: 0.0099 - mae: 0.0852\n",
            "Epoch 427/1200\n",
            "1/1 [==============================] - 0s 6ms/step - loss: 0.0098 - mae: 0.0849\n",
            "Epoch 428/1200\n",
            "1/1 [==============================] - 0s 7ms/step - loss: 0.0097 - mae: 0.0846\n",
            "Epoch 429/1200\n",
            "1/1 [==============================] - 0s 6ms/step - loss: 0.0097 - mae: 0.0843\n",
            "Epoch 430/1200\n",
            "1/1 [==============================] - 0s 7ms/step - loss: 0.0096 - mae: 0.0840\n",
            "Epoch 431/1200\n",
            "1/1 [==============================] - 0s 7ms/step - loss: 0.0095 - mae: 0.0838\n",
            "Epoch 432/1200\n",
            "1/1 [==============================] - 0s 7ms/step - loss: 0.0095 - mae: 0.0835\n",
            "Epoch 433/1200\n",
            "1/1 [==============================] - 0s 7ms/step - loss: 0.0094 - mae: 0.0832\n",
            "Epoch 434/1200\n",
            "1/1 [==============================] - 0s 11ms/step - loss: 0.0093 - mae: 0.0829\n",
            "Epoch 435/1200\n",
            "1/1 [==============================] - 0s 10ms/step - loss: 0.0093 - mae: 0.0826\n",
            "Epoch 436/1200\n",
            "1/1 [==============================] - 0s 12ms/step - loss: 0.0092 - mae: 0.0824\n",
            "Epoch 437/1200\n",
            "1/1 [==============================] - 0s 10ms/step - loss: 0.0091 - mae: 0.0821\n",
            "Epoch 438/1200\n",
            "1/1 [==============================] - 0s 15ms/step - loss: 0.0091 - mae: 0.0818\n",
            "Epoch 439/1200\n",
            "1/1 [==============================] - 0s 12ms/step - loss: 0.0090 - mae: 0.0815\n",
            "Epoch 440/1200\n",
            "1/1 [==============================] - 0s 9ms/step - loss: 0.0090 - mae: 0.0812\n",
            "Epoch 441/1200\n",
            "1/1 [==============================] - 0s 8ms/step - loss: 0.0089 - mae: 0.0810\n",
            "Epoch 442/1200\n",
            "1/1 [==============================] - 0s 12ms/step - loss: 0.0088 - mae: 0.0807\n",
            "Epoch 443/1200\n",
            "1/1 [==============================] - 0s 18ms/step - loss: 0.0088 - mae: 0.0804\n",
            "Epoch 444/1200\n",
            "1/1 [==============================] - 0s 13ms/step - loss: 0.0087 - mae: 0.0802\n",
            "Epoch 445/1200\n",
            "1/1 [==============================] - 0s 13ms/step - loss: 0.0087 - mae: 0.0799\n",
            "Epoch 446/1200\n",
            "1/1 [==============================] - 0s 7ms/step - loss: 0.0086 - mae: 0.0796\n",
            "Epoch 447/1200\n",
            "1/1 [==============================] - 0s 10ms/step - loss: 0.0085 - mae: 0.0793\n",
            "Epoch 448/1200\n",
            "1/1 [==============================] - 0s 7ms/step - loss: 0.0085 - mae: 0.0791\n",
            "Epoch 449/1200\n",
            "1/1 [==============================] - 0s 11ms/step - loss: 0.0084 - mae: 0.0788\n",
            "Epoch 450/1200\n",
            "1/1 [==============================] - 0s 6ms/step - loss: 0.0084 - mae: 0.0785\n",
            "Epoch 451/1200\n",
            "1/1 [==============================] - 0s 6ms/step - loss: 0.0083 - mae: 0.0783\n",
            "Epoch 452/1200\n",
            "1/1 [==============================] - 0s 6ms/step - loss: 0.0083 - mae: 0.0780\n",
            "Epoch 453/1200\n",
            "1/1 [==============================] - 0s 11ms/step - loss: 0.0082 - mae: 0.0777\n",
            "Epoch 454/1200\n",
            "1/1 [==============================] - 0s 7ms/step - loss: 0.0081 - mae: 0.0775\n",
            "Epoch 455/1200\n",
            "1/1 [==============================] - 0s 6ms/step - loss: 0.0081 - mae: 0.0772\n",
            "Epoch 456/1200\n",
            "1/1 [==============================] - 0s 6ms/step - loss: 0.0080 - mae: 0.0770\n",
            "Epoch 457/1200\n",
            "1/1 [==============================] - 0s 7ms/step - loss: 0.0080 - mae: 0.0767\n",
            "Epoch 458/1200\n",
            "1/1 [==============================] - 0s 6ms/step - loss: 0.0079 - mae: 0.0764\n",
            "Epoch 459/1200\n",
            "1/1 [==============================] - 0s 7ms/step - loss: 0.0079 - mae: 0.0762\n",
            "Epoch 460/1200\n",
            "1/1 [==============================] - 0s 7ms/step - loss: 0.0078 - mae: 0.0759\n",
            "Epoch 461/1200\n",
            "1/1 [==============================] - 0s 6ms/step - loss: 0.0078 - mae: 0.0757\n",
            "Epoch 462/1200\n",
            "1/1 [==============================] - 0s 10ms/step - loss: 0.0077 - mae: 0.0754\n",
            "Epoch 463/1200\n",
            "1/1 [==============================] - 0s 9ms/step - loss: 0.0077 - mae: 0.0752\n",
            "Epoch 464/1200\n",
            "1/1 [==============================] - 0s 11ms/step - loss: 0.0076 - mae: 0.0749\n",
            "Epoch 465/1200\n",
            "1/1 [==============================] - 0s 118ms/step - loss: 0.0076 - mae: 0.0747\n",
            "Epoch 466/1200\n",
            "1/1 [==============================] - 0s 46ms/step - loss: 0.0075 - mae: 0.0744\n",
            "Epoch 467/1200\n",
            "1/1 [==============================] - 0s 18ms/step - loss: 0.0075 - mae: 0.0741\n",
            "Epoch 468/1200\n",
            "1/1 [==============================] - 0s 18ms/step - loss: 0.0074 - mae: 0.0739\n",
            "Epoch 469/1200\n",
            "1/1 [==============================] - 0s 7ms/step - loss: 0.0074 - mae: 0.0736\n",
            "Epoch 470/1200\n",
            "1/1 [==============================] - 0s 8ms/step - loss: 0.0073 - mae: 0.0734\n",
            "Epoch 471/1200\n",
            "1/1 [==============================] - 0s 6ms/step - loss: 0.0073 - mae: 0.0731\n",
            "Epoch 472/1200\n",
            "1/1 [==============================] - 0s 7ms/step - loss: 0.0072 - mae: 0.0729\n",
            "Epoch 473/1200\n",
            "1/1 [==============================] - 0s 5ms/step - loss: 0.0072 - mae: 0.0727\n",
            "Epoch 474/1200\n",
            "1/1 [==============================] - 0s 7ms/step - loss: 0.0071 - mae: 0.0724\n",
            "Epoch 475/1200\n",
            "1/1 [==============================] - 0s 15ms/step - loss: 0.0071 - mae: 0.0722\n",
            "Epoch 476/1200\n",
            "1/1 [==============================] - 0s 13ms/step - loss: 0.0070 - mae: 0.0719\n",
            "Epoch 477/1200\n",
            "1/1 [==============================] - 0s 8ms/step - loss: 0.0070 - mae: 0.0717\n",
            "Epoch 478/1200\n",
            "1/1 [==============================] - 0s 5ms/step - loss: 0.0069 - mae: 0.0714\n",
            "Epoch 479/1200\n",
            "1/1 [==============================] - 0s 6ms/step - loss: 0.0069 - mae: 0.0712\n",
            "Epoch 480/1200\n",
            "1/1 [==============================] - 0s 11ms/step - loss: 0.0068 - mae: 0.0710\n",
            "Epoch 481/1200\n",
            "1/1 [==============================] - 0s 6ms/step - loss: 0.0068 - mae: 0.0707\n",
            "Epoch 482/1200\n",
            "1/1 [==============================] - 0s 11ms/step - loss: 0.0067 - mae: 0.0705\n",
            "Epoch 483/1200\n",
            "1/1 [==============================] - 0s 54ms/step - loss: 0.0067 - mae: 0.0702\n",
            "Epoch 484/1200\n",
            "1/1 [==============================] - 0s 6ms/step - loss: 0.0067 - mae: 0.0700\n",
            "Epoch 485/1200\n",
            "1/1 [==============================] - 0s 21ms/step - loss: 0.0066 - mae: 0.0698\n",
            "Epoch 486/1200\n",
            "1/1 [==============================] - 0s 5ms/step - loss: 0.0066 - mae: 0.0695\n",
            "Epoch 487/1200\n",
            "1/1 [==============================] - 0s 11ms/step - loss: 0.0065 - mae: 0.0693\n",
            "Epoch 488/1200\n",
            "1/1 [==============================] - 0s 9ms/step - loss: 0.0065 - mae: 0.0691\n",
            "Epoch 489/1200\n",
            "1/1 [==============================] - 0s 14ms/step - loss: 0.0064 - mae: 0.0688\n",
            "Epoch 490/1200\n",
            "1/1 [==============================] - 0s 15ms/step - loss: 0.0064 - mae: 0.0686\n",
            "Epoch 491/1200\n",
            "1/1 [==============================] - 0s 12ms/step - loss: 0.0063 - mae: 0.0684\n",
            "Epoch 492/1200\n",
            "1/1 [==============================] - 0s 8ms/step - loss: 0.0063 - mae: 0.0681\n",
            "Epoch 493/1200\n",
            "1/1 [==============================] - 0s 10ms/step - loss: 0.0063 - mae: 0.0679\n",
            "Epoch 494/1200\n",
            "1/1 [==============================] - 0s 11ms/step - loss: 0.0062 - mae: 0.0677\n",
            "Epoch 495/1200\n",
            "1/1 [==============================] - 0s 22ms/step - loss: 0.0062 - mae: 0.0674\n",
            "Epoch 496/1200\n",
            "1/1 [==============================] - 0s 6ms/step - loss: 0.0061 - mae: 0.0672\n",
            "Epoch 497/1200\n",
            "1/1 [==============================] - 0s 9ms/step - loss: 0.0061 - mae: 0.0670\n",
            "Epoch 498/1200\n",
            "1/1 [==============================] - 0s 6ms/step - loss: 0.0060 - mae: 0.0668\n",
            "Epoch 499/1200\n",
            "1/1 [==============================] - 0s 6ms/step - loss: 0.0060 - mae: 0.0665\n",
            "Epoch 500/1200\n",
            "1/1 [==============================] - 0s 13ms/step - loss: 0.0060 - mae: 0.0663\n",
            "Epoch 501/1200\n",
            "1/1 [==============================] - 0s 16ms/step - loss: 0.0059 - mae: 0.0661\n",
            "Epoch 502/1200\n",
            "1/1 [==============================] - 0s 13ms/step - loss: 0.0059 - mae: 0.0659\n",
            "Epoch 503/1200\n",
            "1/1 [==============================] - 0s 11ms/step - loss: 0.0058 - mae: 0.0656\n",
            "Epoch 504/1200\n",
            "1/1 [==============================] - 0s 21ms/step - loss: 0.0058 - mae: 0.0654\n",
            "Epoch 505/1200\n",
            "1/1 [==============================] - 0s 18ms/step - loss: 0.0058 - mae: 0.0652\n",
            "Epoch 506/1200\n",
            "1/1 [==============================] - 0s 17ms/step - loss: 0.0057 - mae: 0.0650\n",
            "Epoch 507/1200\n",
            "1/1 [==============================] - 0s 16ms/step - loss: 0.0057 - mae: 0.0648\n",
            "Epoch 508/1200\n",
            "1/1 [==============================] - 0s 9ms/step - loss: 0.0057 - mae: 0.0645\n",
            "Epoch 509/1200\n",
            "1/1 [==============================] - 0s 17ms/step - loss: 0.0056 - mae: 0.0643\n",
            "Epoch 510/1200\n",
            "1/1 [==============================] - 0s 19ms/step - loss: 0.0056 - mae: 0.0641\n",
            "Epoch 511/1200\n",
            "1/1 [==============================] - 0s 20ms/step - loss: 0.0055 - mae: 0.0639\n",
            "Epoch 512/1200\n",
            "1/1 [==============================] - 0s 13ms/step - loss: 0.0055 - mae: 0.0637\n",
            "Epoch 513/1200\n",
            "1/1 [==============================] - 0s 12ms/step - loss: 0.0055 - mae: 0.0635\n",
            "Epoch 514/1200\n",
            "1/1 [==============================] - 0s 19ms/step - loss: 0.0054 - mae: 0.0632\n",
            "Epoch 515/1200\n",
            "1/1 [==============================] - 0s 16ms/step - loss: 0.0054 - mae: 0.0630\n",
            "Epoch 516/1200\n",
            "1/1 [==============================] - 0s 17ms/step - loss: 0.0054 - mae: 0.0628\n",
            "Epoch 517/1200\n",
            "1/1 [==============================] - 0s 13ms/step - loss: 0.0053 - mae: 0.0626\n",
            "Epoch 518/1200\n",
            "1/1 [==============================] - 0s 8ms/step - loss: 0.0053 - mae: 0.0624\n",
            "Epoch 519/1200\n",
            "1/1 [==============================] - 0s 8ms/step - loss: 0.0052 - mae: 0.0622\n",
            "Epoch 520/1200\n",
            "1/1 [==============================] - 0s 10ms/step - loss: 0.0052 - mae: 0.0620\n",
            "Epoch 521/1200\n",
            "1/1 [==============================] - 0s 7ms/step - loss: 0.0052 - mae: 0.0618\n",
            "Epoch 522/1200\n",
            "1/1 [==============================] - 0s 11ms/step - loss: 0.0051 - mae: 0.0615\n",
            "Epoch 523/1200\n",
            "1/1 [==============================] - 0s 8ms/step - loss: 0.0051 - mae: 0.0613\n",
            "Epoch 524/1200\n",
            "1/1 [==============================] - 0s 7ms/step - loss: 0.0051 - mae: 0.0611\n",
            "Epoch 525/1200\n",
            "1/1 [==============================] - 0s 7ms/step - loss: 0.0050 - mae: 0.0609\n",
            "Epoch 526/1200\n",
            "1/1 [==============================] - 0s 7ms/step - loss: 0.0050 - mae: 0.0607\n",
            "Epoch 527/1200\n",
            "1/1 [==============================] - 0s 9ms/step - loss: 0.0050 - mae: 0.0605\n",
            "Epoch 528/1200\n",
            "1/1 [==============================] - 0s 10ms/step - loss: 0.0049 - mae: 0.0603\n",
            "Epoch 529/1200\n",
            "1/1 [==============================] - 0s 9ms/step - loss: 0.0049 - mae: 0.0601\n",
            "Epoch 530/1200\n",
            "1/1 [==============================] - 0s 74ms/step - loss: 0.0049 - mae: 0.0599\n",
            "Epoch 531/1200\n",
            "1/1 [==============================] - 0s 19ms/step - loss: 0.0048 - mae: 0.0597\n",
            "Epoch 532/1200\n",
            "1/1 [==============================] - 0s 11ms/step - loss: 0.0048 - mae: 0.0595\n",
            "Epoch 533/1200\n",
            "1/1 [==============================] - 0s 8ms/step - loss: 0.0048 - mae: 0.0593\n",
            "Epoch 534/1200\n",
            "1/1 [==============================] - 0s 12ms/step - loss: 0.0047 - mae: 0.0591\n",
            "Epoch 535/1200\n",
            "1/1 [==============================] - 0s 12ms/step - loss: 0.0047 - mae: 0.0589\n",
            "Epoch 536/1200\n",
            "1/1 [==============================] - 0s 54ms/step - loss: 0.0047 - mae: 0.0587\n",
            "Epoch 537/1200\n",
            "1/1 [==============================] - 0s 19ms/step - loss: 0.0046 - mae: 0.0585\n",
            "Epoch 538/1200\n",
            "1/1 [==============================] - 0s 23ms/step - loss: 0.0046 - mae: 0.0583\n",
            "Epoch 539/1200\n",
            "1/1 [==============================] - 0s 13ms/step - loss: 0.0046 - mae: 0.0581\n",
            "Epoch 540/1200\n",
            "1/1 [==============================] - 0s 11ms/step - loss: 0.0046 - mae: 0.0579\n",
            "Epoch 541/1200\n",
            "1/1 [==============================] - 0s 60ms/step - loss: 0.0045 - mae: 0.0577\n",
            "Epoch 542/1200\n",
            "1/1 [==============================] - 0s 61ms/step - loss: 0.0045 - mae: 0.0575\n",
            "Epoch 543/1200\n",
            "1/1 [==============================] - 0s 6ms/step - loss: 0.0045 - mae: 0.0573\n",
            "Epoch 544/1200\n",
            "1/1 [==============================] - 0s 7ms/step - loss: 0.0044 - mae: 0.0571\n",
            "Epoch 545/1200\n",
            "1/1 [==============================] - 0s 12ms/step - loss: 0.0044 - mae: 0.0569\n",
            "Epoch 546/1200\n",
            "1/1 [==============================] - 0s 7ms/step - loss: 0.0044 - mae: 0.0567\n",
            "Epoch 547/1200\n",
            "1/1 [==============================] - 0s 6ms/step - loss: 0.0043 - mae: 0.0565\n",
            "Epoch 548/1200\n",
            "1/1 [==============================] - 0s 6ms/step - loss: 0.0043 - mae: 0.0564\n",
            "Epoch 549/1200\n",
            "1/1 [==============================] - 0s 6ms/step - loss: 0.0043 - mae: 0.0562\n",
            "Epoch 550/1200\n",
            "1/1 [==============================] - 0s 12ms/step - loss: 0.0043 - mae: 0.0560\n",
            "Epoch 551/1200\n",
            "1/1 [==============================] - 0s 5ms/step - loss: 0.0042 - mae: 0.0558\n",
            "Epoch 552/1200\n",
            "1/1 [==============================] - 0s 6ms/step - loss: 0.0042 - mae: 0.0556\n",
            "Epoch 553/1200\n",
            "1/1 [==============================] - 0s 5ms/step - loss: 0.0042 - mae: 0.0554\n",
            "Epoch 554/1200\n",
            "1/1 [==============================] - 0s 8ms/step - loss: 0.0041 - mae: 0.0552\n",
            "Epoch 555/1200\n",
            "1/1 [==============================] - 0s 12ms/step - loss: 0.0041 - mae: 0.0550\n",
            "Epoch 556/1200\n",
            "1/1 [==============================] - 0s 10ms/step - loss: 0.0041 - mae: 0.0549\n",
            "Epoch 557/1200\n",
            "1/1 [==============================] - 0s 17ms/step - loss: 0.0041 - mae: 0.0547\n",
            "Epoch 558/1200\n",
            "1/1 [==============================] - 0s 6ms/step - loss: 0.0040 - mae: 0.0545\n",
            "Epoch 559/1200\n",
            "1/1 [==============================] - 0s 22ms/step - loss: 0.0040 - mae: 0.0543\n",
            "Epoch 560/1200\n",
            "1/1 [==============================] - 0s 29ms/step - loss: 0.0040 - mae: 0.0541\n",
            "Epoch 561/1200\n",
            "1/1 [==============================] - 0s 130ms/step - loss: 0.0039 - mae: 0.0539\n",
            "Epoch 562/1200\n",
            "1/1 [==============================] - 0s 10ms/step - loss: 0.0039 - mae: 0.0537\n",
            "Epoch 563/1200\n",
            "1/1 [==============================] - 0s 54ms/step - loss: 0.0039 - mae: 0.0536\n",
            "Epoch 564/1200\n",
            "1/1 [==============================] - 0s 25ms/step - loss: 0.0039 - mae: 0.0534\n",
            "Epoch 565/1200\n",
            "1/1 [==============================] - 0s 7ms/step - loss: 0.0038 - mae: 0.0532\n",
            "Epoch 566/1200\n",
            "1/1 [==============================] - 0s 44ms/step - loss: 0.0038 - mae: 0.0530\n",
            "Epoch 567/1200\n",
            "1/1 [==============================] - 0s 11ms/step - loss: 0.0038 - mae: 0.0528\n",
            "Epoch 568/1200\n",
            "1/1 [==============================] - 0s 12ms/step - loss: 0.0038 - mae: 0.0527\n",
            "Epoch 569/1200\n",
            "1/1 [==============================] - 0s 10ms/step - loss: 0.0037 - mae: 0.0525\n",
            "Epoch 570/1200\n",
            "1/1 [==============================] - 0s 12ms/step - loss: 0.0037 - mae: 0.0523\n",
            "Epoch 571/1200\n",
            "1/1 [==============================] - 0s 9ms/step - loss: 0.0037 - mae: 0.0521\n",
            "Epoch 572/1200\n",
            "1/1 [==============================] - 0s 14ms/step - loss: 0.0037 - mae: 0.0520\n",
            "Epoch 573/1200\n",
            "1/1 [==============================] - 0s 8ms/step - loss: 0.0036 - mae: 0.0518\n",
            "Epoch 574/1200\n",
            "1/1 [==============================] - 0s 12ms/step - loss: 0.0036 - mae: 0.0516\n",
            "Epoch 575/1200\n",
            "1/1 [==============================] - 0s 9ms/step - loss: 0.0036 - mae: 0.0514\n",
            "Epoch 576/1200\n",
            "1/1 [==============================] - 0s 9ms/step - loss: 0.0036 - mae: 0.0513\n",
            "Epoch 577/1200\n",
            "1/1 [==============================] - 0s 38ms/step - loss: 0.0035 - mae: 0.0511\n",
            "Epoch 578/1200\n",
            "1/1 [==============================] - 0s 16ms/step - loss: 0.0035 - mae: 0.0509\n",
            "Epoch 579/1200\n",
            "1/1 [==============================] - 0s 17ms/step - loss: 0.0035 - mae: 0.0507\n",
            "Epoch 580/1200\n",
            "1/1 [==============================] - 0s 16ms/step - loss: 0.0035 - mae: 0.0506\n",
            "Epoch 581/1200\n",
            "1/1 [==============================] - 0s 19ms/step - loss: 0.0034 - mae: 0.0504\n",
            "Epoch 582/1200\n",
            "1/1 [==============================] - 0s 11ms/step - loss: 0.0034 - mae: 0.0502\n",
            "Epoch 583/1200\n",
            "1/1 [==============================] - 0s 13ms/step - loss: 0.0034 - mae: 0.0501\n",
            "Epoch 584/1200\n",
            "1/1 [==============================] - 0s 25ms/step - loss: 0.0034 - mae: 0.0499\n",
            "Epoch 585/1200\n",
            "1/1 [==============================] - 0s 38ms/step - loss: 0.0034 - mae: 0.0497\n",
            "Epoch 586/1200\n",
            "1/1 [==============================] - 0s 13ms/step - loss: 0.0033 - mae: 0.0496\n",
            "Epoch 587/1200\n",
            "1/1 [==============================] - 0s 22ms/step - loss: 0.0033 - mae: 0.0494\n",
            "Epoch 588/1200\n",
            "1/1 [==============================] - 0s 21ms/step - loss: 0.0033 - mae: 0.0492\n",
            "Epoch 589/1200\n",
            "1/1 [==============================] - 0s 10ms/step - loss: 0.0033 - mae: 0.0491\n",
            "Epoch 590/1200\n",
            "1/1 [==============================] - 0s 22ms/step - loss: 0.0032 - mae: 0.0489\n",
            "Epoch 591/1200\n",
            "1/1 [==============================] - 0s 15ms/step - loss: 0.0032 - mae: 0.0487\n",
            "Epoch 592/1200\n",
            "1/1 [==============================] - 0s 10ms/step - loss: 0.0032 - mae: 0.0486\n",
            "Epoch 593/1200\n",
            "1/1 [==============================] - 0s 15ms/step - loss: 0.0032 - mae: 0.0484\n",
            "Epoch 594/1200\n",
            "1/1 [==============================] - 0s 17ms/step - loss: 0.0032 - mae: 0.0482\n",
            "Epoch 595/1200\n",
            "1/1 [==============================] - 0s 14ms/step - loss: 0.0031 - mae: 0.0481\n",
            "Epoch 596/1200\n",
            "1/1 [==============================] - 0s 14ms/step - loss: 0.0031 - mae: 0.0479\n",
            "Epoch 597/1200\n",
            "1/1 [==============================] - 0s 15ms/step - loss: 0.0031 - mae: 0.0477\n",
            "Epoch 598/1200\n",
            "1/1 [==============================] - 0s 10ms/step - loss: 0.0031 - mae: 0.0476\n",
            "Epoch 599/1200\n",
            "1/1 [==============================] - 0s 12ms/step - loss: 0.0031 - mae: 0.0474\n",
            "Epoch 600/1200\n",
            "1/1 [==============================] - 0s 29ms/step - loss: 0.0030 - mae: 0.0473\n",
            "Epoch 601/1200\n",
            "1/1 [==============================] - 0s 10ms/step - loss: 0.0030 - mae: 0.0471\n",
            "Epoch 602/1200\n",
            "1/1 [==============================] - 0s 13ms/step - loss: 0.0030 - mae: 0.0469\n",
            "Epoch 603/1200\n",
            "1/1 [==============================] - 0s 13ms/step - loss: 0.0030 - mae: 0.0468\n",
            "Epoch 604/1200\n",
            "1/1 [==============================] - 0s 13ms/step - loss: 0.0030 - mae: 0.0466\n",
            "Epoch 605/1200\n",
            "1/1 [==============================] - 0s 10ms/step - loss: 0.0029 - mae: 0.0465\n",
            "Epoch 606/1200\n",
            "1/1 [==============================] - 0s 11ms/step - loss: 0.0029 - mae: 0.0463\n",
            "Epoch 607/1200\n",
            "1/1 [==============================] - 0s 7ms/step - loss: 0.0029 - mae: 0.0462\n",
            "Epoch 608/1200\n",
            "1/1 [==============================] - 0s 6ms/step - loss: 0.0029 - mae: 0.0460\n",
            "Epoch 609/1200\n",
            "1/1 [==============================] - 0s 8ms/step - loss: 0.0029 - mae: 0.0458\n",
            "Epoch 610/1200\n",
            "1/1 [==============================] - 0s 7ms/step - loss: 0.0028 - mae: 0.0457\n",
            "Epoch 611/1200\n",
            "1/1 [==============================] - 0s 6ms/step - loss: 0.0028 - mae: 0.0455\n",
            "Epoch 612/1200\n",
            "1/1 [==============================] - 0s 11ms/step - loss: 0.0028 - mae: 0.0454\n",
            "Epoch 613/1200\n",
            "1/1 [==============================] - 0s 15ms/step - loss: 0.0028 - mae: 0.0452\n",
            "Epoch 614/1200\n",
            "1/1 [==============================] - 0s 7ms/step - loss: 0.0028 - mae: 0.0451\n",
            "Epoch 615/1200\n",
            "1/1 [==============================] - 0s 10ms/step - loss: 0.0027 - mae: 0.0449\n",
            "Epoch 616/1200\n",
            "1/1 [==============================] - 0s 7ms/step - loss: 0.0027 - mae: 0.0448\n",
            "Epoch 617/1200\n",
            "1/1 [==============================] - 0s 6ms/step - loss: 0.0027 - mae: 0.0446\n",
            "Epoch 618/1200\n",
            "1/1 [==============================] - 0s 9ms/step - loss: 0.0027 - mae: 0.0445\n",
            "Epoch 619/1200\n",
            "1/1 [==============================] - 0s 10ms/step - loss: 0.0027 - mae: 0.0443\n",
            "Epoch 620/1200\n",
            "1/1 [==============================] - 0s 5ms/step - loss: 0.0026 - mae: 0.0442\n",
            "Epoch 621/1200\n",
            "1/1 [==============================] - 0s 5ms/step - loss: 0.0026 - mae: 0.0440\n",
            "Epoch 622/1200\n",
            "1/1 [==============================] - 0s 5ms/step - loss: 0.0026 - mae: 0.0439\n",
            "Epoch 623/1200\n",
            "1/1 [==============================] - 0s 5ms/step - loss: 0.0026 - mae: 0.0437\n",
            "Epoch 624/1200\n",
            "1/1 [==============================] - 0s 21ms/step - loss: 0.0026 - mae: 0.0436\n",
            "Epoch 625/1200\n",
            "1/1 [==============================] - 0s 18ms/step - loss: 0.0026 - mae: 0.0434\n",
            "Epoch 626/1200\n",
            "1/1 [==============================] - 0s 12ms/step - loss: 0.0025 - mae: 0.0433\n",
            "Epoch 627/1200\n",
            "1/1 [==============================] - 0s 16ms/step - loss: 0.0025 - mae: 0.0431\n",
            "Epoch 628/1200\n",
            "1/1 [==============================] - 0s 14ms/step - loss: 0.0025 - mae: 0.0430\n",
            "Epoch 629/1200\n",
            "1/1 [==============================] - 0s 20ms/step - loss: 0.0025 - mae: 0.0428\n",
            "Epoch 630/1200\n",
            "1/1 [==============================] - 0s 12ms/step - loss: 0.0025 - mae: 0.0427\n",
            "Epoch 631/1200\n",
            "1/1 [==============================] - 0s 11ms/step - loss: 0.0025 - mae: 0.0425\n",
            "Epoch 632/1200\n",
            "1/1 [==============================] - 0s 9ms/step - loss: 0.0024 - mae: 0.0424\n",
            "Epoch 633/1200\n",
            "1/1 [==============================] - 0s 8ms/step - loss: 0.0024 - mae: 0.0423\n",
            "Epoch 634/1200\n",
            "1/1 [==============================] - 0s 11ms/step - loss: 0.0024 - mae: 0.0421\n",
            "Epoch 635/1200\n",
            "1/1 [==============================] - 0s 8ms/step - loss: 0.0024 - mae: 0.0420\n",
            "Epoch 636/1200\n",
            "1/1 [==============================] - 0s 8ms/step - loss: 0.0024 - mae: 0.0418\n",
            "Epoch 637/1200\n",
            "1/1 [==============================] - 0s 11ms/step - loss: 0.0024 - mae: 0.0417\n",
            "Epoch 638/1200\n",
            "1/1 [==============================] - 0s 13ms/step - loss: 0.0023 - mae: 0.0416\n",
            "Epoch 639/1200\n",
            "1/1 [==============================] - 0s 7ms/step - loss: 0.0023 - mae: 0.0414\n",
            "Epoch 640/1200\n",
            "1/1 [==============================] - 0s 8ms/step - loss: 0.0023 - mae: 0.0413\n",
            "Epoch 641/1200\n",
            "1/1 [==============================] - 0s 6ms/step - loss: 0.0023 - mae: 0.0411\n",
            "Epoch 642/1200\n",
            "1/1 [==============================] - 0s 10ms/step - loss: 0.0023 - mae: 0.0410\n",
            "Epoch 643/1200\n",
            "1/1 [==============================] - 0s 6ms/step - loss: 0.0023 - mae: 0.0409\n",
            "Epoch 644/1200\n",
            "1/1 [==============================] - 0s 6ms/step - loss: 0.0023 - mae: 0.0407\n",
            "Epoch 645/1200\n",
            "1/1 [==============================] - 0s 6ms/step - loss: 0.0022 - mae: 0.0406\n",
            "Epoch 646/1200\n",
            "1/1 [==============================] - 0s 7ms/step - loss: 0.0022 - mae: 0.0404\n",
            "Epoch 647/1200\n",
            "1/1 [==============================] - 0s 10ms/step - loss: 0.0022 - mae: 0.0403\n",
            "Epoch 648/1200\n",
            "1/1 [==============================] - 0s 6ms/step - loss: 0.0022 - mae: 0.0402\n",
            "Epoch 649/1200\n",
            "1/1 [==============================] - 0s 5ms/step - loss: 0.0022 - mae: 0.0400\n",
            "Epoch 650/1200\n",
            "1/1 [==============================] - 0s 7ms/step - loss: 0.0022 - mae: 0.0399\n",
            "Epoch 651/1200\n",
            "1/1 [==============================] - 0s 13ms/step - loss: 0.0021 - mae: 0.0398\n",
            "Epoch 652/1200\n",
            "1/1 [==============================] - 0s 9ms/step - loss: 0.0021 - mae: 0.0396\n",
            "Epoch 653/1200\n",
            "1/1 [==============================] - 0s 6ms/step - loss: 0.0021 - mae: 0.0395\n",
            "Epoch 654/1200\n",
            "1/1 [==============================] - 0s 14ms/step - loss: 0.0021 - mae: 0.0394\n",
            "Epoch 655/1200\n",
            "1/1 [==============================] - 0s 18ms/step - loss: 0.0021 - mae: 0.0392\n",
            "Epoch 656/1200\n",
            "1/1 [==============================] - 0s 7ms/step - loss: 0.0021 - mae: 0.0391\n",
            "Epoch 657/1200\n",
            "1/1 [==============================] - 0s 15ms/step - loss: 0.0021 - mae: 0.0390\n",
            "Epoch 658/1200\n",
            "1/1 [==============================] - 0s 9ms/step - loss: 0.0020 - mae: 0.0388\n",
            "Epoch 659/1200\n",
            "1/1 [==============================] - 0s 15ms/step - loss: 0.0020 - mae: 0.0387\n",
            "Epoch 660/1200\n",
            "1/1 [==============================] - 0s 14ms/step - loss: 0.0020 - mae: 0.0386\n",
            "Epoch 661/1200\n",
            "1/1 [==============================] - 0s 7ms/step - loss: 0.0020 - mae: 0.0384\n",
            "Epoch 662/1200\n",
            "1/1 [==============================] - 0s 7ms/step - loss: 0.0020 - mae: 0.0383\n",
            "Epoch 663/1200\n",
            "1/1 [==============================] - 0s 11ms/step - loss: 0.0020 - mae: 0.0382\n",
            "Epoch 664/1200\n",
            "1/1 [==============================] - 0s 13ms/step - loss: 0.0020 - mae: 0.0380\n",
            "Epoch 665/1200\n",
            "1/1 [==============================] - 0s 14ms/step - loss: 0.0020 - mae: 0.0379\n",
            "Epoch 666/1200\n",
            "1/1 [==============================] - 0s 18ms/step - loss: 0.0019 - mae: 0.0378\n",
            "Epoch 667/1200\n",
            "1/1 [==============================] - 0s 12ms/step - loss: 0.0019 - mae: 0.0377\n",
            "Epoch 668/1200\n",
            "1/1 [==============================] - 0s 7ms/step - loss: 0.0019 - mae: 0.0375\n",
            "Epoch 669/1200\n",
            "1/1 [==============================] - 0s 7ms/step - loss: 0.0019 - mae: 0.0374\n",
            "Epoch 670/1200\n",
            "1/1 [==============================] - 0s 7ms/step - loss: 0.0019 - mae: 0.0373\n",
            "Epoch 671/1200\n",
            "1/1 [==============================] - 0s 10ms/step - loss: 0.0019 - mae: 0.0372\n",
            "Epoch 672/1200\n",
            "1/1 [==============================] - 0s 6ms/step - loss: 0.0019 - mae: 0.0370\n",
            "Epoch 673/1200\n",
            "1/1 [==============================] - 0s 6ms/step - loss: 0.0018 - mae: 0.0369\n",
            "Epoch 674/1200\n",
            "1/1 [==============================] - 0s 9ms/step - loss: 0.0018 - mae: 0.0368\n",
            "Epoch 675/1200\n",
            "1/1 [==============================] - 0s 6ms/step - loss: 0.0018 - mae: 0.0367\n",
            "Epoch 676/1200\n",
            "1/1 [==============================] - 0s 7ms/step - loss: 0.0018 - mae: 0.0365\n",
            "Epoch 677/1200\n",
            "1/1 [==============================] - 0s 10ms/step - loss: 0.0018 - mae: 0.0364\n",
            "Epoch 678/1200\n",
            "1/1 [==============================] - 0s 6ms/step - loss: 0.0018 - mae: 0.0363\n",
            "Epoch 679/1200\n",
            "1/1 [==============================] - 0s 11ms/step - loss: 0.0018 - mae: 0.0362\n",
            "Epoch 680/1200\n",
            "1/1 [==============================] - 0s 37ms/step - loss: 0.0018 - mae: 0.0360\n",
            "Epoch 681/1200\n",
            "1/1 [==============================] - 0s 85ms/step - loss: 0.0018 - mae: 0.0359\n",
            "Epoch 682/1200\n",
            "1/1 [==============================] - 0s 11ms/step - loss: 0.0017 - mae: 0.0358\n",
            "Epoch 683/1200\n",
            "1/1 [==============================] - 0s 34ms/step - loss: 0.0017 - mae: 0.0357\n",
            "Epoch 684/1200\n",
            "1/1 [==============================] - 0s 50ms/step - loss: 0.0017 - mae: 0.0356\n",
            "Epoch 685/1200\n",
            "1/1 [==============================] - 0s 25ms/step - loss: 0.0017 - mae: 0.0354\n",
            "Epoch 686/1200\n",
            "1/1 [==============================] - 0s 55ms/step - loss: 0.0017 - mae: 0.0353\n",
            "Epoch 687/1200\n",
            "1/1 [==============================] - 0s 8ms/step - loss: 0.0017 - mae: 0.0352\n",
            "Epoch 688/1200\n",
            "1/1 [==============================] - 0s 56ms/step - loss: 0.0017 - mae: 0.0351\n",
            "Epoch 689/1200\n",
            "1/1 [==============================] - 0s 40ms/step - loss: 0.0017 - mae: 0.0350\n",
            "Epoch 690/1200\n",
            "1/1 [==============================] - 0s 98ms/step - loss: 0.0016 - mae: 0.0348\n",
            "Epoch 691/1200\n",
            "1/1 [==============================] - 0s 16ms/step - loss: 0.0016 - mae: 0.0347\n",
            "Epoch 692/1200\n",
            "1/1 [==============================] - 0s 9ms/step - loss: 0.0016 - mae: 0.0346\n",
            "Epoch 693/1200\n",
            "1/1 [==============================] - 0s 28ms/step - loss: 0.0016 - mae: 0.0345\n",
            "Epoch 694/1200\n",
            "1/1 [==============================] - 0s 15ms/step - loss: 0.0016 - mae: 0.0344\n",
            "Epoch 695/1200\n",
            "1/1 [==============================] - 0s 16ms/step - loss: 0.0016 - mae: 0.0343\n",
            "Epoch 696/1200\n",
            "1/1 [==============================] - 0s 13ms/step - loss: 0.0016 - mae: 0.0341\n",
            "Epoch 697/1200\n",
            "1/1 [==============================] - 0s 7ms/step - loss: 0.0016 - mae: 0.0340\n",
            "Epoch 698/1200\n",
            "1/1 [==============================] - 0s 13ms/step - loss: 0.0016 - mae: 0.0339\n",
            "Epoch 699/1200\n",
            "1/1 [==============================] - 0s 6ms/step - loss: 0.0016 - mae: 0.0338\n",
            "Epoch 700/1200\n",
            "1/1 [==============================] - 0s 11ms/step - loss: 0.0015 - mae: 0.0337\n",
            "Epoch 701/1200\n",
            "1/1 [==============================] - 0s 20ms/step - loss: 0.0015 - mae: 0.0336\n",
            "Epoch 702/1200\n",
            "1/1 [==============================] - 0s 21ms/step - loss: 0.0015 - mae: 0.0335\n",
            "Epoch 703/1200\n",
            "1/1 [==============================] - 0s 25ms/step - loss: 0.0015 - mae: 0.0333\n",
            "Epoch 704/1200\n",
            "1/1 [==============================] - 0s 33ms/step - loss: 0.0015 - mae: 0.0332\n",
            "Epoch 705/1200\n",
            "1/1 [==============================] - 0s 28ms/step - loss: 0.0015 - mae: 0.0331\n",
            "Epoch 706/1200\n",
            "1/1 [==============================] - 0s 39ms/step - loss: 0.0015 - mae: 0.0330\n",
            "Epoch 707/1200\n",
            "1/1 [==============================] - 0s 44ms/step - loss: 0.0015 - mae: 0.0329\n",
            "Epoch 708/1200\n",
            "1/1 [==============================] - 0s 13ms/step - loss: 0.0015 - mae: 0.0328\n",
            "Epoch 709/1200\n",
            "1/1 [==============================] - 0s 17ms/step - loss: 0.0014 - mae: 0.0327\n",
            "Epoch 710/1200\n",
            "1/1 [==============================] - 0s 12ms/step - loss: 0.0014 - mae: 0.0326\n",
            "Epoch 711/1200\n",
            "1/1 [==============================] - 0s 17ms/step - loss: 0.0014 - mae: 0.0324\n",
            "Epoch 712/1200\n",
            "1/1 [==============================] - 0s 13ms/step - loss: 0.0014 - mae: 0.0323\n",
            "Epoch 713/1200\n",
            "1/1 [==============================] - 0s 10ms/step - loss: 0.0014 - mae: 0.0322\n",
            "Epoch 714/1200\n",
            "1/1 [==============================] - 0s 10ms/step - loss: 0.0014 - mae: 0.0321\n",
            "Epoch 715/1200\n",
            "1/1 [==============================] - 0s 27ms/step - loss: 0.0014 - mae: 0.0320\n",
            "Epoch 716/1200\n",
            "1/1 [==============================] - 0s 71ms/step - loss: 0.0014 - mae: 0.0319\n",
            "Epoch 717/1200\n",
            "1/1 [==============================] - 0s 19ms/step - loss: 0.0014 - mae: 0.0318\n",
            "Epoch 718/1200\n",
            "1/1 [==============================] - 0s 21ms/step - loss: 0.0014 - mae: 0.0317\n",
            "Epoch 719/1200\n",
            "1/1 [==============================] - 0s 32ms/step - loss: 0.0014 - mae: 0.0316\n",
            "Epoch 720/1200\n",
            "1/1 [==============================] - 0s 25ms/step - loss: 0.0013 - mae: 0.0315\n",
            "Epoch 721/1200\n",
            "1/1 [==============================] - 0s 16ms/step - loss: 0.0013 - mae: 0.0314\n",
            "Epoch 722/1200\n",
            "1/1 [==============================] - 0s 27ms/step - loss: 0.0013 - mae: 0.0313\n",
            "Epoch 723/1200\n",
            "1/1 [==============================] - 0s 29ms/step - loss: 0.0013 - mae: 0.0312\n",
            "Epoch 724/1200\n",
            "1/1 [==============================] - 0s 29ms/step - loss: 0.0013 - mae: 0.0311\n",
            "Epoch 725/1200\n",
            "1/1 [==============================] - 0s 39ms/step - loss: 0.0013 - mae: 0.0309\n",
            "Epoch 726/1200\n",
            "1/1 [==============================] - 0s 35ms/step - loss: 0.0013 - mae: 0.0308\n",
            "Epoch 727/1200\n",
            "1/1 [==============================] - 0s 12ms/step - loss: 0.0013 - mae: 0.0307\n",
            "Epoch 728/1200\n",
            "1/1 [==============================] - 0s 35ms/step - loss: 0.0013 - mae: 0.0306\n",
            "Epoch 729/1200\n",
            "1/1 [==============================] - 0s 79ms/step - loss: 0.0013 - mae: 0.0305\n",
            "Epoch 730/1200\n",
            "1/1 [==============================] - 0s 16ms/step - loss: 0.0013 - mae: 0.0304\n",
            "Epoch 731/1200\n",
            "1/1 [==============================] - 0s 29ms/step - loss: 0.0012 - mae: 0.0303\n",
            "Epoch 732/1200\n",
            "1/1 [==============================] - 0s 50ms/step - loss: 0.0012 - mae: 0.0302\n",
            "Epoch 733/1200\n",
            "1/1 [==============================] - 0s 31ms/step - loss: 0.0012 - mae: 0.0301\n",
            "Epoch 734/1200\n",
            "1/1 [==============================] - 0s 10ms/step - loss: 0.0012 - mae: 0.0300\n",
            "Epoch 735/1200\n",
            "1/1 [==============================] - 0s 47ms/step - loss: 0.0012 - mae: 0.0299\n",
            "Epoch 736/1200\n",
            "1/1 [==============================] - 0s 17ms/step - loss: 0.0012 - mae: 0.0298\n",
            "Epoch 737/1200\n",
            "1/1 [==============================] - 0s 51ms/step - loss: 0.0012 - mae: 0.0297\n",
            "Epoch 738/1200\n",
            "1/1 [==============================] - 0s 19ms/step - loss: 0.0012 - mae: 0.0296\n",
            "Epoch 739/1200\n",
            "1/1 [==============================] - 0s 20ms/step - loss: 0.0012 - mae: 0.0295\n",
            "Epoch 740/1200\n",
            "1/1 [==============================] - 0s 17ms/step - loss: 0.0012 - mae: 0.0294\n",
            "Epoch 741/1200\n",
            "1/1 [==============================] - 0s 7ms/step - loss: 0.0012 - mae: 0.0293\n",
            "Epoch 742/1200\n",
            "1/1 [==============================] - 0s 10ms/step - loss: 0.0012 - mae: 0.0292\n",
            "Epoch 743/1200\n",
            "1/1 [==============================] - 0s 12ms/step - loss: 0.0012 - mae: 0.0291\n",
            "Epoch 744/1200\n",
            "1/1 [==============================] - 0s 6ms/step - loss: 0.0011 - mae: 0.0290\n",
            "Epoch 745/1200\n",
            "1/1 [==============================] - 0s 6ms/step - loss: 0.0011 - mae: 0.0289\n",
            "Epoch 746/1200\n",
            "1/1 [==============================] - 0s 9ms/step - loss: 0.0011 - mae: 0.0288\n",
            "Epoch 747/1200\n",
            "1/1 [==============================] - 0s 14ms/step - loss: 0.0011 - mae: 0.0287\n",
            "Epoch 748/1200\n",
            "1/1 [==============================] - 0s 11ms/step - loss: 0.0011 - mae: 0.0286\n",
            "Epoch 749/1200\n",
            "1/1 [==============================] - 0s 6ms/step - loss: 0.0011 - mae: 0.0285\n",
            "Epoch 750/1200\n",
            "1/1 [==============================] - 0s 12ms/step - loss: 0.0011 - mae: 0.0284\n",
            "Epoch 751/1200\n",
            "1/1 [==============================] - 0s 7ms/step - loss: 0.0011 - mae: 0.0283\n",
            "Epoch 752/1200\n",
            "1/1 [==============================] - 0s 18ms/step - loss: 0.0011 - mae: 0.0282\n",
            "Epoch 753/1200\n",
            "1/1 [==============================] - 0s 17ms/step - loss: 0.0011 - mae: 0.0281\n",
            "Epoch 754/1200\n",
            "1/1 [==============================] - 0s 18ms/step - loss: 0.0011 - mae: 0.0281\n",
            "Epoch 755/1200\n",
            "1/1 [==============================] - 0s 13ms/step - loss: 0.0011 - mae: 0.0280\n",
            "Epoch 756/1200\n",
            "1/1 [==============================] - 0s 19ms/step - loss: 0.0011 - mae: 0.0279\n",
            "Epoch 757/1200\n",
            "1/1 [==============================] - 0s 15ms/step - loss: 0.0010 - mae: 0.0278\n",
            "Epoch 758/1200\n",
            "1/1 [==============================] - 0s 10ms/step - loss: 0.0010 - mae: 0.0277\n",
            "Epoch 759/1200\n",
            "1/1 [==============================] - 0s 9ms/step - loss: 0.0010 - mae: 0.0276\n",
            "Epoch 760/1200\n",
            "1/1 [==============================] - 0s 23ms/step - loss: 0.0010 - mae: 0.0275\n",
            "Epoch 761/1200\n",
            "1/1 [==============================] - 0s 10ms/step - loss: 0.0010 - mae: 0.0274\n",
            "Epoch 762/1200\n",
            "1/1 [==============================] - 0s 11ms/step - loss: 0.0010 - mae: 0.0273\n",
            "Epoch 763/1200\n",
            "1/1 [==============================] - 0s 6ms/step - loss: 0.0010 - mae: 0.0272\n",
            "Epoch 764/1200\n",
            "1/1 [==============================] - 0s 5ms/step - loss: 9.9820e-04 - mae: 0.0271\n",
            "Epoch 765/1200\n",
            "1/1 [==============================] - 0s 6ms/step - loss: 9.9148e-04 - mae: 0.0270\n",
            "Epoch 766/1200\n",
            "1/1 [==============================] - 0s 10ms/step - loss: 9.8476e-04 - mae: 0.0269\n",
            "Epoch 767/1200\n",
            "1/1 [==============================] - 0s 7ms/step - loss: 9.7814e-04 - mae: 0.0268\n",
            "Epoch 768/1200\n",
            "1/1 [==============================] - 0s 6ms/step - loss: 9.7153e-04 - mae: 0.0268\n",
            "Epoch 769/1200\n",
            "1/1 [==============================] - 0s 16ms/step - loss: 9.6496e-04 - mae: 0.0267\n",
            "Epoch 770/1200\n",
            "1/1 [==============================] - 0s 9ms/step - loss: 9.5847e-04 - mae: 0.0266\n",
            "Epoch 771/1200\n",
            "1/1 [==============================] - 0s 9ms/step - loss: 9.5199e-04 - mae: 0.0265\n",
            "Epoch 772/1200\n",
            "1/1 [==============================] - 0s 6ms/step - loss: 9.4557e-04 - mae: 0.0264\n",
            "Epoch 773/1200\n",
            "1/1 [==============================] - 0s 10ms/step - loss: 9.3917e-04 - mae: 0.0263\n",
            "Epoch 774/1200\n",
            "1/1 [==============================] - 0s 6ms/step - loss: 9.3286e-04 - mae: 0.0262\n",
            "Epoch 775/1200\n",
            "1/1 [==============================] - 0s 6ms/step - loss: 9.2654e-04 - mae: 0.0261\n",
            "Epoch 776/1200\n",
            "1/1 [==============================] - 0s 6ms/step - loss: 9.2030e-04 - mae: 0.0260\n",
            "Epoch 777/1200\n",
            "1/1 [==============================] - 0s 6ms/step - loss: 9.1408e-04 - mae: 0.0260\n",
            "Epoch 778/1200\n",
            "1/1 [==============================] - 0s 9ms/step - loss: 9.0790e-04 - mae: 0.0259\n",
            "Epoch 779/1200\n",
            "1/1 [==============================] - 0s 6ms/step - loss: 9.0176e-04 - mae: 0.0258\n",
            "Epoch 780/1200\n",
            "1/1 [==============================] - 0s 6ms/step - loss: 8.9569e-04 - mae: 0.0257\n",
            "Epoch 781/1200\n",
            "1/1 [==============================] - 0s 6ms/step - loss: 8.8965e-04 - mae: 0.0256\n",
            "Epoch 782/1200\n",
            "1/1 [==============================] - 0s 7ms/step - loss: 8.8362e-04 - mae: 0.0255\n",
            "Epoch 783/1200\n",
            "1/1 [==============================] - 0s 10ms/step - loss: 8.7768e-04 - mae: 0.0254\n",
            "Epoch 784/1200\n",
            "1/1 [==============================] - 0s 20ms/step - loss: 8.7175e-04 - mae: 0.0253\n",
            "Epoch 785/1200\n",
            "1/1 [==============================] - 0s 9ms/step - loss: 8.6587e-04 - mae: 0.0253\n",
            "Epoch 786/1200\n",
            "1/1 [==============================] - 0s 15ms/step - loss: 8.6003e-04 - mae: 0.0252\n",
            "Epoch 787/1200\n",
            "1/1 [==============================] - 0s 13ms/step - loss: 8.5419e-04 - mae: 0.0251\n",
            "Epoch 788/1200\n",
            "1/1 [==============================] - 0s 31ms/step - loss: 8.4844e-04 - mae: 0.0250\n",
            "Epoch 789/1200\n",
            "1/1 [==============================] - 0s 10ms/step - loss: 8.4270e-04 - mae: 0.0249\n",
            "Epoch 790/1200\n",
            "1/1 [==============================] - 0s 32ms/step - loss: 8.3702e-04 - mae: 0.0248\n",
            "Epoch 791/1200\n",
            "1/1 [==============================] - 0s 12ms/step - loss: 8.3138e-04 - mae: 0.0247\n",
            "Epoch 792/1200\n",
            "1/1 [==============================] - 0s 11ms/step - loss: 8.2576e-04 - mae: 0.0247\n",
            "Epoch 793/1200\n",
            "1/1 [==============================] - 0s 12ms/step - loss: 8.2019e-04 - mae: 0.0246\n",
            "Epoch 794/1200\n",
            "1/1 [==============================] - 0s 12ms/step - loss: 8.1465e-04 - mae: 0.0245\n",
            "Epoch 795/1200\n",
            "1/1 [==============================] - 0s 11ms/step - loss: 8.0915e-04 - mae: 0.0244\n",
            "Epoch 796/1200\n",
            "1/1 [==============================] - 0s 26ms/step - loss: 8.0370e-04 - mae: 0.0243\n",
            "Epoch 797/1200\n",
            "1/1 [==============================] - 0s 16ms/step - loss: 7.9825e-04 - mae: 0.0243\n",
            "Epoch 798/1200\n",
            "1/1 [==============================] - 0s 12ms/step - loss: 7.9288e-04 - mae: 0.0242\n",
            "Epoch 799/1200\n",
            "1/1 [==============================] - 0s 19ms/step - loss: 7.8751e-04 - mae: 0.0241\n",
            "Epoch 800/1200\n",
            "1/1 [==============================] - 0s 12ms/step - loss: 7.8222e-04 - mae: 0.0240\n",
            "Epoch 801/1200\n",
            "1/1 [==============================] - 0s 26ms/step - loss: 7.7693e-04 - mae: 0.0239\n",
            "Epoch 802/1200\n",
            "1/1 [==============================] - 0s 22ms/step - loss: 7.7168e-04 - mae: 0.0238\n",
            "Epoch 803/1200\n",
            "1/1 [==============================] - 0s 8ms/step - loss: 7.6647e-04 - mae: 0.0238\n",
            "Epoch 804/1200\n",
            "1/1 [==============================] - 0s 8ms/step - loss: 7.6130e-04 - mae: 0.0237\n",
            "Epoch 805/1200\n",
            "1/1 [==============================] - 0s 17ms/step - loss: 7.5616e-04 - mae: 0.0236\n",
            "Epoch 806/1200\n",
            "1/1 [==============================] - 0s 7ms/step - loss: 7.5105e-04 - mae: 0.0235\n",
            "Epoch 807/1200\n",
            "1/1 [==============================] - 0s 7ms/step - loss: 7.4600e-04 - mae: 0.0234\n",
            "Epoch 808/1200\n",
            "1/1 [==============================] - 0s 11ms/step - loss: 7.4095e-04 - mae: 0.0234\n",
            "Epoch 809/1200\n",
            "1/1 [==============================] - 0s 7ms/step - loss: 7.3594e-04 - mae: 0.0233\n",
            "Epoch 810/1200\n",
            "1/1 [==============================] - 0s 16ms/step - loss: 7.3098e-04 - mae: 0.0232\n",
            "Epoch 811/1200\n",
            "1/1 [==============================] - 0s 15ms/step - loss: 7.2604e-04 - mae: 0.0231\n",
            "Epoch 812/1200\n",
            "1/1 [==============================] - 0s 12ms/step - loss: 7.2114e-04 - mae: 0.0230\n",
            "Epoch 813/1200\n",
            "1/1 [==============================] - 0s 8ms/step - loss: 7.1629e-04 - mae: 0.0230\n",
            "Epoch 814/1200\n",
            "1/1 [==============================] - 0s 9ms/step - loss: 7.1144e-04 - mae: 0.0229\n",
            "Epoch 815/1200\n",
            "1/1 [==============================] - 0s 14ms/step - loss: 7.0664e-04 - mae: 0.0228\n",
            "Epoch 816/1200\n",
            "1/1 [==============================] - 0s 9ms/step - loss: 7.0186e-04 - mae: 0.0227\n",
            "Epoch 817/1200\n",
            "1/1 [==============================] - 0s 10ms/step - loss: 6.9713e-04 - mae: 0.0227\n",
            "Epoch 818/1200\n",
            "1/1 [==============================] - 0s 13ms/step - loss: 6.9243e-04 - mae: 0.0226\n",
            "Epoch 819/1200\n",
            "1/1 [==============================] - 0s 16ms/step - loss: 6.8775e-04 - mae: 0.0225\n",
            "Epoch 820/1200\n",
            "1/1 [==============================] - 0s 12ms/step - loss: 6.8311e-04 - mae: 0.0224\n",
            "Epoch 821/1200\n",
            "1/1 [==============================] - 0s 11ms/step - loss: 6.7850e-04 - mae: 0.0224\n",
            "Epoch 822/1200\n",
            "1/1 [==============================] - 0s 15ms/step - loss: 6.7391e-04 - mae: 0.0223\n",
            "Epoch 823/1200\n",
            "1/1 [==============================] - 0s 11ms/step - loss: 6.6937e-04 - mae: 0.0222\n",
            "Epoch 824/1200\n",
            "1/1 [==============================] - 0s 27ms/step - loss: 6.6484e-04 - mae: 0.0221\n",
            "Epoch 825/1200\n",
            "1/1 [==============================] - 0s 19ms/step - loss: 6.6037e-04 - mae: 0.0221\n",
            "Epoch 826/1200\n",
            "1/1 [==============================] - 0s 13ms/step - loss: 6.5590e-04 - mae: 0.0220\n",
            "Epoch 827/1200\n",
            "1/1 [==============================] - 0s 6ms/step - loss: 6.5148e-04 - mae: 0.0219\n",
            "Epoch 828/1200\n",
            "1/1 [==============================] - 0s 9ms/step - loss: 6.4707e-04 - mae: 0.0218\n",
            "Epoch 829/1200\n",
            "1/1 [==============================] - 0s 8ms/step - loss: 6.4271e-04 - mae: 0.0218\n",
            "Epoch 830/1200\n",
            "1/1 [==============================] - 0s 10ms/step - loss: 6.3836e-04 - mae: 0.0217\n",
            "Epoch 831/1200\n",
            "1/1 [==============================] - 0s 7ms/step - loss: 6.3407e-04 - mae: 0.0216\n",
            "Epoch 832/1200\n",
            "1/1 [==============================] - 0s 17ms/step - loss: 6.2977e-04 - mae: 0.0215\n",
            "Epoch 833/1200\n",
            "1/1 [==============================] - 0s 15ms/step - loss: 6.2552e-04 - mae: 0.0215\n",
            "Epoch 834/1200\n",
            "1/1 [==============================] - 0s 12ms/step - loss: 6.2131e-04 - mae: 0.0214\n",
            "Epoch 835/1200\n",
            "1/1 [==============================] - 0s 10ms/step - loss: 6.1711e-04 - mae: 0.0213\n",
            "Epoch 836/1200\n",
            "1/1 [==============================] - 0s 15ms/step - loss: 6.1295e-04 - mae: 0.0213\n",
            "Epoch 837/1200\n",
            "1/1 [==============================] - 0s 13ms/step - loss: 6.0880e-04 - mae: 0.0212\n",
            "Epoch 838/1200\n",
            "1/1 [==============================] - 0s 7ms/step - loss: 6.0470e-04 - mae: 0.0211\n",
            "Epoch 839/1200\n",
            "1/1 [==============================] - 0s 7ms/step - loss: 6.0062e-04 - mae: 0.0210\n",
            "Epoch 840/1200\n",
            "1/1 [==============================] - 0s 6ms/step - loss: 5.9657e-04 - mae: 0.0210\n",
            "Epoch 841/1200\n",
            "1/1 [==============================] - 0s 11ms/step - loss: 5.9253e-04 - mae: 0.0209\n",
            "Epoch 842/1200\n",
            "1/1 [==============================] - 0s 6ms/step - loss: 5.8853e-04 - mae: 0.0208\n",
            "Epoch 843/1200\n",
            "1/1 [==============================] - 0s 6ms/step - loss: 5.8456e-04 - mae: 0.0208\n",
            "Epoch 844/1200\n",
            "1/1 [==============================] - 0s 6ms/step - loss: 5.8062e-04 - mae: 0.0207\n",
            "Epoch 845/1200\n",
            "1/1 [==============================] - 0s 8ms/step - loss: 5.7669e-04 - mae: 0.0206\n",
            "Epoch 846/1200\n",
            "1/1 [==============================] - 0s 9ms/step - loss: 5.7281e-04 - mae: 0.0205\n",
            "Epoch 847/1200\n",
            "1/1 [==============================] - 0s 8ms/step - loss: 5.6894e-04 - mae: 0.0205\n",
            "Epoch 848/1200\n",
            "1/1 [==============================] - 0s 6ms/step - loss: 5.6511e-04 - mae: 0.0204\n",
            "Epoch 849/1200\n",
            "1/1 [==============================] - 0s 5ms/step - loss: 5.6127e-04 - mae: 0.0203\n",
            "Epoch 850/1200\n",
            "1/1 [==============================] - 0s 8ms/step - loss: 5.5750e-04 - mae: 0.0203\n",
            "Epoch 851/1200\n",
            "1/1 [==============================] - 0s 6ms/step - loss: 5.5373e-04 - mae: 0.0202\n",
            "Epoch 852/1200\n",
            "1/1 [==============================] - 0s 7ms/step - loss: 5.4999e-04 - mae: 0.0201\n",
            "Epoch 853/1200\n",
            "1/1 [==============================] - 0s 6ms/step - loss: 5.4628e-04 - mae: 0.0201\n",
            "Epoch 854/1200\n",
            "1/1 [==============================] - 0s 8ms/step - loss: 5.4260e-04 - mae: 0.0200\n",
            "Epoch 855/1200\n",
            "1/1 [==============================] - 0s 6ms/step - loss: 5.3892e-04 - mae: 0.0199\n",
            "Epoch 856/1200\n",
            "1/1 [==============================] - 0s 14ms/step - loss: 5.3529e-04 - mae: 0.0199\n",
            "Epoch 857/1200\n",
            "1/1 [==============================] - 0s 13ms/step - loss: 5.3168e-04 - mae: 0.0198\n",
            "Epoch 858/1200\n",
            "1/1 [==============================] - 0s 6ms/step - loss: 5.2808e-04 - mae: 0.0197\n",
            "Epoch 859/1200\n",
            "1/1 [==============================] - 0s 6ms/step - loss: 5.2452e-04 - mae: 0.0197\n",
            "Epoch 860/1200\n",
            "1/1 [==============================] - 0s 6ms/step - loss: 5.2097e-04 - mae: 0.0196\n",
            "Epoch 861/1200\n",
            "1/1 [==============================] - 0s 6ms/step - loss: 5.1747e-04 - mae: 0.0195\n",
            "Epoch 862/1200\n",
            "1/1 [==============================] - 0s 16ms/step - loss: 5.1398e-04 - mae: 0.0195\n",
            "Epoch 863/1200\n",
            "1/1 [==============================] - 0s 16ms/step - loss: 5.1051e-04 - mae: 0.0194\n",
            "Epoch 864/1200\n",
            "1/1 [==============================] - 0s 19ms/step - loss: 5.0707e-04 - mae: 0.0193\n",
            "Epoch 865/1200\n",
            "1/1 [==============================] - 0s 8ms/step - loss: 5.0365e-04 - mae: 0.0193\n",
            "Epoch 866/1200\n",
            "1/1 [==============================] - 0s 7ms/step - loss: 5.0025e-04 - mae: 0.0192\n",
            "Epoch 867/1200\n",
            "1/1 [==============================] - 0s 12ms/step - loss: 4.9686e-04 - mae: 0.0191\n",
            "Epoch 868/1200\n",
            "1/1 [==============================] - 0s 12ms/step - loss: 4.9350e-04 - mae: 0.0191\n",
            "Epoch 869/1200\n",
            "1/1 [==============================] - 0s 16ms/step - loss: 4.9018e-04 - mae: 0.0190\n",
            "Epoch 870/1200\n",
            "1/1 [==============================] - 0s 14ms/step - loss: 4.8687e-04 - mae: 0.0189\n",
            "Epoch 871/1200\n",
            "1/1 [==============================] - 0s 12ms/step - loss: 4.8357e-04 - mae: 0.0189\n",
            "Epoch 872/1200\n",
            "1/1 [==============================] - 0s 12ms/step - loss: 4.8031e-04 - mae: 0.0188\n",
            "Epoch 873/1200\n",
            "1/1 [==============================] - 0s 13ms/step - loss: 4.7707e-04 - mae: 0.0187\n",
            "Epoch 874/1200\n",
            "1/1 [==============================] - 0s 13ms/step - loss: 4.7385e-04 - mae: 0.0187\n",
            "Epoch 875/1200\n",
            "1/1 [==============================] - 0s 9ms/step - loss: 4.7065e-04 - mae: 0.0186\n",
            "Epoch 876/1200\n",
            "1/1 [==============================] - 0s 6ms/step - loss: 4.6747e-04 - mae: 0.0186\n",
            "Epoch 877/1200\n",
            "1/1 [==============================] - 0s 6ms/step - loss: 4.6432e-04 - mae: 0.0185\n",
            "Epoch 878/1200\n",
            "1/1 [==============================] - 0s 6ms/step - loss: 4.6120e-04 - mae: 0.0184\n",
            "Epoch 879/1200\n",
            "1/1 [==============================] - 0s 6ms/step - loss: 4.5807e-04 - mae: 0.0184\n",
            "Epoch 880/1200\n",
            "1/1 [==============================] - 0s 6ms/step - loss: 4.5498e-04 - mae: 0.0183\n",
            "Epoch 881/1200\n",
            "1/1 [==============================] - 0s 6ms/step - loss: 4.5191e-04 - mae: 0.0182\n",
            "Epoch 882/1200\n",
            "1/1 [==============================] - 0s 6ms/step - loss: 4.4885e-04 - mae: 0.0182\n",
            "Epoch 883/1200\n",
            "1/1 [==============================] - 0s 7ms/step - loss: 4.4583e-04 - mae: 0.0181\n",
            "Epoch 884/1200\n",
            "1/1 [==============================] - 0s 7ms/step - loss: 4.4282e-04 - mae: 0.0181\n",
            "Epoch 885/1200\n",
            "1/1 [==============================] - 0s 7ms/step - loss: 4.3983e-04 - mae: 0.0180\n",
            "Epoch 886/1200\n",
            "1/1 [==============================] - 0s 6ms/step - loss: 4.3687e-04 - mae: 0.0179\n",
            "Epoch 887/1200\n",
            "1/1 [==============================] - 0s 7ms/step - loss: 4.3392e-04 - mae: 0.0179\n",
            "Epoch 888/1200\n",
            "1/1 [==============================] - 0s 8ms/step - loss: 4.3098e-04 - mae: 0.0178\n",
            "Epoch 889/1200\n",
            "1/1 [==============================] - 0s 10ms/step - loss: 4.2807e-04 - mae: 0.0178\n",
            "Epoch 890/1200\n",
            "1/1 [==============================] - 0s 6ms/step - loss: 4.2517e-04 - mae: 0.0177\n",
            "Epoch 891/1200\n",
            "1/1 [==============================] - 0s 7ms/step - loss: 4.2230e-04 - mae: 0.0176\n",
            "Epoch 892/1200\n",
            "1/1 [==============================] - 0s 7ms/step - loss: 4.1945e-04 - mae: 0.0176\n",
            "Epoch 893/1200\n",
            "1/1 [==============================] - 0s 10ms/step - loss: 4.1664e-04 - mae: 0.0175\n",
            "Epoch 894/1200\n",
            "1/1 [==============================] - 0s 10ms/step - loss: 4.1381e-04 - mae: 0.0175\n",
            "Epoch 895/1200\n",
            "1/1 [==============================] - 0s 6ms/step - loss: 4.1102e-04 - mae: 0.0174\n",
            "Epoch 896/1200\n",
            "1/1 [==============================] - 0s 7ms/step - loss: 4.0826e-04 - mae: 0.0173\n",
            "Epoch 897/1200\n",
            "1/1 [==============================] - 0s 9ms/step - loss: 4.0549e-04 - mae: 0.0173\n",
            "Epoch 898/1200\n",
            "1/1 [==============================] - 0s 7ms/step - loss: 4.0275e-04 - mae: 0.0172\n",
            "Epoch 899/1200\n",
            "1/1 [==============================] - 0s 6ms/step - loss: 4.0004e-04 - mae: 0.0172\n",
            "Epoch 900/1200\n",
            "1/1 [==============================] - 0s 63ms/step - loss: 3.9733e-04 - mae: 0.0171\n",
            "Epoch 901/1200\n",
            "1/1 [==============================] - 0s 6ms/step - loss: 3.9465e-04 - mae: 0.0171\n",
            "Epoch 902/1200\n",
            "1/1 [==============================] - 0s 9ms/step - loss: 3.9198e-04 - mae: 0.0170\n",
            "Epoch 903/1200\n",
            "1/1 [==============================] - 0s 16ms/step - loss: 3.8935e-04 - mae: 0.0169\n",
            "Epoch 904/1200\n",
            "1/1 [==============================] - 0s 12ms/step - loss: 3.8671e-04 - mae: 0.0169\n",
            "Epoch 905/1200\n",
            "1/1 [==============================] - 0s 20ms/step - loss: 3.8410e-04 - mae: 0.0168\n",
            "Epoch 906/1200\n",
            "1/1 [==============================] - 0s 14ms/step - loss: 3.8150e-04 - mae: 0.0168\n",
            "Epoch 907/1200\n",
            "1/1 [==============================] - 0s 7ms/step - loss: 3.7894e-04 - mae: 0.0167\n",
            "Epoch 908/1200\n",
            "1/1 [==============================] - 0s 8ms/step - loss: 3.7638e-04 - mae: 0.0167\n",
            "Epoch 909/1200\n",
            "1/1 [==============================] - 0s 10ms/step - loss: 3.7384e-04 - mae: 0.0166\n",
            "Epoch 910/1200\n",
            "1/1 [==============================] - 0s 7ms/step - loss: 3.7131e-04 - mae: 0.0165\n",
            "Epoch 911/1200\n",
            "1/1 [==============================] - 0s 7ms/step - loss: 3.6880e-04 - mae: 0.0165\n",
            "Epoch 912/1200\n",
            "1/1 [==============================] - 0s 6ms/step - loss: 3.6632e-04 - mae: 0.0164\n",
            "Epoch 913/1200\n",
            "1/1 [==============================] - 0s 7ms/step - loss: 3.6385e-04 - mae: 0.0164\n",
            "Epoch 914/1200\n",
            "1/1 [==============================] - 0s 7ms/step - loss: 3.6139e-04 - mae: 0.0163\n",
            "Epoch 915/1200\n",
            "1/1 [==============================] - 0s 7ms/step - loss: 3.5895e-04 - mae: 0.0163\n",
            "Epoch 916/1200\n",
            "1/1 [==============================] - 0s 7ms/step - loss: 3.5653e-04 - mae: 0.0162\n",
            "Epoch 917/1200\n",
            "1/1 [==============================] - 0s 7ms/step - loss: 3.5413e-04 - mae: 0.0162\n",
            "Epoch 918/1200\n",
            "1/1 [==============================] - 0s 7ms/step - loss: 3.5174e-04 - mae: 0.0161\n",
            "Epoch 919/1200\n",
            "1/1 [==============================] - 0s 7ms/step - loss: 3.4935e-04 - mae: 0.0160\n",
            "Epoch 920/1200\n",
            "1/1 [==============================] - 0s 6ms/step - loss: 3.4699e-04 - mae: 0.0160\n",
            "Epoch 921/1200\n",
            "1/1 [==============================] - 0s 7ms/step - loss: 3.4465e-04 - mae: 0.0159\n",
            "Epoch 922/1200\n",
            "1/1 [==============================] - 0s 7ms/step - loss: 3.4233e-04 - mae: 0.0159\n",
            "Epoch 923/1200\n",
            "1/1 [==============================] - 0s 7ms/step - loss: 3.4002e-04 - mae: 0.0158\n",
            "Epoch 924/1200\n",
            "1/1 [==============================] - 0s 7ms/step - loss: 3.3772e-04 - mae: 0.0158\n",
            "Epoch 925/1200\n",
            "1/1 [==============================] - 0s 7ms/step - loss: 3.3544e-04 - mae: 0.0157\n",
            "Epoch 926/1200\n",
            "1/1 [==============================] - 0s 7ms/step - loss: 3.3317e-04 - mae: 0.0157\n",
            "Epoch 927/1200\n",
            "1/1 [==============================] - 0s 9ms/step - loss: 3.3093e-04 - mae: 0.0156\n",
            "Epoch 928/1200\n",
            "1/1 [==============================] - 0s 14ms/step - loss: 3.2869e-04 - mae: 0.0156\n",
            "Epoch 929/1200\n",
            "1/1 [==============================] - 0s 87ms/step - loss: 3.2648e-04 - mae: 0.0155\n",
            "Epoch 930/1200\n",
            "1/1 [==============================] - 0s 9ms/step - loss: 3.2428e-04 - mae: 0.0155\n",
            "Epoch 931/1200\n",
            "1/1 [==============================] - 0s 7ms/step - loss: 3.2208e-04 - mae: 0.0154\n",
            "Epoch 932/1200\n",
            "1/1 [==============================] - 0s 11ms/step - loss: 3.1991e-04 - mae: 0.0154\n",
            "Epoch 933/1200\n",
            "1/1 [==============================] - 0s 9ms/step - loss: 3.1776e-04 - mae: 0.0153\n",
            "Epoch 934/1200\n",
            "1/1 [==============================] - 0s 17ms/step - loss: 3.1560e-04 - mae: 0.0152\n",
            "Epoch 935/1200\n",
            "1/1 [==============================] - 0s 17ms/step - loss: 3.1348e-04 - mae: 0.0152\n",
            "Epoch 936/1200\n",
            "1/1 [==============================] - 0s 18ms/step - loss: 3.1135e-04 - mae: 0.0151\n",
            "Epoch 937/1200\n",
            "1/1 [==============================] - 0s 18ms/step - loss: 3.0926e-04 - mae: 0.0151\n",
            "Epoch 938/1200\n",
            "1/1 [==============================] - 0s 17ms/step - loss: 3.0716e-04 - mae: 0.0150\n",
            "Epoch 939/1200\n",
            "1/1 [==============================] - 0s 12ms/step - loss: 3.0509e-04 - mae: 0.0150\n",
            "Epoch 940/1200\n",
            "1/1 [==============================] - 0s 8ms/step - loss: 3.0303e-04 - mae: 0.0149\n",
            "Epoch 941/1200\n",
            "1/1 [==============================] - 0s 12ms/step - loss: 3.0100e-04 - mae: 0.0149\n",
            "Epoch 942/1200\n",
            "1/1 [==============================] - 0s 9ms/step - loss: 2.9897e-04 - mae: 0.0148\n",
            "Epoch 943/1200\n",
            "1/1 [==============================] - 0s 11ms/step - loss: 2.9694e-04 - mae: 0.0148\n",
            "Epoch 944/1200\n",
            "1/1 [==============================] - 0s 14ms/step - loss: 2.9493e-04 - mae: 0.0147\n",
            "Epoch 945/1200\n",
            "1/1 [==============================] - 0s 7ms/step - loss: 2.9295e-04 - mae: 0.0147\n",
            "Epoch 946/1200\n",
            "1/1 [==============================] - 0s 11ms/step - loss: 2.9097e-04 - mae: 0.0146\n",
            "Epoch 947/1200\n",
            "1/1 [==============================] - 0s 7ms/step - loss: 2.8901e-04 - mae: 0.0146\n",
            "Epoch 948/1200\n",
            "1/1 [==============================] - 0s 8ms/step - loss: 2.8705e-04 - mae: 0.0145\n",
            "Epoch 949/1200\n",
            "1/1 [==============================] - 0s 12ms/step - loss: 2.8511e-04 - mae: 0.0145\n",
            "Epoch 950/1200\n",
            "1/1 [==============================] - 0s 14ms/step - loss: 2.8319e-04 - mae: 0.0144\n",
            "Epoch 951/1200\n",
            "1/1 [==============================] - 0s 10ms/step - loss: 2.8129e-04 - mae: 0.0144\n",
            "Epoch 952/1200\n",
            "1/1 [==============================] - 0s 10ms/step - loss: 2.7937e-04 - mae: 0.0143\n",
            "Epoch 953/1200\n",
            "1/1 [==============================] - 0s 11ms/step - loss: 2.7749e-04 - mae: 0.0143\n",
            "Epoch 954/1200\n",
            "1/1 [==============================] - 0s 6ms/step - loss: 2.7562e-04 - mae: 0.0142\n",
            "Epoch 955/1200\n",
            "1/1 [==============================] - 0s 8ms/step - loss: 2.7377e-04 - mae: 0.0142\n",
            "Epoch 956/1200\n",
            "1/1 [==============================] - 0s 11ms/step - loss: 2.7191e-04 - mae: 0.0142\n",
            "Epoch 957/1200\n",
            "1/1 [==============================] - 0s 11ms/step - loss: 2.7008e-04 - mae: 0.0141\n",
            "Epoch 958/1200\n",
            "1/1 [==============================] - 0s 10ms/step - loss: 2.6826e-04 - mae: 0.0141\n",
            "Epoch 959/1200\n",
            "1/1 [==============================] - 0s 9ms/step - loss: 2.6644e-04 - mae: 0.0140\n",
            "Epoch 960/1200\n",
            "1/1 [==============================] - 0s 17ms/step - loss: 2.6465e-04 - mae: 0.0140\n",
            "Epoch 961/1200\n",
            "1/1 [==============================] - 0s 7ms/step - loss: 2.6286e-04 - mae: 0.0139\n",
            "Epoch 962/1200\n",
            "1/1 [==============================] - 0s 7ms/step - loss: 2.6108e-04 - mae: 0.0139\n",
            "Epoch 963/1200\n",
            "1/1 [==============================] - 0s 6ms/step - loss: 2.5933e-04 - mae: 0.0138\n",
            "Epoch 964/1200\n",
            "1/1 [==============================] - 0s 14ms/step - loss: 2.5758e-04 - mae: 0.0138\n",
            "Epoch 965/1200\n",
            "1/1 [==============================] - 0s 9ms/step - loss: 2.5583e-04 - mae: 0.0137\n",
            "Epoch 966/1200\n",
            "1/1 [==============================] - 0s 12ms/step - loss: 2.5411e-04 - mae: 0.0137\n",
            "Epoch 967/1200\n",
            "1/1 [==============================] - 0s 10ms/step - loss: 2.5239e-04 - mae: 0.0136\n",
            "Epoch 968/1200\n",
            "1/1 [==============================] - 0s 20ms/step - loss: 2.5069e-04 - mae: 0.0136\n",
            "Epoch 969/1200\n",
            "1/1 [==============================] - 0s 19ms/step - loss: 2.4899e-04 - mae: 0.0135\n",
            "Epoch 970/1200\n",
            "1/1 [==============================] - 0s 16ms/step - loss: 2.4732e-04 - mae: 0.0135\n",
            "Epoch 971/1200\n",
            "1/1 [==============================] - 0s 38ms/step - loss: 2.4565e-04 - mae: 0.0135\n",
            "Epoch 972/1200\n",
            "1/1 [==============================] - 0s 11ms/step - loss: 2.4399e-04 - mae: 0.0134\n",
            "Epoch 973/1200\n",
            "1/1 [==============================] - 0s 14ms/step - loss: 2.4235e-04 - mae: 0.0134\n",
            "Epoch 974/1200\n",
            "1/1 [==============================] - 0s 11ms/step - loss: 2.4071e-04 - mae: 0.0133\n",
            "Epoch 975/1200\n",
            "1/1 [==============================] - 0s 11ms/step - loss: 2.3908e-04 - mae: 0.0133\n",
            "Epoch 976/1200\n",
            "1/1 [==============================] - 0s 12ms/step - loss: 2.3747e-04 - mae: 0.0132\n",
            "Epoch 977/1200\n",
            "1/1 [==============================] - 0s 26ms/step - loss: 2.3586e-04 - mae: 0.0132\n",
            "Epoch 978/1200\n",
            "1/1 [==============================] - 0s 51ms/step - loss: 2.3427e-04 - mae: 0.0131\n",
            "Epoch 979/1200\n",
            "1/1 [==============================] - 0s 14ms/step - loss: 2.3268e-04 - mae: 0.0131\n",
            "Epoch 980/1200\n",
            "1/1 [==============================] - 0s 9ms/step - loss: 2.3113e-04 - mae: 0.0130\n",
            "Epoch 981/1200\n",
            "1/1 [==============================] - 0s 18ms/step - loss: 2.2956e-04 - mae: 0.0130\n",
            "Epoch 982/1200\n",
            "1/1 [==============================] - 0s 56ms/step - loss: 2.2802e-04 - mae: 0.0130\n",
            "Epoch 983/1200\n",
            "1/1 [==============================] - 0s 9ms/step - loss: 2.2646e-04 - mae: 0.0129\n",
            "Epoch 984/1200\n",
            "1/1 [==============================] - 0s 11ms/step - loss: 2.2494e-04 - mae: 0.0129\n",
            "Epoch 985/1200\n",
            "1/1 [==============================] - 0s 12ms/step - loss: 2.2343e-04 - mae: 0.0128\n",
            "Epoch 986/1200\n",
            "1/1 [==============================] - 0s 17ms/step - loss: 2.2191e-04 - mae: 0.0128\n",
            "Epoch 987/1200\n",
            "1/1 [==============================] - 0s 16ms/step - loss: 2.2042e-04 - mae: 0.0127\n",
            "Epoch 988/1200\n",
            "1/1 [==============================] - 0s 24ms/step - loss: 2.1893e-04 - mae: 0.0127\n",
            "Epoch 989/1200\n",
            "1/1 [==============================] - 0s 73ms/step - loss: 2.1746e-04 - mae: 0.0127\n",
            "Epoch 990/1200\n",
            "1/1 [==============================] - 0s 44ms/step - loss: 2.1599e-04 - mae: 0.0126\n",
            "Epoch 991/1200\n",
            "1/1 [==============================] - 0s 11ms/step - loss: 2.1452e-04 - mae: 0.0126\n",
            "Epoch 992/1200\n",
            "1/1 [==============================] - 0s 11ms/step - loss: 2.1308e-04 - mae: 0.0125\n",
            "Epoch 993/1200\n",
            "1/1 [==============================] - 0s 9ms/step - loss: 2.1164e-04 - mae: 0.0125\n",
            "Epoch 994/1200\n",
            "1/1 [==============================] - 0s 7ms/step - loss: 2.1020e-04 - mae: 0.0124\n",
            "Epoch 995/1200\n",
            "1/1 [==============================] - 0s 11ms/step - loss: 2.0880e-04 - mae: 0.0124\n",
            "Epoch 996/1200\n",
            "1/1 [==============================] - 0s 12ms/step - loss: 2.0738e-04 - mae: 0.0124\n",
            "Epoch 997/1200\n",
            "1/1 [==============================] - 0s 26ms/step - loss: 2.0598e-04 - mae: 0.0123\n",
            "Epoch 998/1200\n",
            "1/1 [==============================] - 0s 10ms/step - loss: 2.0459e-04 - mae: 0.0123\n",
            "Epoch 999/1200\n",
            "1/1 [==============================] - 0s 12ms/step - loss: 2.0321e-04 - mae: 0.0122\n",
            "Epoch 1000/1200\n",
            "1/1 [==============================] - 0s 11ms/step - loss: 2.0184e-04 - mae: 0.0122\n",
            "Epoch 1001/1200\n",
            "1/1 [==============================] - 0s 9ms/step - loss: 2.0049e-04 - mae: 0.0122\n",
            "Epoch 1002/1200\n",
            "1/1 [==============================] - 0s 8ms/step - loss: 1.9912e-04 - mae: 0.0121\n",
            "Epoch 1003/1200\n",
            "1/1 [==============================] - 0s 11ms/step - loss: 1.9779e-04 - mae: 0.0121\n",
            "Epoch 1004/1200\n",
            "1/1 [==============================] - 0s 7ms/step - loss: 1.9645e-04 - mae: 0.0120\n",
            "Epoch 1005/1200\n",
            "1/1 [==============================] - 0s 7ms/step - loss: 1.9511e-04 - mae: 0.0120\n",
            "Epoch 1006/1200\n",
            "1/1 [==============================] - 0s 6ms/step - loss: 1.9380e-04 - mae: 0.0119\n",
            "Epoch 1007/1200\n",
            "1/1 [==============================] - 0s 7ms/step - loss: 1.9250e-04 - mae: 0.0119\n",
            "Epoch 1008/1200\n",
            "1/1 [==============================] - 0s 7ms/step - loss: 1.9119e-04 - mae: 0.0119\n",
            "Epoch 1009/1200\n",
            "1/1 [==============================] - 0s 7ms/step - loss: 1.8990e-04 - mae: 0.0118\n",
            "Epoch 1010/1200\n",
            "1/1 [==============================] - 0s 9ms/step - loss: 1.8862e-04 - mae: 0.0118\n",
            "Epoch 1011/1200\n",
            "1/1 [==============================] - 0s 12ms/step - loss: 1.8734e-04 - mae: 0.0117\n",
            "Epoch 1012/1200\n",
            "1/1 [==============================] - 0s 6ms/step - loss: 1.8608e-04 - mae: 0.0117\n",
            "Epoch 1013/1200\n",
            "1/1 [==============================] - 0s 6ms/step - loss: 1.8483e-04 - mae: 0.0117\n",
            "Epoch 1014/1200\n",
            "1/1 [==============================] - 0s 12ms/step - loss: 1.8358e-04 - mae: 0.0116\n",
            "Epoch 1015/1200\n",
            "1/1 [==============================] - 0s 21ms/step - loss: 1.8234e-04 - mae: 0.0116\n",
            "Epoch 1016/1200\n",
            "1/1 [==============================] - 0s 25ms/step - loss: 1.8111e-04 - mae: 0.0116\n",
            "Epoch 1017/1200\n",
            "1/1 [==============================] - 0s 22ms/step - loss: 1.7988e-04 - mae: 0.0115\n",
            "Epoch 1018/1200\n",
            "1/1 [==============================] - 0s 10ms/step - loss: 1.7867e-04 - mae: 0.0115\n",
            "Epoch 1019/1200\n",
            "1/1 [==============================] - 0s 16ms/step - loss: 1.7747e-04 - mae: 0.0114\n",
            "Epoch 1020/1200\n",
            "1/1 [==============================] - 0s 12ms/step - loss: 1.7626e-04 - mae: 0.0114\n",
            "Epoch 1021/1200\n",
            "1/1 [==============================] - 0s 11ms/step - loss: 1.7507e-04 - mae: 0.0114\n",
            "Epoch 1022/1200\n",
            "1/1 [==============================] - 0s 17ms/step - loss: 1.7389e-04 - mae: 0.0113\n",
            "Epoch 1023/1200\n",
            "1/1 [==============================] - 0s 22ms/step - loss: 1.7272e-04 - mae: 0.0113\n",
            "Epoch 1024/1200\n",
            "1/1 [==============================] - 0s 14ms/step - loss: 1.7155e-04 - mae: 0.0112\n",
            "Epoch 1025/1200\n",
            "1/1 [==============================] - 0s 12ms/step - loss: 1.7039e-04 - mae: 0.0112\n",
            "Epoch 1026/1200\n",
            "1/1 [==============================] - 0s 11ms/step - loss: 1.6924e-04 - mae: 0.0112\n",
            "Epoch 1027/1200\n",
            "1/1 [==============================] - 0s 17ms/step - loss: 1.6810e-04 - mae: 0.0111\n",
            "Epoch 1028/1200\n",
            "1/1 [==============================] - 0s 15ms/step - loss: 1.6697e-04 - mae: 0.0111\n",
            "Epoch 1029/1200\n",
            "1/1 [==============================] - 0s 10ms/step - loss: 1.6584e-04 - mae: 0.0111\n",
            "Epoch 1030/1200\n",
            "1/1 [==============================] - 0s 13ms/step - loss: 1.6472e-04 - mae: 0.0110\n",
            "Epoch 1031/1200\n",
            "1/1 [==============================] - 0s 17ms/step - loss: 1.6361e-04 - mae: 0.0110\n",
            "Epoch 1032/1200\n",
            "1/1 [==============================] - 0s 17ms/step - loss: 1.6250e-04 - mae: 0.0109\n",
            "Epoch 1033/1200\n",
            "1/1 [==============================] - 0s 17ms/step - loss: 1.6141e-04 - mae: 0.0109\n",
            "Epoch 1034/1200\n",
            "1/1 [==============================] - 0s 14ms/step - loss: 1.6032e-04 - mae: 0.0109\n",
            "Epoch 1035/1200\n",
            "1/1 [==============================] - 0s 12ms/step - loss: 1.5924e-04 - mae: 0.0108\n",
            "Epoch 1036/1200\n",
            "1/1 [==============================] - 0s 13ms/step - loss: 1.5816e-04 - mae: 0.0108\n",
            "Epoch 1037/1200\n",
            "1/1 [==============================] - 0s 16ms/step - loss: 1.5709e-04 - mae: 0.0108\n",
            "Epoch 1038/1200\n",
            "1/1 [==============================] - 0s 17ms/step - loss: 1.5603e-04 - mae: 0.0107\n",
            "Epoch 1039/1200\n",
            "1/1 [==============================] - 0s 16ms/step - loss: 1.5498e-04 - mae: 0.0107\n",
            "Epoch 1040/1200\n",
            "1/1 [==============================] - 0s 15ms/step - loss: 1.5393e-04 - mae: 0.0106\n",
            "Epoch 1041/1200\n",
            "1/1 [==============================] - 0s 14ms/step - loss: 1.5290e-04 - mae: 0.0106\n",
            "Epoch 1042/1200\n",
            "1/1 [==============================] - 0s 13ms/step - loss: 1.5186e-04 - mae: 0.0106\n",
            "Epoch 1043/1200\n",
            "1/1 [==============================] - 0s 11ms/step - loss: 1.5084e-04 - mae: 0.0105\n",
            "Epoch 1044/1200\n",
            "1/1 [==============================] - 0s 16ms/step - loss: 1.4982e-04 - mae: 0.0105\n",
            "Epoch 1045/1200\n",
            "1/1 [==============================] - 0s 10ms/step - loss: 1.4880e-04 - mae: 0.0105\n",
            "Epoch 1046/1200\n",
            "1/1 [==============================] - 0s 7ms/step - loss: 1.4780e-04 - mae: 0.0104\n",
            "Epoch 1047/1200\n",
            "1/1 [==============================] - 0s 10ms/step - loss: 1.4680e-04 - mae: 0.0104\n",
            "Epoch 1048/1200\n",
            "1/1 [==============================] - 0s 7ms/step - loss: 1.4581e-04 - mae: 0.0104\n",
            "Epoch 1049/1200\n",
            "1/1 [==============================] - 0s 8ms/step - loss: 1.4483e-04 - mae: 0.0103\n",
            "Epoch 1050/1200\n",
            "1/1 [==============================] - 0s 7ms/step - loss: 1.4385e-04 - mae: 0.0103\n",
            "Epoch 1051/1200\n",
            "1/1 [==============================] - 0s 7ms/step - loss: 1.4289e-04 - mae: 0.0103\n",
            "Epoch 1052/1200\n",
            "1/1 [==============================] - 0s 7ms/step - loss: 1.4191e-04 - mae: 0.0102\n",
            "Epoch 1053/1200\n",
            "1/1 [==============================] - 0s 6ms/step - loss: 1.4096e-04 - mae: 0.0102\n",
            "Epoch 1054/1200\n",
            "1/1 [==============================] - 0s 7ms/step - loss: 1.4001e-04 - mae: 0.0102\n",
            "Epoch 1055/1200\n",
            "1/1 [==============================] - 0s 7ms/step - loss: 1.3906e-04 - mae: 0.0101\n",
            "Epoch 1056/1200\n",
            "1/1 [==============================] - 0s 7ms/step - loss: 1.3812e-04 - mae: 0.0101\n",
            "Epoch 1057/1200\n",
            "1/1 [==============================] - 0s 20ms/step - loss: 1.3720e-04 - mae: 0.0101\n",
            "Epoch 1058/1200\n",
            "1/1 [==============================] - 0s 6ms/step - loss: 1.3627e-04 - mae: 0.0100\n",
            "Epoch 1059/1200\n",
            "1/1 [==============================] - 0s 9ms/step - loss: 1.3535e-04 - mae: 0.0100\n",
            "Epoch 1060/1200\n",
            "1/1 [==============================] - 0s 9ms/step - loss: 1.3443e-04 - mae: 0.0100\n",
            "Epoch 1061/1200\n",
            "1/1 [==============================] - 0s 8ms/step - loss: 1.3352e-04 - mae: 0.0099\n",
            "Epoch 1062/1200\n",
            "1/1 [==============================] - 0s 10ms/step - loss: 1.3262e-04 - mae: 0.0099\n",
            "Epoch 1063/1200\n",
            "1/1 [==============================] - 0s 9ms/step - loss: 1.3172e-04 - mae: 0.0099\n",
            "Epoch 1064/1200\n",
            "1/1 [==============================] - 0s 8ms/step - loss: 1.3084e-04 - mae: 0.0098\n",
            "Epoch 1065/1200\n",
            "1/1 [==============================] - 0s 10ms/step - loss: 1.2995e-04 - mae: 0.0098\n",
            "Epoch 1066/1200\n",
            "1/1 [==============================] - 0s 13ms/step - loss: 1.2908e-04 - mae: 0.0098\n",
            "Epoch 1067/1200\n",
            "1/1 [==============================] - 0s 11ms/step - loss: 1.2821e-04 - mae: 0.0097\n",
            "Epoch 1068/1200\n",
            "1/1 [==============================] - 0s 10ms/step - loss: 1.2734e-04 - mae: 0.0097\n",
            "Epoch 1069/1200\n",
            "1/1 [==============================] - 0s 11ms/step - loss: 1.2648e-04 - mae: 0.0097\n",
            "Epoch 1070/1200\n",
            "1/1 [==============================] - 0s 12ms/step - loss: 1.2563e-04 - mae: 0.0096\n",
            "Epoch 1071/1200\n",
            "1/1 [==============================] - 0s 12ms/step - loss: 1.2478e-04 - mae: 0.0096\n",
            "Epoch 1072/1200\n",
            "1/1 [==============================] - 0s 17ms/step - loss: 1.2394e-04 - mae: 0.0096\n",
            "Epoch 1073/1200\n",
            "1/1 [==============================] - 0s 12ms/step - loss: 1.2310e-04 - mae: 0.0095\n",
            "Epoch 1074/1200\n",
            "1/1 [==============================] - 0s 10ms/step - loss: 1.2227e-04 - mae: 0.0095\n",
            "Epoch 1075/1200\n",
            "1/1 [==============================] - 0s 25ms/step - loss: 1.2144e-04 - mae: 0.0095\n",
            "Epoch 1076/1200\n",
            "1/1 [==============================] - 0s 10ms/step - loss: 1.2062e-04 - mae: 0.0094\n",
            "Epoch 1077/1200\n",
            "1/1 [==============================] - 0s 10ms/step - loss: 1.1981e-04 - mae: 0.0094\n",
            "Epoch 1078/1200\n",
            "1/1 [==============================] - 0s 12ms/step - loss: 1.1900e-04 - mae: 0.0094\n",
            "Epoch 1079/1200\n",
            "1/1 [==============================] - 0s 11ms/step - loss: 1.1819e-04 - mae: 0.0093\n",
            "Epoch 1080/1200\n",
            "1/1 [==============================] - 0s 16ms/step - loss: 1.1739e-04 - mae: 0.0093\n",
            "Epoch 1081/1200\n",
            "1/1 [==============================] - 0s 10ms/step - loss: 1.1661e-04 - mae: 0.0093\n",
            "Epoch 1082/1200\n",
            "1/1 [==============================] - 0s 11ms/step - loss: 1.1582e-04 - mae: 0.0092\n",
            "Epoch 1083/1200\n",
            "1/1 [==============================] - 0s 70ms/step - loss: 1.1504e-04 - mae: 0.0092\n",
            "Epoch 1084/1200\n",
            "1/1 [==============================] - 0s 59ms/step - loss: 1.1427e-04 - mae: 0.0092\n",
            "Epoch 1085/1200\n",
            "1/1 [==============================] - 0s 11ms/step - loss: 1.1349e-04 - mae: 0.0091\n",
            "Epoch 1086/1200\n",
            "1/1 [==============================] - 0s 8ms/step - loss: 1.1272e-04 - mae: 0.0091\n",
            "Epoch 1087/1200\n",
            "1/1 [==============================] - 0s 8ms/step - loss: 1.1196e-04 - mae: 0.0091\n",
            "Epoch 1088/1200\n",
            "1/1 [==============================] - 0s 8ms/step - loss: 1.1121e-04 - mae: 0.0091\n",
            "Epoch 1089/1200\n",
            "1/1 [==============================] - 0s 8ms/step - loss: 1.1046e-04 - mae: 0.0090\n",
            "Epoch 1090/1200\n",
            "1/1 [==============================] - 0s 14ms/step - loss: 1.0971e-04 - mae: 0.0090\n",
            "Epoch 1091/1200\n",
            "1/1 [==============================] - 0s 7ms/step - loss: 1.0897e-04 - mae: 0.0090\n",
            "Epoch 1092/1200\n",
            "1/1 [==============================] - 0s 7ms/step - loss: 1.0823e-04 - mae: 0.0089\n",
            "Epoch 1093/1200\n",
            "1/1 [==============================] - 0s 7ms/step - loss: 1.0750e-04 - mae: 0.0089\n",
            "Epoch 1094/1200\n",
            "1/1 [==============================] - 0s 9ms/step - loss: 1.0677e-04 - mae: 0.0089\n",
            "Epoch 1095/1200\n",
            "1/1 [==============================] - 0s 9ms/step - loss: 1.0606e-04 - mae: 0.0088\n",
            "Epoch 1096/1200\n",
            "1/1 [==============================] - 0s 14ms/step - loss: 1.0534e-04 - mae: 0.0088\n",
            "Epoch 1097/1200\n",
            "1/1 [==============================] - 0s 25ms/step - loss: 1.0464e-04 - mae: 0.0088\n",
            "Epoch 1098/1200\n",
            "1/1 [==============================] - 0s 97ms/step - loss: 1.0392e-04 - mae: 0.0087\n",
            "Epoch 1099/1200\n",
            "1/1 [==============================] - 0s 30ms/step - loss: 1.0322e-04 - mae: 0.0087\n",
            "Epoch 1100/1200\n",
            "1/1 [==============================] - 0s 25ms/step - loss: 1.0252e-04 - mae: 0.0087\n",
            "Epoch 1101/1200\n",
            "1/1 [==============================] - 0s 10ms/step - loss: 1.0183e-04 - mae: 0.0087\n",
            "Epoch 1102/1200\n",
            "1/1 [==============================] - 0s 31ms/step - loss: 1.0114e-04 - mae: 0.0086\n",
            "Epoch 1103/1200\n",
            "1/1 [==============================] - 0s 23ms/step - loss: 1.0046e-04 - mae: 0.0086\n",
            "Epoch 1104/1200\n",
            "1/1 [==============================] - 0s 21ms/step - loss: 9.9784e-05 - mae: 0.0086\n",
            "Epoch 1105/1200\n",
            "1/1 [==============================] - 0s 14ms/step - loss: 9.9111e-05 - mae: 0.0085\n",
            "Epoch 1106/1200\n",
            "1/1 [==============================] - 0s 15ms/step - loss: 9.8443e-05 - mae: 0.0085\n",
            "Epoch 1107/1200\n",
            "1/1 [==============================] - 0s 19ms/step - loss: 9.7775e-05 - mae: 0.0085\n",
            "Epoch 1108/1200\n",
            "1/1 [==============================] - 0s 18ms/step - loss: 9.7120e-05 - mae: 0.0085\n",
            "Epoch 1109/1200\n",
            "1/1 [==============================] - 0s 12ms/step - loss: 9.6457e-05 - mae: 0.0084\n",
            "Epoch 1110/1200\n",
            "1/1 [==============================] - 0s 15ms/step - loss: 9.5812e-05 - mae: 0.0084\n",
            "Epoch 1111/1200\n",
            "1/1 [==============================] - 0s 38ms/step - loss: 9.5159e-05 - mae: 0.0084\n",
            "Epoch 1112/1200\n",
            "1/1 [==============================] - 0s 20ms/step - loss: 9.4515e-05 - mae: 0.0083\n",
            "Epoch 1113/1200\n",
            "1/1 [==============================] - 0s 31ms/step - loss: 9.3880e-05 - mae: 0.0083\n",
            "Epoch 1114/1200\n",
            "1/1 [==============================] - 0s 20ms/step - loss: 9.3251e-05 - mae: 0.0083\n",
            "Epoch 1115/1200\n",
            "1/1 [==============================] - 0s 16ms/step - loss: 9.2624e-05 - mae: 0.0083\n",
            "Epoch 1116/1200\n",
            "1/1 [==============================] - 0s 10ms/step - loss: 9.1995e-05 - mae: 0.0082\n",
            "Epoch 1117/1200\n",
            "1/1 [==============================] - 0s 13ms/step - loss: 9.1374e-05 - mae: 0.0082\n",
            "Epoch 1118/1200\n",
            "1/1 [==============================] - 0s 12ms/step - loss: 9.0761e-05 - mae: 0.0082\n",
            "Epoch 1119/1200\n",
            "1/1 [==============================] - 0s 34ms/step - loss: 9.0145e-05 - mae: 0.0081\n",
            "Epoch 1120/1200\n",
            "1/1 [==============================] - 0s 50ms/step - loss: 8.9535e-05 - mae: 0.0081\n",
            "Epoch 1121/1200\n",
            "1/1 [==============================] - 0s 25ms/step - loss: 8.8934e-05 - mae: 0.0081\n",
            "Epoch 1122/1200\n",
            "1/1 [==============================] - 0s 48ms/step - loss: 8.8331e-05 - mae: 0.0081\n",
            "Epoch 1123/1200\n",
            "1/1 [==============================] - 0s 15ms/step - loss: 8.7730e-05 - mae: 0.0080\n",
            "Epoch 1124/1200\n",
            "1/1 [==============================] - 0s 13ms/step - loss: 8.7144e-05 - mae: 0.0080\n",
            "Epoch 1125/1200\n",
            "1/1 [==============================] - 0s 7ms/step - loss: 8.6555e-05 - mae: 0.0080\n",
            "Epoch 1126/1200\n",
            "1/1 [==============================] - 0s 9ms/step - loss: 8.5971e-05 - mae: 0.0080\n",
            "Epoch 1127/1200\n",
            "1/1 [==============================] - 0s 9ms/step - loss: 8.5392e-05 - mae: 0.0079\n",
            "Epoch 1128/1200\n",
            "1/1 [==============================] - 0s 16ms/step - loss: 8.4818e-05 - mae: 0.0079\n",
            "Epoch 1129/1200\n",
            "1/1 [==============================] - 0s 13ms/step - loss: 8.4238e-05 - mae: 0.0079\n",
            "Epoch 1130/1200\n",
            "1/1 [==============================] - 0s 17ms/step - loss: 8.3673e-05 - mae: 0.0079\n",
            "Epoch 1131/1200\n",
            "1/1 [==============================] - 0s 14ms/step - loss: 8.3105e-05 - mae: 0.0078\n",
            "Epoch 1132/1200\n",
            "1/1 [==============================] - 0s 12ms/step - loss: 8.2548e-05 - mae: 0.0078\n",
            "Epoch 1133/1200\n",
            "1/1 [==============================] - 0s 13ms/step - loss: 8.1987e-05 - mae: 0.0078\n",
            "Epoch 1134/1200\n",
            "1/1 [==============================] - 0s 12ms/step - loss: 8.1437e-05 - mae: 0.0077\n",
            "Epoch 1135/1200\n",
            "1/1 [==============================] - 0s 15ms/step - loss: 8.0890e-05 - mae: 0.0077\n",
            "Epoch 1136/1200\n",
            "1/1 [==============================] - 0s 11ms/step - loss: 8.0342e-05 - mae: 0.0077\n",
            "Epoch 1137/1200\n",
            "1/1 [==============================] - 0s 9ms/step - loss: 7.9795e-05 - mae: 0.0077\n",
            "Epoch 1138/1200\n",
            "1/1 [==============================] - 0s 15ms/step - loss: 7.9262e-05 - mae: 0.0076\n",
            "Epoch 1139/1200\n",
            "1/1 [==============================] - 0s 14ms/step - loss: 7.8724e-05 - mae: 0.0076\n",
            "Epoch 1140/1200\n",
            "1/1 [==============================] - 0s 53ms/step - loss: 7.8195e-05 - mae: 0.0076\n",
            "Epoch 1141/1200\n",
            "1/1 [==============================] - 0s 13ms/step - loss: 7.7665e-05 - mae: 0.0076\n",
            "Epoch 1142/1200\n",
            "1/1 [==============================] - 0s 12ms/step - loss: 7.7138e-05 - mae: 0.0075\n",
            "Epoch 1143/1200\n",
            "1/1 [==============================] - 0s 15ms/step - loss: 7.6619e-05 - mae: 0.0075\n",
            "Epoch 1144/1200\n",
            "1/1 [==============================] - 0s 18ms/step - loss: 7.6104e-05 - mae: 0.0075\n",
            "Epoch 1145/1200\n",
            "1/1 [==============================] - 0s 14ms/step - loss: 7.5590e-05 - mae: 0.0075\n",
            "Epoch 1146/1200\n",
            "1/1 [==============================] - 0s 17ms/step - loss: 7.5077e-05 - mae: 0.0074\n",
            "Epoch 1147/1200\n",
            "1/1 [==============================] - 0s 13ms/step - loss: 7.4570e-05 - mae: 0.0074\n",
            "Epoch 1148/1200\n",
            "1/1 [==============================] - 0s 16ms/step - loss: 7.4070e-05 - mae: 0.0074\n",
            "Epoch 1149/1200\n",
            "1/1 [==============================] - 0s 14ms/step - loss: 7.3569e-05 - mae: 0.0074\n",
            "Epoch 1150/1200\n",
            "1/1 [==============================] - 0s 16ms/step - loss: 7.3068e-05 - mae: 0.0073\n",
            "Epoch 1151/1200\n",
            "1/1 [==============================] - 0s 8ms/step - loss: 7.2581e-05 - mae: 0.0073\n",
            "Epoch 1152/1200\n",
            "1/1 [==============================] - 0s 9ms/step - loss: 7.2090e-05 - mae: 0.0073\n",
            "Epoch 1153/1200\n",
            "1/1 [==============================] - 0s 14ms/step - loss: 7.1598e-05 - mae: 0.0073\n",
            "Epoch 1154/1200\n",
            "1/1 [==============================] - 0s 10ms/step - loss: 7.1119e-05 - mae: 0.0072\n",
            "Epoch 1155/1200\n",
            "1/1 [==============================] - 0s 7ms/step - loss: 7.0642e-05 - mae: 0.0072\n",
            "Epoch 1156/1200\n",
            "1/1 [==============================] - 0s 7ms/step - loss: 7.0159e-05 - mae: 0.0072\n",
            "Epoch 1157/1200\n",
            "1/1 [==============================] - 0s 8ms/step - loss: 6.9685e-05 - mae: 0.0072\n",
            "Epoch 1158/1200\n",
            "1/1 [==============================] - 0s 6ms/step - loss: 6.9220e-05 - mae: 0.0071\n",
            "Epoch 1159/1200\n",
            "1/1 [==============================] - 0s 10ms/step - loss: 6.8749e-05 - mae: 0.0071\n",
            "Epoch 1160/1200\n",
            "1/1 [==============================] - 0s 12ms/step - loss: 6.8288e-05 - mae: 0.0071\n",
            "Epoch 1161/1200\n",
            "1/1 [==============================] - 0s 10ms/step - loss: 6.7821e-05 - mae: 0.0071\n",
            "Epoch 1162/1200\n",
            "1/1 [==============================] - 0s 7ms/step - loss: 6.7373e-05 - mae: 0.0070\n",
            "Epoch 1163/1200\n",
            "1/1 [==============================] - 0s 7ms/step - loss: 6.6911e-05 - mae: 0.0070\n",
            "Epoch 1164/1200\n",
            "1/1 [==============================] - 0s 8ms/step - loss: 6.6461e-05 - mae: 0.0070\n",
            "Epoch 1165/1200\n",
            "1/1 [==============================] - 0s 13ms/step - loss: 6.6012e-05 - mae: 0.0070\n",
            "Epoch 1166/1200\n",
            "1/1 [==============================] - 0s 10ms/step - loss: 6.5566e-05 - mae: 0.0069\n",
            "Epoch 1167/1200\n",
            "1/1 [==============================] - 0s 10ms/step - loss: 6.5125e-05 - mae: 0.0069\n",
            "Epoch 1168/1200\n",
            "1/1 [==============================] - 0s 12ms/step - loss: 6.4683e-05 - mae: 0.0069\n",
            "Epoch 1169/1200\n",
            "1/1 [==============================] - 0s 6ms/step - loss: 6.4244e-05 - mae: 0.0069\n",
            "Epoch 1170/1200\n",
            "1/1 [==============================] - 0s 11ms/step - loss: 6.3812e-05 - mae: 0.0069\n",
            "Epoch 1171/1200\n",
            "1/1 [==============================] - 0s 6ms/step - loss: 6.3384e-05 - mae: 0.0068\n",
            "Epoch 1172/1200\n",
            "1/1 [==============================] - 0s 5ms/step - loss: 6.2959e-05 - mae: 0.0068\n",
            "Epoch 1173/1200\n",
            "1/1 [==============================] - 0s 19ms/step - loss: 6.2527e-05 - mae: 0.0068\n",
            "Epoch 1174/1200\n",
            "1/1 [==============================] - 0s 7ms/step - loss: 6.2109e-05 - mae: 0.0068\n",
            "Epoch 1175/1200\n",
            "1/1 [==============================] - 0s 16ms/step - loss: 6.1688e-05 - mae: 0.0067\n",
            "Epoch 1176/1200\n",
            "1/1 [==============================] - 0s 12ms/step - loss: 6.1275e-05 - mae: 0.0067\n",
            "Epoch 1177/1200\n",
            "1/1 [==============================] - 0s 13ms/step - loss: 6.0859e-05 - mae: 0.0067\n",
            "Epoch 1178/1200\n",
            "1/1 [==============================] - 0s 13ms/step - loss: 6.0450e-05 - mae: 0.0067\n",
            "Epoch 1179/1200\n",
            "1/1 [==============================] - 0s 6ms/step - loss: 6.0040e-05 - mae: 0.0067\n",
            "Epoch 1180/1200\n",
            "1/1 [==============================] - 0s 15ms/step - loss: 5.9638e-05 - mae: 0.0066\n",
            "Epoch 1181/1200\n",
            "1/1 [==============================] - 0s 15ms/step - loss: 5.9230e-05 - mae: 0.0066\n",
            "Epoch 1182/1200\n",
            "1/1 [==============================] - 0s 14ms/step - loss: 5.8832e-05 - mae: 0.0066\n",
            "Epoch 1183/1200\n",
            "1/1 [==============================] - 0s 11ms/step - loss: 5.8435e-05 - mae: 0.0066\n",
            "Epoch 1184/1200\n",
            "1/1 [==============================] - 0s 6ms/step - loss: 5.8040e-05 - mae: 0.0065\n",
            "Epoch 1185/1200\n",
            "1/1 [==============================] - 0s 13ms/step - loss: 5.7648e-05 - mae: 0.0065\n",
            "Epoch 1186/1200\n",
            "1/1 [==============================] - 0s 6ms/step - loss: 5.7261e-05 - mae: 0.0065\n",
            "Epoch 1187/1200\n",
            "1/1 [==============================] - 0s 20ms/step - loss: 5.6870e-05 - mae: 0.0065\n",
            "Epoch 1188/1200\n",
            "1/1 [==============================] - 0s 19ms/step - loss: 5.6492e-05 - mae: 0.0065\n",
            "Epoch 1189/1200\n",
            "1/1 [==============================] - 0s 7ms/step - loss: 5.6110e-05 - mae: 0.0064\n",
            "Epoch 1190/1200\n",
            "1/1 [==============================] - 0s 6ms/step - loss: 5.5729e-05 - mae: 0.0064\n",
            "Epoch 1191/1200\n",
            "1/1 [==============================] - 0s 8ms/step - loss: 5.5357e-05 - mae: 0.0064\n",
            "Epoch 1192/1200\n",
            "1/1 [==============================] - 0s 12ms/step - loss: 5.4982e-05 - mae: 0.0064\n",
            "Epoch 1193/1200\n",
            "1/1 [==============================] - 0s 13ms/step - loss: 5.4610e-05 - mae: 0.0063\n",
            "Epoch 1194/1200\n",
            "1/1 [==============================] - 0s 17ms/step - loss: 5.4240e-05 - mae: 0.0063\n",
            "Epoch 1195/1200\n",
            "1/1 [==============================] - 0s 11ms/step - loss: 5.3873e-05 - mae: 0.0063\n",
            "Epoch 1196/1200\n",
            "1/1 [==============================] - 0s 18ms/step - loss: 5.3509e-05 - mae: 0.0063\n",
            "Epoch 1197/1200\n",
            "1/1 [==============================] - 0s 14ms/step - loss: 5.3151e-05 - mae: 0.0063\n",
            "Epoch 1198/1200\n",
            "1/1 [==============================] - 0s 16ms/step - loss: 5.2789e-05 - mae: 0.0062\n",
            "Epoch 1199/1200\n",
            "1/1 [==============================] - 0s 14ms/step - loss: 5.2438e-05 - mae: 0.0062\n",
            "Epoch 1200/1200\n",
            "1/1 [==============================] - 0s 13ms/step - loss: 5.2081e-05 - mae: 0.0062\n"
          ]
        }
      ]
    },
    {
      "cell_type": "markdown",
      "source": [
        "- 훈련에 대한 결과가 저장된 history 변수를 사용하여 epoch 별 훈련 손실 및 평가 지표를 시각화해보자."
      ],
      "metadata": {
        "id": "lg7rw45q7h-d"
      }
    },
    {
      "cell_type": "code",
      "source": [
        "# 20 epoch까지 Loss 수렴에 대한 시각화\n",
        "plt.plot(history.history['loss'], label='loss')\n",
        "plt.plot(history.history['mae'], label='mae')\n",
        "\n",
        "plt.xlim(-1, 20)\n",
        "plt.title('Loss')\n",
        "plt.legend()\n",
        "\n",
        "plt.show()"
      ],
      "metadata": {
        "colab": {
          "base_uri": "https://localhost:8080/",
          "height": 281
        },
        "id": "2F6durwi7nzN",
        "outputId": "edf1f6e3-7175-4b25-ddff-372b85729b20"
      },
      "execution_count": null,
      "outputs": [
        {
          "output_type": "display_data",
          "data": {
            "text/plain": [
              "<Figure size 432x288 with 1 Axes>"
            ],
            "image/png": "[encoded data removed]"
          },
          "metadata": {
            "needs_background": "light"
          }
        }
      ]
    },
    {
      "cell_type": "markdown",
      "source": [
        "#### | **2-9 검증**\n",
        "- 모델 인스턴스의 `evaluate()` 메서드로 모델의 성능을 검증할 수 있다.\n",
        "- 일반적으로 검증 데이터셋을 입력하여 진행한다.\n",
        "- 다만 이번 예제에서는 별도의 검증 데이터셋을 만들지 않았으므로, 훈련 데이터셋의 x, y를 대입하여 반환되는 결과를 확인한다."
      ],
      "metadata": {
        "id": "Fw8_mKZQiB7l"
      }
    },
    {
      "cell_type": "code",
      "source": [
        "# 검증\n",
        "model.evaluate(x, y)"
      ],
      "metadata": {
        "colab": {
          "base_uri": "https://localhost:8080/"
        },
        "id": "zaGW3DRj8GEM",
        "outputId": "3e120dcf-c295-4bdc-e4a3-88d9ee4adbdc"
      },
      "execution_count": null,
      "outputs": [
        {
          "output_type": "stream",
          "name": "stdout",
          "text": [
            "1/1 [==============================] - 0s 136ms/step - loss: 5.1725e-05 - mae: 0.0062\n"
          ]
        },
        {
          "output_type": "execute_result",
          "data": {
            "text/plain": [
              "[5.172508463147096e-05, 0.006173038389533758]"
            ]
          },
          "metadata": {},
          "execution_count": 20
        }
      ]
    },
    {
      "cell_type": "markdown",
      "source": [
        "#### | **2-10 예측**\n",
        "- 훈련이 완료된 모델 인스턴스의 `predict()` 메소드에 새로운 입력 데이터를 넣어, 모델의 예측값을 입력해보자."
      ],
      "metadata": {
        "id": "VBtlPWK1iDSu"
      }
    },
    {
      "cell_type": "code",
      "source": [
        "# 예측\n",
        "model.predict([10])"
      ],
      "metadata": {
        "colab": {
          "base_uri": "https://localhost:8080/"
        },
        "id": "SGGXpr618OpM",
        "outputId": "028b948f-26ee-4298-d2f6-531dbcac38a7"
      },
      "execution_count": null,
      "outputs": [
        {
          "output_type": "stream",
          "name": "stdout",
          "text": [
            "1/1 [==============================] - 0s 165ms/step\n"
          ]
        },
        {
          "output_type": "execute_result",
          "data": {
            "text/plain": [
              "array([[32.029835]], dtype=float32)"
            ]
          },
          "metadata": {},
          "execution_count": 21
        }
      ]
    },
    {
      "cell_type": "markdown",
      "source": [
        "### **03 심층신경망으로 이미지 분류**"
      ],
      "metadata": {
        "id": "EGaFkikshh5x"
      }
    },
    {
      "cell_type": "markdown",
      "source": [
        "#### | **3-1 케라스 내장 데이터셋 로드**\n",
        "- 케라스는 모델 훈련에 필요한 샘플 데이터셋을 제공한다. 데이터셋은 `tensorflow.keras.datasets`에 위치한다.\n",
        "  - `bostion_housing` : 보스턴 주택 가격 데이터셋(회귀)\n",
        "  - `cifar10` : CIFAR10 이미지 분류 데이터셋(분류)\n",
        "  - `cifar100` : CIFAR100 이미지 분류 데이터셋(분류) \n",
        "  - `mnist` : mnist 손글씨 데이터셋(분류)\n",
        "  - `fashion_mnist` : 의류 데이터셋(분류)\n",
        "  - `imdb` : IMDb 영화 데이터셋(분류)\n",
        "  - `reuters` : Reuters 뉴스 토픽(분류)\n",
        "- 케라스의 datasets 패키지에 있는 데이터는 `load_data()` 메소드를 이용하여 불러올 수 있다.\n"
      ],
      "metadata": {
        "id": "5J_cylFliF60"
      }
    },
    {
      "cell_type": "code",
      "source": [
        "import tensorflow as tf\n",
        "\n",
        "# 케라스의 내장 데이터셋에서 mnist 데이터셋을 로드\n",
        "mnist = tf.keras.datasets.mnist"
      ],
      "metadata": {
        "id": "73-QCgWbG2Vq"
      },
      "execution_count": 22,
      "outputs": []
    },
    {
      "cell_type": "code",
      "source": [
        "# load_data()로 데이터셋을 로드\n",
        "(x_train, y_train), (x_test, y_test) = mnist.load_data()"
      ],
      "metadata": {
        "colab": {
          "base_uri": "https://localhost:8080/"
        },
        "id": "APsNXewSG7y4",
        "outputId": "34c941ed-a504-4588-fd26-a6926b3c286a"
      },
      "execution_count": 23,
      "outputs": [
        {
          "output_type": "stream",
          "name": "stdout",
          "text": [
            "Downloading data from https://storage.googleapis.com/tensorflow/tf-keras-datasets/mnist.npz\n",
            "11490434/11490434 [==============================] - 1s 0us/step\n"
          ]
        }
      ]
    },
    {
      "cell_type": "markdown",
      "source": [
        "- 훈련 데이터셋과 검증 데이터셋의 크기를 확인해보자."
      ],
      "metadata": {
        "id": "P0ILzX_YHDb4"
      }
    },
    {
      "cell_type": "code",
      "source": [
        "# 로드된 데이터셋 확인\n",
        "print('train set: ', x_train.shape, y_train.shape)\n",
        "print('test  set: ', x_test.shape, y_test.shape)"
      ],
      "metadata": {
        "colab": {
          "base_uri": "https://localhost:8080/"
        },
        "id": "Pl96f5D9HLjd",
        "outputId": "db5e5ad3-a02e-43e1-baff-56290157a057"
      },
      "execution_count": 24,
      "outputs": [
        {
          "output_type": "stream",
          "name": "stdout",
          "text": [
            "train set:  (60000, 28, 28) (60000,)\n",
            "test  set:  (10000, 28, 28) (10000,)\n"
          ]
        }
      ]
    },
    {
      "cell_type": "markdown",
      "source": [
        "- 훈련 데이터셋은 60,000개의 데이터가, 검증 데이터셋은 10,000개의 데이터가 저장되어 있다.\n",
        "- 28, 28은 이미지의 세로와 가로 픽셀 크기를 의미한다.\n",
        "- 이미지를 시각화해보자."
      ],
      "metadata": {
        "id": "gFY4AisqHM4e"
      }
    },
    {
      "cell_type": "code",
      "source": [
        "# 데이터 시각화\n",
        "import matplotlib.pyplot as plt\n",
        "\n",
        "# canvas 생성\n",
        "fig, axes = plt.subplots(3, 5)\n",
        "fig.set_size_inches(8, 5)\n",
        "\n",
        "for i in range(15):\n",
        "    ax = axes[i//5, i%5]\n",
        "    # imshow로 이미지 시각화\n",
        "    ax.imshow(x_train[i], cmap='gray')\n",
        "    ax.axis('off')\n",
        "    ax.set_title(str(y_train[i]))\n",
        "\n",
        "plt.tight_layout()\n",
        "plt.show()"
      ],
      "metadata": {
        "colab": {
          "base_uri": "https://localhost:8080/",
          "height": 371
        },
        "id": "LE7kElGuHfo_",
        "outputId": "3b1d867c-1ee3-410a-80f6-4e023992c7c2"
      },
      "execution_count": 25,
      "outputs": [
        {
          "output_type": "display_data",
          "data": {
            "text/plain": [
              "<Figure size 576x360 with 15 Axes>"
            ],
            "image/png": "[encoded data removed]"
          },
          "metadata": {
            "needs_background": "light"
          }
        }
      ]
    },
    {
      "cell_type": "markdown",
      "source": [
        "#### | **3-2 데이터 전처리**\n",
        "- 이미지 데이터에 대하여 정규화를 통해 데이터의 범위를 조절하자.\n",
        "- 배열의 각 원소는 이미지를 구성하는 하나의 픽셀값이다."
      ],
      "metadata": {
        "id": "_Pa2hkJUiNNZ"
      }
    },
    {
      "cell_type": "code",
      "source": [
        "# x_train 배열의 데이터 확인\n",
        "x_train[0, 10:15, 10:15]"
      ],
      "metadata": {
        "colab": {
          "base_uri": "https://localhost:8080/"
        },
        "id": "_E20FCteHt6e",
        "outputId": "ee1679db-c230-4fda-8328-9b349587a909"
      },
      "execution_count": 26,
      "outputs": [
        {
          "output_type": "execute_result",
          "data": {
            "text/plain": [
              "array([[  1, 154, 253,  90,   0],\n",
              "       [  0, 139, 253, 190,   2],\n",
              "       [  0,  11, 190, 253,  70],\n",
              "       [  0,   0,  35, 241, 225],\n",
              "       [  0,   0,   0,  81, 240]], dtype=uint8)"
            ]
          },
          "metadata": {},
          "execution_count": 26
        }
      ]
    },
    {
      "cell_type": "markdown",
      "source": [
        "- 데이터가 0~1 사이의 값이 되도록 정규화한다."
      ],
      "metadata": {
        "id": "knLnP-GoHxJS"
      }
    },
    {
      "cell_type": "code",
      "source": [
        "# 픽셀 값의 최소/최대 값 확인\n",
        "print(f'정규화 전] 최소값: {x_train.min()}, 최대값: {x_train.max()}')\n",
        "\n",
        "# 데이터 정규화\n",
        "x_train = x_train / x_train.max()\n",
        "\n",
        "# 정규화 후 최소/최대 값 확인\n",
        "print(f'정규화 후] 최소값: {x_train.min()}, 최대값: {x_train.max()}')"
      ],
      "metadata": {
        "colab": {
          "base_uri": "https://localhost:8080/"
        },
        "id": "hEW7YRt6H0Jr",
        "outputId": "7c96b143-b203-44d6-fe00-0143d9023877"
      },
      "execution_count": 27,
      "outputs": [
        {
          "output_type": "stream",
          "name": "stdout",
          "text": [
            "정규화 전] 최소값: 0, 최대값: 255\n",
            "정규화 후] 최소값: 0.0, 최대값: 1.0\n"
          ]
        }
      ]
    },
    {
      "cell_type": "code",
      "source": [
        "# test 셋(검증셋)에도 정규화 동일 적용\n",
        "x_test = x_test / x_test.max()"
      ],
      "metadata": {
        "id": "zGJXZG8VH2BD"
      },
      "execution_count": 28,
      "outputs": []
    },
    {
      "cell_type": "code",
      "source": [
        "# 변환 후 x_train 배열의 데이터 확인\n",
        "x_train[0, 10:15, 10:15]"
      ],
      "metadata": {
        "colab": {
          "base_uri": "https://localhost:8080/"
        },
        "id": "u2oqROJEH5aX",
        "outputId": "573b1209-047a-4d49-ae16-b1375a090766"
      },
      "execution_count": 29,
      "outputs": [
        {
          "output_type": "execute_result",
          "data": {
            "text/plain": [
              "array([[0.00392157, 0.60392157, 0.99215686, 0.35294118, 0.        ],\n",
              "       [0.        , 0.54509804, 0.99215686, 0.74509804, 0.00784314],\n",
              "       [0.        , 0.04313725, 0.74509804, 0.99215686, 0.2745098 ],\n",
              "       [0.        , 0.        , 0.1372549 , 0.94509804, 0.88235294],\n",
              "       [0.        , 0.        , 0.        , 0.31764706, 0.94117647]])"
            ]
          },
          "metadata": {},
          "execution_count": 29
        }
      ]
    },
    {
      "cell_type": "markdown",
      "source": [
        "#### | **3-3 Flatten 레이어**\n",
        "- 정규화가 끝난 `x_train`의 크기는 여전히 (60000, 28, 28)이다.\n",
        "- 샘플 이미지의 형태는 (28, 28)로 2차원 입력 데이터로 볼 수 있다. 그러나 Dense 레이어는 2차원 데이터를 입력받지 못해, 다음과 같이 데이터를 1차원으로 변환해주어야 한다."
      ],
      "metadata": {
        "id": "_6nmxBDpiPI9"
      }
    },
    {
      "cell_type": "code",
      "source": [
        "print(f'변경전 shape: {x_train.shape}')\n",
        "print(f'1D으로 shape 변경 후: {x_train.reshape(60000, -1).shape}')"
      ],
      "metadata": {
        "colab": {
          "base_uri": "https://localhost:8080/"
        },
        "id": "KkMV2rNNIPei",
        "outputId": "cae07df5-64fa-4f3f-82ca-af15200f545a"
      },
      "execution_count": 30,
      "outputs": [
        {
          "output_type": "stream",
          "name": "stdout",
          "text": [
            "변경전 shape: (60000, 28, 28)\n",
            "1D으로 shape 변경 후: (60000, 784)\n"
          ]
        }
      ]
    },
    {
      "cell_type": "markdown",
      "source": [
        "- 또는 Flatten 레이어를 이용하여 1차원으로 만들어 줄 수도 있다."
      ],
      "metadata": {
        "id": "P7o0Od8OIO0X"
      }
    },
    {
      "cell_type": "code",
      "source": [
        "print(f'변경전 shape: {x_train.shape}')\n",
        "\n",
        "# Flatten 레이어 적용 후 shape 확인\n",
        "print(f'Flatten 적용 후: {tf.keras.layers.Flatten()(x_train).shape}')"
      ],
      "metadata": {
        "colab": {
          "base_uri": "https://localhost:8080/"
        },
        "id": "YD5446JAIbEJ",
        "outputId": "99df8b6b-f0a0-4c2e-d0fa-2d8d8f8e0b53"
      },
      "execution_count": 31,
      "outputs": [
        {
          "output_type": "stream",
          "name": "stdout",
          "text": [
            "변경전 shape: (60000, 28, 28)\n",
            "Flatten 적용 후: (60000, 784)\n"
          ]
        }
      ]
    },
    {
      "cell_type": "markdown",
      "source": [
        "#### | **3-4 활성화 함수**\n",
        "- **활성화 함수(Activation Function)** : 입력을 비선형 출력으로 변환해주는 함수\n",
        "- 자주 사용되는 활성화 함수로는 시그모이드, tanh, ReLU, Leaky ReLU 등이 있다.\n",
        "- 아래와 같이 Dense 레이어에 ReLU 활성화 함수를 적용할 수 있다.\n",
        "```python\n",
        "# Dense 레이어에 relu 활성화 함수를 적용한 경우\n",
        "tf.keras.layers.Dense(128, activation='relu')\n",
        "```\n",
        "- 혹은 다음과 같이 별도의 클래스로 적용할 수도 있다.\n",
        "```python\n",
        "# Dense 레이어에 relu 활성화 함수를 적용한 경우\n",
        "model = tf.keras.Sequential([\n",
        "    tf.keras.layers.Dense(128), \n",
        "    tf.keras.layers.Activation('relu')\n",
        "    ])\n",
        "```"
      ],
      "metadata": {
        "id": "ziBXtBOiiRNx"
      }
    },
    {
      "cell_type": "markdown",
      "source": [
        "#### | **3-5 입력과 출력**\n",
        "- 딥러닝 모델을 만들 때는 첫 번째 레이어에 입력 데이터의 형태를 나타내는 `input_shape` 매개변수를 지정하는 것이 일반적이다.\n",
        "- 출력층의 노드 개수는 반드시 분류해야 할 클래스의 개수와 동일해야 한다. mnist의 경우 10개의 클래스로 이루어져 있으므로 마지막 출력층의 노드 개수는 10개이어야 한다."
      ],
      "metadata": {
        "id": "qJf7hoh0iS5Y"
      }
    },
    {
      "cell_type": "code",
      "source": [
        "model = tf.keras.Sequential([\n",
        "    tf.keras.layers.Flatten(input_shape=(28, 28)), \n",
        "    tf.keras.layers.Dense(256, activation='relu'), \n",
        "    tf.keras.layers.Dense(64, activation='relu'), \n",
        "    tf.keras.layers.Dense(32, activation='relu'), \n",
        "\n",
        "    # 노드=10개(클래스 개수와 동일)\n",
        "    tf.keras.layers.Dense(10, activation='softmax'), \n",
        "    ])"
      ],
      "metadata": {
        "id": "sUQP5nlKJSMK"
      },
      "execution_count": 32,
      "outputs": []
    },
    {
      "cell_type": "markdown",
      "source": [
        "- 출력층의 노드 개수가 2개 이상인 경우, 즉 다중 분류 문제에서는 softmax 함수를 적용한다.\n",
        "- 이진 분류 모델의 출력층 노드 개수를 1개로 설정한 경우에는 sigmoid를 적용할 수 있다.\n",
        "```python\n",
        "# 출력층 노드 = 1인 경우, sigmoid\n",
        "tf.keras.layers.Dense(1, activation='sigmoid')\n",
        "# 출력층 노드 = 2개 이상인 경우, softmax\n",
        "tf.keras.layers.Dense(10, activation='softmax')\n",
        "```"
      ],
      "metadata": {
        "id": "6QAGteziJXEn"
      }
    },
    {
      "cell_type": "markdown",
      "source": [
        "#### | **3-6 손실함수**\n",
        "- 분류 모델의 손실 함수는 모델의 출력층에 따라 올바른 손실함수를 설정해야 모델이 정상적으로 훈련할 수 있다.\n",
        "- 출력 노드가 1개, sigmoid 활성화 함수를 적용한 경우\n",
        "```python\n",
        "# 이진 분류 (출력 노드 개수 = 1, sigmoid 인 경우)\n",
        "model.compile(loss='binary_crossentropy')\n",
        "```\n",
        "- 출력 노드가 2개 이상, softmax 활성화 함수를 적용한 경우\n",
        "```python\n",
        "# y가 원 핫 벡터인 경우\n",
        "# [0., 0., 0., 0., 0., 1., 0., 0., 0., 0.]\n",
        "model.compile(loss='categorical_crossentropy')\n",
        "# y가 원 핫 벡터가 아닌경우\n",
        "# [5]\n",
        "model.compile(loss='sparse_categorical_crossentropy')\n",
        "```"
      ],
      "metadata": {
        "id": "P8XEAo0siUoy"
      }
    },
    {
      "cell_type": "markdown",
      "source": [
        "#### | **3-7 옵티마이저**\n",
        "- **옵티마이저(optimizer)** : 손실을 낮추기 위해서, 신경망의 가중치와 학습률과 같은 신경망의 속성을 변경하는 데 사용되는 최적화 방법\n",
        "- 일반적으로 Adam이 많이 사용된다.\n",
        "- 케라스에서 지원하는 옵티마이저 : SGD, Adam, Adagrad, Nadam, RMSprop, Adadelta, Adamax, Ftrl\n",
        "- 다음과 같이 옵티마이저를 지정할 수 있다.\n",
        "```python\n",
        "# 클래스 인스턴스로 지정\n",
        "adam = tf.keras.optimizers.Adam(lr=0.001)\n",
        "model.compile(optimizer=adam)\n",
        "# 문자열로 지정\n",
        "model.compile(optimizer='adam')\n",
        "```"
      ],
      "metadata": {
        "id": "v09EUQ-NiWQT"
      }
    },
    {
      "cell_type": "markdown",
      "source": [
        "#### | **3-8 평가지표**\n",
        "- 분류 모델에 대한 평가 지표 : 정확도(`accuracy`), `auc`, `precision`, `recall` 등\n",
        "- metrics 매개변수에 파이썬 리스트 형태로 하나 이상의 평가지표를 지정하여 여러 지표들을 동시에 참고할 수 있다."
      ],
      "metadata": {
        "id": "mcr3_uWQiYJw"
      }
    },
    {
      "cell_type": "code",
      "source": [
        "# 클래스 인스턴스로 지정\n",
        "acc = tf.keras.metrics.SparseCategoricalAccuracy()\n",
        "\n",
        "model.compile(optimizer='adam', \n",
        "              loss='sparse_categorical_crossentropy', \n",
        "              metrics=[acc])"
      ],
      "metadata": {
        "id": "xGU1hyJEQms9"
      },
      "execution_count": 34,
      "outputs": []
    },
    {
      "cell_type": "code",
      "source": [
        "# 문자열로 지정\n",
        "model.compile(optimizer='adam', \n",
        "              loss='sparse_categorical_crossentropy', \n",
        "              metrics=['accuracy'])"
      ],
      "metadata": {
        "id": "BbTm-TIKQfyy"
      },
      "execution_count": 33,
      "outputs": []
    },
    {
      "cell_type": "markdown",
      "source": [
        "#### | **3-9 훈련**\n",
        "- 모델을 훈련할 때 검증 데이터셋을 추가로 지정한다. \n",
        "- 매 epoch마다 훈련 손실과 검증 손실, 각 데이터셋에 대한 평가지표를 나란히 출력한다."
      ],
      "metadata": {
        "id": "ONqSMlyGiaA3"
      }
    },
    {
      "cell_type": "code",
      "source": [
        "# 훈련\n",
        "model.fit(x_train, y_train,       \n",
        "          validation_data=(x_test, y_test), # 검증셋 지정\n",
        "          epochs=10, \n",
        "          )"
      ],
      "metadata": {
        "colab": {
          "base_uri": "https://localhost:8080/"
        },
        "id": "ilfW_eFtQ2SF",
        "outputId": "d3b84e03-003b-4504-f457-e2ef0cd96a1b"
      },
      "execution_count": 35,
      "outputs": [
        {
          "output_type": "stream",
          "name": "stdout",
          "text": [
            "Epoch 1/10\n",
            "1875/1875 [==============================] - 10s 5ms/step - loss: 0.2362 - sparse_categorical_accuracy: 0.9302 - val_loss: 0.1270 - val_sparse_categorical_accuracy: 0.9608\n",
            "Epoch 2/10\n",
            "1875/1875 [==============================] - 11s 6ms/step - loss: 0.0989 - sparse_categorical_accuracy: 0.9698 - val_loss: 0.0887 - val_sparse_categorical_accuracy: 0.9727\n",
            "Epoch 3/10\n",
            "1875/1875 [==============================] - 9s 5ms/step - loss: 0.0672 - sparse_categorical_accuracy: 0.9794 - val_loss: 0.0794 - val_sparse_categorical_accuracy: 0.9763\n",
            "Epoch 4/10\n",
            "1875/1875 [==============================] - 10s 5ms/step - loss: 0.0493 - sparse_categorical_accuracy: 0.9848 - val_loss: 0.0834 - val_sparse_categorical_accuracy: 0.9750\n",
            "Epoch 5/10\n",
            "1875/1875 [==============================] - 9s 5ms/step - loss: 0.0412 - sparse_categorical_accuracy: 0.9866 - val_loss: 0.0805 - val_sparse_categorical_accuracy: 0.9776\n",
            "Epoch 6/10\n",
            "1875/1875 [==============================] - 9s 5ms/step - loss: 0.0325 - sparse_categorical_accuracy: 0.9896 - val_loss: 0.0830 - val_sparse_categorical_accuracy: 0.9777\n",
            "Epoch 7/10\n",
            "1875/1875 [==============================] - 9s 5ms/step - loss: 0.0278 - sparse_categorical_accuracy: 0.9905 - val_loss: 0.0808 - val_sparse_categorical_accuracy: 0.9769\n",
            "Epoch 8/10\n",
            "1875/1875 [==============================] - 8s 4ms/step - loss: 0.0231 - sparse_categorical_accuracy: 0.9922 - val_loss: 0.0956 - val_sparse_categorical_accuracy: 0.9779\n",
            "Epoch 9/10\n",
            "1875/1875 [==============================] - 8s 4ms/step - loss: 0.0227 - sparse_categorical_accuracy: 0.9925 - val_loss: 0.0861 - val_sparse_categorical_accuracy: 0.9779\n",
            "Epoch 10/10\n",
            "1875/1875 [==============================] - 8s 4ms/step - loss: 0.0186 - sparse_categorical_accuracy: 0.9938 - val_loss: 0.1010 - val_sparse_categorical_accuracy: 0.9789\n"
          ]
        },
        {
          "output_type": "execute_result",
          "data": {
            "text/plain": [
              "<keras.callbacks.History at 0x7f7c291d2f50>"
            ]
          },
          "metadata": {},
          "execution_count": 35
        }
      ]
    },
    {
      "cell_type": "markdown",
      "source": [
        "#### | **3-10 평가**\n",
        "- 10회의 epoch이 끝나고 훈련이 종료된 뒤, `evaluate()` 메서드로 모델을 검증하고 평가 결과를 확인할 수 있다.\n",
        "- 이때, 검증 데이터셋을 이용한다."
      ],
      "metadata": {
        "id": "VUqKnJ_mibWz"
      }
    },
    {
      "cell_type": "code",
      "source": [
        "# 검증\n",
        "test_loss, test_acc = model.evaluate(x_test,  y_test)\n",
        "\n",
        "print('검증셋 정확도:', test_acc)"
      ],
      "metadata": {
        "colab": {
          "base_uri": "https://localhost:8080/"
        },
        "id": "ZMAoI5O0Rcl5",
        "outputId": "59f8b04a-118b-426d-ab0e-559572ee759a"
      },
      "execution_count": 36,
      "outputs": [
        {
          "output_type": "stream",
          "name": "stdout",
          "text": [
            "313/313 [==============================] - 1s 3ms/step - loss: 0.1010 - sparse_categorical_accuracy: 0.9789\n",
            "검증셋 정확도: 0.9789000153541565\n"
          ]
        }
      ]
    },
    {
      "cell_type": "markdown",
      "source": [
        "#### | **3-11 예측**\n",
        "- 훈련된 모델로 새로운 이미지에 대한 분류 값을 예측할 수 있다.\n",
        "- `predict()` 메서드를 이용한다."
      ],
      "metadata": {
        "id": "gqao8Byhict_"
      }
    },
    {
      "cell_type": "code",
      "source": [
        "# 예측\n",
        "predictions = model.predict(x_test)"
      ],
      "metadata": {
        "colab": {
          "base_uri": "https://localhost:8080/"
        },
        "id": "i1fdjX4zRlbN",
        "outputId": "2cbcbeb1-1dff-4d69-cb18-0a4e73c0e648"
      },
      "execution_count": 37,
      "outputs": [
        {
          "output_type": "stream",
          "name": "stdout",
          "text": [
            "313/313 [==============================] - 1s 3ms/step\n"
          ]
        }
      ]
    },
    {
      "cell_type": "code",
      "source": [
        "# 예측 결과 출력\n",
        "predictions[0]"
      ],
      "metadata": {
        "colab": {
          "base_uri": "https://localhost:8080/"
        },
        "id": "Pp7G6eJQRmq_",
        "outputId": "4032d748-1e0f-429b-fe0d-161985f71097"
      },
      "execution_count": 38,
      "outputs": [
        {
          "output_type": "execute_result",
          "data": {
            "text/plain": [
              "array([4.0893552e-12, 4.1164228e-07, 1.0683686e-08, 2.4297886e-10,\n",
              "       3.8475028e-09, 6.3633508e-11, 8.4217123e-15, 9.9999958e-01,\n",
              "       2.9689817e-10, 5.3783516e-08], dtype=float32)"
            ]
          },
          "metadata": {},
          "execution_count": 38
        }
      ]
    },
    {
      "cell_type": "markdown",
      "source": [
        "- 넘파이의 `argmax`를 이용해 가장 높은 확률값을 가지는 클래스를 확인해볼 수 있다."
      ],
      "metadata": {
        "id": "3bd_krmpRsLY"
      }
    },
    {
      "cell_type": "code",
      "source": [
        "import numpy as np\n",
        "\n",
        "# 0번 index에 대한 예측 클래스 출력\n",
        "print(np.argmax(predictions[0]))\n",
        "\n",
        "# 첫 10개 index에 대한 예측 클래스 출력\n",
        "print(np.argmax(predictions[:10], axis=1))"
      ],
      "metadata": {
        "colab": {
          "base_uri": "https://localhost:8080/"
        },
        "id": "YEVhmcKhRplr",
        "outputId": "f7c57a6c-9b64-4c1d-c42a-e49637bf39f9"
      },
      "execution_count": 39,
      "outputs": [
        {
          "output_type": "stream",
          "name": "stdout",
          "text": [
            "7\n",
            "[7 2 1 0 4 1 4 9 5 9]\n"
          ]
        }
      ]
    },
    {
      "cell_type": "markdown",
      "source": [
        "- 예측한 결과를 시각화해보자."
      ],
      "metadata": {
        "id": "Jtuc-tIERxlD"
      }
    },
    {
      "cell_type": "code",
      "source": [
        "# 데이터 시각화\n",
        "import matplotlib.pyplot as plt\n",
        "\n",
        "def get_one_result(idx):\n",
        "    img, y_true, y_pred, confidence = x_test[idx], y_test[idx], np.argmax(predictions[idx]), 100*np.max(predictions[idx])\n",
        "    return img, y_true, y_pred, confidence\n",
        "    \n",
        "# canvas 생성\n",
        "fig, axes = plt.subplots(3, 5)\n",
        "fig.set_size_inches(12, 10)\n",
        "\n",
        "for i in range(15):\n",
        "    ax = axes[i//5, i%5]\n",
        "\n",
        "    img, y_true, y_pred, confidence = get_one_result(i)\n",
        "\n",
        "    # imshow로 이미지 시각화\n",
        "    ax.imshow(img, cmap='gray')\n",
        "    ax.set_xticks([])\n",
        "    ax.set_yticks([])\n",
        "    ax.set_title(f'True: {y_true}')\n",
        "    ax.set_xlabel(f'Prediction: {y_pred}\\nConfidence: ({confidence:.2f} %)')\n",
        "\n",
        "plt.tight_layout()\n",
        "plt.show()"
      ],
      "metadata": {
        "colab": {
          "base_uri": "https://localhost:8080/",
          "height": 696
        },
        "id": "E7qcr13wR0ZS",
        "outputId": "083e1714-e078-4720-a8e3-b3c43af0940e"
      },
      "execution_count": 40,
      "outputs": [
        {
          "output_type": "display_data",
          "data": {
            "text/plain": [
              "<Figure size 864x720 with 15 Axes>"
            ],
            "image/png": "[encoded data removed]"
          },
          "metadata": {}
        }
      ]
    },
    {
      "cell_type": "markdown",
      "source": [
        "### **04 모델 세부 설정**"
      ],
      "metadata": {
        "id": "3D9-igc0hkk1"
      }
    },
    {
      "cell_type": "code",
      "source": [
        "import tensorflow as tf\n",
        "\n",
        "# 케라스의 내장 데이터셋에서 mnist 데이터셋을 로드\n",
        "mnist = tf.keras.datasets.mnist\n",
        "\n",
        "# load_data()로 데이터셋을 로드\n",
        "(x_train, y_train), (x_test, y_test) = mnist.load_data()\n",
        "\n",
        "# 로드된 데이터셋 확인\n",
        "print('train set: ', x_train.shape, y_train.shape)\n",
        "print('test  set: ', x_test.shape, y_test.shape)\n",
        "\n",
        "# 데이터 정규화\n",
        "x_train = x_train / x_train.max() # max: 255\n",
        "x_test = x_test / x_test.max() # max: 255"
      ],
      "metadata": {
        "colab": {
          "base_uri": "https://localhost:8080/"
        },
        "id": "Y9jy6vZXR5As",
        "outputId": "0e005721-ac28-4b27-cfe2-531f357293e6"
      },
      "execution_count": 41,
      "outputs": [
        {
          "output_type": "stream",
          "name": "stdout",
          "text": [
            "train set:  (60000, 28, 28) (60000,)\n",
            "test  set:  (10000, 28, 28) (10000,)\n"
          ]
        }
      ]
    },
    {
      "cell_type": "markdown",
      "source": [
        "#### | **4-1 초기값 설정**\n",
        "- 레이어의 초기화 방법을 다르게 설정할 수 있다.\n",
        "- Dense 레이어는 기본값으로 Glorot Uniform 초기화 방법이 설정되어 있다."
      ],
      "metadata": {
        "id": "jGQ5urS_ieUj"
      }
    },
    {
      "cell_type": "code",
      "source": [
        "dense = tf.keras.layers.Dense(256, activation='relu')\n",
        "dense.get_config()['kernel_initializer']"
      ],
      "metadata": {
        "colab": {
          "base_uri": "https://localhost:8080/"
        },
        "id": "APfdbQdeSH_y",
        "outputId": "50a15248-ff44-4ddc-d0b8-08aba9de27f7"
      },
      "execution_count": 42,
      "outputs": [
        {
          "output_type": "execute_result",
          "data": {
            "text/plain": [
              "{'class_name': 'GlorotUniform', 'config': {'seed': None}}"
            ]
          },
          "metadata": {},
          "execution_count": 42
        }
      ]
    },
    {
      "cell_type": "markdown",
      "source": [
        "- `kernal_initializer` 매개변수를 설정하면 초기화 방법을 변경할 수 있다.\n",
        "- 역시 옵티마이저나 손실함수처럼 문자열로 지정하거나 클래스 인스턴스로 지정할 수 있다."
      ],
      "metadata": {
        "id": "ZIUpE04KSJRy"
      }
    },
    {
      "cell_type": "code",
      "source": [
        "# 문자열 초기화\n",
        "dense = tf.keras.layers.Dense(256, kernel_initializer='he_normal', activation='relu')\n",
        "print(dense.get_config()['kernel_initializer'])"
      ],
      "metadata": {
        "colab": {
          "base_uri": "https://localhost:8080/"
        },
        "id": "8JmKHUjYSS04",
        "outputId": "30459635-e856-41e4-b552-84f82acd84c2"
      },
      "execution_count": 43,
      "outputs": [
        {
          "output_type": "stream",
          "name": "stdout",
          "text": [
            "{'class_name': 'HeNormal', 'config': {'seed': None}}\n"
          ]
        }
      ]
    },
    {
      "cell_type": "code",
      "source": [
        "# 클래스 인스턴스 초기화\n",
        "he_normal = tf.keras.initializers.HeNormal()\n",
        "dense = tf.keras.layers.Dense(256, kernel_initializer=he_normal, activation='relu')\n",
        "print(dense.get_config()['kernel_initializer'])"
      ],
      "metadata": {
        "colab": {
          "base_uri": "https://localhost:8080/"
        },
        "id": "L_ouQoq6SX6s",
        "outputId": "249ffaeb-2cb4-48a6-fc1c-4df4ca9e0742"
      },
      "execution_count": 44,
      "outputs": [
        {
          "output_type": "stream",
          "name": "stdout",
          "text": [
            "{'class_name': 'HeNormal', 'config': {'seed': None}}\n"
          ]
        }
      ]
    },
    {
      "cell_type": "markdown",
      "source": [
        "#### | **4-2 규제(Regularization)**\n",
        "- 모델의 과대적합을 해소하기 위해 L1, L2 규제를 적용하기도 한다.\n",
        "- `kernel_regularizer`를 설정하여 적용할 수 있다."
      ],
      "metadata": {
        "id": "0vC1vjZXihPg"
      }
    },
    {
      "cell_type": "code",
      "source": [
        "# 기본 값\n",
        "dense = tf.keras.layers.Dense(256, activation='relu')\n",
        "dense.get_config()"
      ],
      "metadata": {
        "colab": {
          "base_uri": "https://localhost:8080/"
        },
        "id": "DcI_x0eFSk0f",
        "outputId": "8bb95efe-13be-4760-b5ec-9512d24812f9"
      },
      "execution_count": 45,
      "outputs": [
        {
          "output_type": "execute_result",
          "data": {
            "text/plain": [
              "{'name': 'dense_10',\n",
              " 'trainable': True,\n",
              " 'dtype': 'float32',\n",
              " 'units': 256,\n",
              " 'activation': 'relu',\n",
              " 'use_bias': True,\n",
              " 'kernel_initializer': {'class_name': 'GlorotUniform',\n",
              "  'config': {'seed': None}},\n",
              " 'bias_initializer': {'class_name': 'Zeros', 'config': {}},\n",
              " 'kernel_regularizer': None,\n",
              " 'bias_regularizer': None,\n",
              " 'activity_regularizer': None,\n",
              " 'kernel_constraint': None,\n",
              " 'bias_constraint': None}"
            ]
          },
          "metadata": {},
          "execution_count": 45
        }
      ]
    },
    {
      "cell_type": "code",
      "source": [
        "# l1 규제 적용\n",
        "dense = tf.keras.layers.Dense(256, kernel_regularizer='l1', activation='relu')\n",
        "print(dense.get_config()['kernel_regularizer'])\n",
        "\n",
        "# 클래스 인스턴스 적용, alpha 값 변경\n",
        "regularizer = tf.keras.regularizers.l1(l1=0.1)\n",
        "dense = tf.keras.layers.Dense(256, kernel_regularizer=regularizer, activation='relu')\n",
        "print(dense.get_config()['kernel_regularizer'])"
      ],
      "metadata": {
        "colab": {
          "base_uri": "https://localhost:8080/"
        },
        "id": "x4rP6jfkSmaO",
        "outputId": "c4930084-0e01-49a0-b38e-91800073e127"
      },
      "execution_count": 46,
      "outputs": [
        {
          "output_type": "stream",
          "name": "stdout",
          "text": [
            "{'class_name': 'L1', 'config': {'l1': 0.009999999776482582}}\n",
            "{'class_name': 'L1', 'config': {'l1': 0.10000000149011612}}\n"
          ]
        }
      ]
    },
    {
      "cell_type": "markdown",
      "source": [
        "#### | **4-3 드롭아웃(Dropout)**\n",
        "- 딥러닝 모델은 층이 넓고 깊어질 때, 과대적합 문제가 발생하는데 드롭아웃은 이 문제를 해결하기 위해 제안된 아이디어로, 상당히 좋은 효과를 보이고 있다.\n",
        "- 노드의 일부 신호를 임의로 삭제하여, 모델이 학습하는 가중치 파라미터의 개수를 줄이는 방식이다."
      ],
      "metadata": {
        "id": "FUhybQgPikPw"
      }
    },
    {
      "cell_type": "code",
      "source": [
        "# Dropout 25% 비율 적용 (25%의 노드가 삭제)\n",
        "tf.keras.layers.Dropout(0.25)"
      ],
      "metadata": {
        "colab": {
          "base_uri": "https://localhost:8080/"
        },
        "id": "dNQzJpT1S74J",
        "outputId": "e680723b-9f35-47af-e305-e2c9ae703dc7"
      },
      "execution_count": 47,
      "outputs": [
        {
          "output_type": "execute_result",
          "data": {
            "text/plain": [
              "<keras.layers.regularization.dropout.Dropout at 0x7f7c27d29490>"
            ]
          },
          "metadata": {},
          "execution_count": 47
        }
      ]
    },
    {
      "cell_type": "markdown",
      "source": [
        "#### | **4-4 배치 정규화(Batch Normalization)**\n",
        "- 배치 정규화는 각 층에서 활성화 함수를 통과하기 전, 미니 배치의 스케일을 정규화한다.\n",
        "- 보다 안정적인 훈련이 가능하고, 성능을 크게 향상시킬 수 있다.\n",
        "- 배치 정규화를 적용하지 않은 모델을 `model_a`, 적용한 모델을 `model_b`로 지정하여 성능 비교를 해보자."
      ],
      "metadata": {
        "id": "LHSodOmMim4O"
      }
    },
    {
      "cell_type": "code",
      "source": [
        "# Model A: Dense + ReLU\n",
        "model_a = tf.keras.Sequential([\n",
        "    tf.keras.layers.Flatten(input_shape=(28, 28)),\n",
        "    tf.keras.layers.Dense(64, activation='relu'),\n",
        "    tf.keras.layers.Dense(32, activation='relu'),\n",
        "    tf.keras.layers.Dense(10, activation='softmax'),\n",
        "])\n",
        "model_a.summary()"
      ],
      "metadata": {
        "colab": {
          "base_uri": "https://localhost:8080/"
        },
        "id": "eFKNZcboTVS3",
        "outputId": "85449b6e-be86-4c5d-c2ed-4b55e2b890e7"
      },
      "execution_count": 48,
      "outputs": [
        {
          "output_type": "stream",
          "name": "stdout",
          "text": [
            "Model: \"sequential_4\"\n",
            "_________________________________________________________________\n",
            " Layer (type)                Output Shape              Param #   \n",
            "=================================================================\n",
            " flatten_2 (Flatten)         (None, 784)               0         \n",
            "                                                                 \n",
            " dense_13 (Dense)            (None, 64)                50240     \n",
            "                                                                 \n",
            " dense_14 (Dense)            (None, 32)                2080      \n",
            "                                                                 \n",
            " dense_15 (Dense)            (None, 10)                330       \n",
            "                                                                 \n",
            "=================================================================\n",
            "Total params: 52,650\n",
            "Trainable params: 52,650\n",
            "Non-trainable params: 0\n",
            "_________________________________________________________________\n"
          ]
        }
      ]
    },
    {
      "cell_type": "code",
      "source": [
        "# Model B: Dense + BatchNorm + ReLU\n",
        "model_b = tf.keras.Sequential([\n",
        "    tf.keras.layers.Flatten(input_shape=(28, 28)),\n",
        "    tf.keras.layers.Dense(64),\n",
        "    # 배치정규화 적용\n",
        "    tf.keras.layers.BatchNormalization(),\n",
        "    # 배치정규화 후 활성화 함수 적용\n",
        "    tf.keras.layers.Activation('relu'),\n",
        "\n",
        "    tf.keras.layers.Dense(32),\n",
        "    # 배치정규화 적용\n",
        "    tf.keras.layers.BatchNormalization(),\n",
        "    # 배치정규화 후 활성화 함수 적용\n",
        "    tf.keras.layers.Activation('relu'),\n",
        "\n",
        "    tf.keras.layers.Dense(10, activation='softmax'),\n",
        "])\n",
        "model_b.summary()"
      ],
      "metadata": {
        "colab": {
          "base_uri": "https://localhost:8080/"
        },
        "id": "KmqHnhAFTXM7",
        "outputId": "6c5318b6-082e-41dd-cc68-ea875ae11d87"
      },
      "execution_count": 49,
      "outputs": [
        {
          "output_type": "stream",
          "name": "stdout",
          "text": [
            "Model: \"sequential_5\"\n",
            "_________________________________________________________________\n",
            " Layer (type)                Output Shape              Param #   \n",
            "=================================================================\n",
            " flatten_3 (Flatten)         (None, 784)               0         \n",
            "                                                                 \n",
            " dense_16 (Dense)            (None, 64)                50240     \n",
            "                                                                 \n",
            " batch_normalization (BatchN  (None, 64)               256       \n",
            " ormalization)                                                   \n",
            "                                                                 \n",
            " activation (Activation)     (None, 64)                0         \n",
            "                                                                 \n",
            " dense_17 (Dense)            (None, 32)                2080      \n",
            "                                                                 \n",
            " batch_normalization_1 (Batc  (None, 32)               128       \n",
            " hNormalization)                                                 \n",
            "                                                                 \n",
            " activation_1 (Activation)   (None, 32)                0         \n",
            "                                                                 \n",
            " dense_18 (Dense)            (None, 10)                330       \n",
            "                                                                 \n",
            "=================================================================\n",
            "Total params: 53,034\n",
            "Trainable params: 52,842\n",
            "Non-trainable params: 192\n",
            "_________________________________________________________________\n"
          ]
        }
      ]
    },
    {
      "cell_type": "markdown",
      "source": [
        "#### | **4-5 활성화(activation) 함수**\n",
        "- 다음과 같이 클래스 인스턴스로 선언하면, 활성화 함수의 하이퍼파라미터 값을 변경하여 적용할 수 있다."
      ],
      "metadata": {
        "id": "mscJ1fOemYLn"
      }
    },
    {
      "cell_type": "code",
      "source": [
        "# LeakyReLU 기본 설정\n",
        "tf.keras.layers.LeakyReLU()\n",
        "\n",
        "# LeakyReLU, alpha=0.2 로 변경\n",
        "tf.keras.layers.LeakyReLU(alpha=0.2)"
      ],
      "metadata": {
        "colab": {
          "base_uri": "https://localhost:8080/"
        },
        "id": "1M7FOV0DToh6",
        "outputId": "1c3037ad-5dfa-4fff-c023-7bcefdd48084"
      },
      "execution_count": 50,
      "outputs": [
        {
          "output_type": "execute_result",
          "data": {
            "text/plain": [
              "<keras.layers.activation.leaky_relu.LeakyReLU at 0x7f7c279174d0>"
            ]
          },
          "metadata": {},
          "execution_count": 50
        }
      ]
    },
    {
      "cell_type": "code",
      "source": [
        "# Model C: Dense + BatchNorm + LeakyReLU(0.2)\n",
        "model_c = tf.keras.Sequential([\n",
        "    tf.keras.layers.Flatten(input_shape=(28, 28)),\n",
        "    tf.keras.layers.Dense(64),\n",
        "    # 배치정규화 적용\n",
        "    tf.keras.layers.BatchNormalization(),\n",
        "    # LeakyReLU, alpha=0.2 적용\n",
        "    tf.keras.layers.LeakyReLU(alpha=0.2),\n",
        "\n",
        "    tf.keras.layers.Dense(32),\n",
        "    # 배치정규화 적용\n",
        "    tf.keras.layers.BatchNormalization(),\n",
        "    # LeakyReLU, alpha=0.2 적용\n",
        "    tf.keras.layers.LeakyReLU(alpha=0.2),\n",
        "\n",
        "    tf.keras.layers.Dense(10, activation='softmax'),\n",
        "])\n",
        "\n",
        "# 모델 요약\n",
        "model_c.summary()"
      ],
      "metadata": {
        "colab": {
          "base_uri": "https://localhost:8080/"
        },
        "id": "W0vmBS1MTqPb",
        "outputId": "b8a87715-5346-46f8-e4e5-9a25611d5e8b"
      },
      "execution_count": 51,
      "outputs": [
        {
          "output_type": "stream",
          "name": "stdout",
          "text": [
            "Model: \"sequential_6\"\n",
            "_________________________________________________________________\n",
            " Layer (type)                Output Shape              Param #   \n",
            "=================================================================\n",
            " flatten_4 (Flatten)         (None, 784)               0         \n",
            "                                                                 \n",
            " dense_19 (Dense)            (None, 64)                50240     \n",
            "                                                                 \n",
            " batch_normalization_2 (Batc  (None, 64)               256       \n",
            " hNormalization)                                                 \n",
            "                                                                 \n",
            " leaky_re_lu_2 (LeakyReLU)   (None, 64)                0         \n",
            "                                                                 \n",
            " dense_20 (Dense)            (None, 32)                2080      \n",
            "                                                                 \n",
            " batch_normalization_3 (Batc  (None, 32)               128       \n",
            " hNormalization)                                                 \n",
            "                                                                 \n",
            " leaky_re_lu_3 (LeakyReLU)   (None, 32)                0         \n",
            "                                                                 \n",
            " dense_21 (Dense)            (None, 10)                330       \n",
            "                                                                 \n",
            "=================================================================\n",
            "Total params: 53,034\n",
            "Trainable params: 52,842\n",
            "Non-trainable params: 192\n",
            "_________________________________________________________________\n"
          ]
        }
      ]
    },
    {
      "cell_type": "markdown",
      "source": [
        "- 앞에서 생성한 2개의 모델과 LeakyReLU 활성화 함수로 변경한 모델을 동일한 조건으로 10 epoch 훈련한 후, 수렴 속도를 확인해보자."
      ],
      "metadata": {
        "id": "zk1eyd-wTtaB"
      }
    },
    {
      "cell_type": "code",
      "source": [
        "model_a.compile(optimizer='adam', loss='sparse_categorical_crossentropy', metrics=['accuracy'])\n",
        "model_b.compile(optimizer='adam', loss='sparse_categorical_crossentropy', metrics=['accuracy'])\n",
        "model_c.compile(optimizer='adam', loss='sparse_categorical_crossentropy', metrics=['accuracy'])\n",
        "\n",
        "# Model A: Dense + ReLU\n",
        "history_a = model_a.fit(x_train, y_train, \n",
        "                        validation_data=(x_test, y_test), \n",
        "                        epochs=10)\n",
        "\n",
        "# Model B: Dense + BatchNorm + ReLU\n",
        "history_b = model_b.fit(x_train, y_train, \n",
        "                        validation_data=(x_test, y_test), \n",
        "                        epochs=10)\n",
        "\n",
        "# Model C: Dense + BatchNorm + LeakyReLU(0.2)\n",
        "history_c = model_c.fit(x_train, y_train, \n",
        "                        validation_data=(x_test, y_test), \n",
        "                        epochs=10)"
      ],
      "metadata": {
        "colab": {
          "base_uri": "https://localhost:8080/"
        },
        "id": "IDMU7I97T1vi",
        "outputId": "ba8b7410-e5b1-4422-e7ea-adfd9ff8d48e"
      },
      "execution_count": null,
      "outputs": [
        {
          "output_type": "stream",
          "name": "stdout",
          "text": [
            "Epoch 1/10\n",
            "1875/1875 [==============================] - 7s 3ms/step - loss: 0.2920 - accuracy: 0.9148 - val_loss: 0.1659 - val_accuracy: 0.9496\n",
            "Epoch 2/10\n",
            "1875/1875 [==============================] - 6s 3ms/step - loss: 0.1343 - accuracy: 0.9595 - val_loss: 0.1335 - val_accuracy: 0.9599\n",
            "Epoch 3/10\n",
            "1875/1875 [==============================] - 6s 3ms/step - loss: 0.0977 - accuracy: 0.9703 - val_loss: 0.1015 - val_accuracy: 0.9682\n",
            "Epoch 4/10\n",
            "1875/1875 [==============================] - 5s 3ms/step - loss: 0.0779 - accuracy: 0.9763 - val_loss: 0.0956 - val_accuracy: 0.9694\n",
            "Epoch 5/10\n",
            "1875/1875 [==============================] - 5s 3ms/step - loss: 0.0660 - accuracy: 0.9795 - val_loss: 0.0941 - val_accuracy: 0.9714\n",
            "Epoch 6/10\n",
            "1875/1875 [==============================] - 6s 3ms/step - loss: 0.0562 - accuracy: 0.9825 - val_loss: 0.0910 - val_accuracy: 0.9717\n",
            "Epoch 7/10\n",
            "1875/1875 [==============================] - 6s 3ms/step - loss: 0.0478 - accuracy: 0.9847 - val_loss: 0.0951 - val_accuracy: 0.9745\n",
            "Epoch 8/10\n",
            "1875/1875 [==============================] - 6s 3ms/step - loss: 0.0435 - accuracy: 0.9861 - val_loss: 0.0989 - val_accuracy: 0.9724\n",
            "Epoch 9/10\n",
            "1875/1875 [==============================] - 5s 3ms/step - loss: 0.0362 - accuracy: 0.9882 - val_loss: 0.1028 - val_accuracy: 0.9729\n",
            "Epoch 10/10\n",
            "1875/1875 [==============================] - 6s 3ms/step - loss: 0.0343 - accuracy: 0.9887 - val_loss: 0.0880 - val_accuracy: 0.9767\n",
            "Epoch 1/10\n",
            "1875/1875 [==============================] - 7s 3ms/step - loss: 0.3271 - accuracy: 0.9111 - val_loss: 0.1338 - val_accuracy: 0.9599\n",
            "Epoch 2/10\n",
            "1875/1875 [==============================] - 6s 3ms/step - loss: 0.1459 - accuracy: 0.9567 - val_loss: 0.1024 - val_accuracy: 0.9691\n",
            "Epoch 3/10\n",
            "1875/1875 [==============================] - 6s 3ms/step - loss: 0.1112 - accuracy: 0.9660 - val_loss: 0.0915 - val_accuracy: 0.9709\n",
            "Epoch 4/10\n",
            "1875/1875 [==============================] - 6s 3ms/step - loss: 0.0952 - accuracy: 0.9694 - val_loss: 0.0854 - val_accuracy: 0.9725\n",
            "Epoch 5/10\n",
            "1875/1875 [==============================] - 6s 3ms/step - loss: 0.0847 - accuracy: 0.9734 - val_loss: 0.0867 - val_accuracy: 0.9735\n",
            "Epoch 6/10\n",
            "  31/1875 [..............................] - ETA: 6s - loss: 0.0860 - accuracy: 0.9728"
          ]
        }
      ]
    },
    {
      "cell_type": "code",
      "source": [
        "import matplotlib.pyplot as plt\n",
        "import numpy as np\n",
        "\n",
        "plt.figure(figsize=(12, 9))\n",
        "plt.plot(np.arange(1, 11), history_a.history['val_loss'], color='navy', linestyle=':')\n",
        "plt.plot(np.arange(1, 11), history_b.history['val_loss'], color='tomato', linestyle='-.')\n",
        "plt.plot(np.arange(1, 11), history_c.history['val_loss'], color='green', linestyle='-')\n",
        "\n",
        "plt.title('Losses', fontsize=20)\n",
        "plt.xlabel('Epochs')\n",
        "plt.ylabel('Losses')\n",
        "plt.legend(['ReLU', 'BatchNorm + ReLU','batchnorm + LeakyReLU'], fontsize=12)\n",
        "plt.show()"
      ],
      "metadata": {
        "id": "ptZvnC5ZT3kQ"
      },
      "execution_count": null,
      "outputs": []
    }
  ]
}