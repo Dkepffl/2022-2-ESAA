{
  "cells": [
    {
      "cell_type": "markdown",
      "metadata": {
        "id": "view-in-github",
        "colab_type": "text"
      },
      "source": [
        "<a href=\"https://colab.research.google.com/github/Dkepffl/2022-2-ESAA/blob/main/Assignment/Assignment221104_text4.ipynb\" target=\"_parent\"><img src=\"https://colab.research.google.com/assets/colab-badge.svg\" alt=\"Open In Colab\"/></a>"
      ]
    },
    {
      "cell_type": "markdown",
      "metadata": {
        "id": "ZlMi1iUj8v9G"
      },
      "source": [
        "# **CHAPTER 08 텍스트 분석**\n",
        "___\n"
      ]
    },
    {
      "cell_type": "markdown",
      "metadata": {
        "id": "dkEcaWz_c7XM"
      },
      "source": [
        "## **06 토픽 모델링(Topic Modeling)-20 뉴스그룹**\n",
        "___\n",
        "- **토픽 모델링(Topic Modeling)** : 문서 집합에 숨어 있는 주제를 찾아내는 것.\n",
        "- 많은 양의 문서가 있을 때 이 문서를 다 읽고 핵심 주제를 찾는 것은 많은 시간이 소모된다. 그러나 머신러닝 기반의 토픽 모델링을 적용한다면, 숨겨진 주제를 효과적으로 표현할 수 있는 중심 단어를 함축적으로 추출해 효과적으로 중요 주제를 찾아낼 수 있다.\n",
        "- 머신러닝 기반의 토픽 모델링에 자주 사용되는 기법은 **LSA(Latent Semantic Analysis)**와 **LDA(Latent Dirchlet Allocation)**이다. 이 절에서는 두 가지 중 LDA만 다룰 예정이다.\n",
        "  - 이때, 토픽 모델링에 사용되는 LDA는 차원 축소의 LDA와 약어만 다른 알고리즘이므로 유의한다.\n",
        "- 토픽 모델링은 앞의 텍스트 분류에서 소개한 20 뉴스그룹 데이터셋을 이용해 적용한다.\n",
        "\n"
      ]
    },
    {
      "cell_type": "code",
      "source": [
        "# load dataset\n",
        "from sklearn.datasets import fetch_20newsgroups\n",
        "\n",
        "news_data = fetch_20newsgroups(subset='all',random_state=156)\n",
        "print('target 클래스의 이름들 \\n',news_data.target_names)"
      ],
      "metadata": {
        "colab": {
          "base_uri": "https://localhost:8080/"
        },
        "id": "DSoXxw_B25G1",
        "outputId": "71d42a28-d4a4-4487-a4ea-da9e39ab64e4"
      },
      "execution_count": null,
      "outputs": [
        {
          "output_type": "stream",
          "name": "stdout",
          "text": [
            "target 클래스의 이름들 \n",
            " ['alt.atheism', 'comp.graphics', 'comp.os.ms-windows.misc', 'comp.sys.ibm.pc.hardware', 'comp.sys.mac.hardware', 'comp.windows.x', 'misc.forsale', 'rec.autos', 'rec.motorcycles', 'rec.sport.baseball', 'rec.sport.hockey', 'sci.crypt', 'sci.electronics', 'sci.med', 'sci.space', 'soc.religion.christian', 'talk.politics.guns', 'talk.politics.mideast', 'talk.politics.misc', 'talk.religion.misc']\n"
          ]
        }
      ]
    },
    {
      "cell_type": "markdown",
      "source": [
        "- 20 뉴스그룹 데이터셋은 위와 같이 20가지의 주제를 가진 뉴스 그룹의 데이터를 가지고 있다. 이 중 모토사이클, 야구, 그래픽스, 윈도우, 중동, 기족교, 전자공학, 의학 8개의 주제를 추출하고 이 주제에 해당하는 텍스트에 LDA 기반의 토픽 모델링을 적용한다.\n",
        "- 사이킷런은 LDA(Latent Dirichler Allocation) 기반의 토픽 모델링을 `LatentDirichlerAllocation` 클래스로 제공한다.\n",
        "- 먼저 LDA 토픽 모델링을 위해, `fetch_20newsgroups()` API의 `categories` 파라미터를 통해 필요한 주제만 추출하고, 추출된 텍스트를 Count 기반으로 벡터화한다.\n",
        "  + LDA는 Count 기반의 벡터화만 사용한다.\n",
        "  + `max_features=1000`으로 word 피처의 개수를 제한하고, `ngram_range`는 (1,2)로 설정하고 피처 벡터화 한다."
      ],
      "metadata": {
        "id": "S_OFL9mT3DfI"
      }
    },
    {
      "cell_type": "code",
      "source": [
        "# import packages\n",
        "from sklearn.datasets import fetch_20newsgroups\n",
        "from sklearn.feature_extraction.text import CountVectorizer\n",
        "from sklearn.decomposition import LatentDirichletAllocation"
      ],
      "metadata": {
        "id": "eK8lkebR4AZu"
      },
      "execution_count": null,
      "outputs": []
    },
    {
      "cell_type": "code",
      "source": [
        "# 모토사이클, 야구, 그래픽스, 윈도우즈, 중동, 기독교, 의학, 우주 주제를 추출 \n",
        "cats = ['rec.motorcycles', 'rec.sport.baseball', 'comp.graphics', 'comp.windows.x', 'talk.politics.mideast', 'soc.religion.christian', 'sci.electronics', 'sci.med'  ]"
      ],
      "metadata": {
        "id": "wLpkGhC64mdR"
      },
      "execution_count": null,
      "outputs": []
    },
    {
      "cell_type": "code",
      "source": [
        "# 위의 cats 변수로 기재된 주제만 추출\n",
        "news_df= fetch_20newsgroups(subset='all',remove=('headers', 'footers', 'quotes'), categories=cats, random_state=0)"
      ],
      "metadata": {
        "id": "Hx_l1E3Y4mjA"
      },
      "execution_count": null,
      "outputs": []
    },
    {
      "cell_type": "code",
      "source": [
        "# Count 기반 벡터화\n",
        "# LDA 는 Count기반의 Vectorizer만 적용\n",
        "count_vect = CountVectorizer(max_df=0.95, max_features=1000, min_df=2, stop_words='english', ngram_range=(1,2)) \n",
        "feat_vect = count_vect.fit_transform(news_df.data)\n",
        "print('CountVectorizer Shape:', feat_vect.shape)"
      ],
      "metadata": {
        "colab": {
          "base_uri": "https://localhost:8080/"
        },
        "id": "EkpDoJUA4lVv",
        "outputId": "ee7da9c4-8e73-4a08-972e-a5c2f839ca07"
      },
      "execution_count": null,
      "outputs": [
        {
          "output_type": "stream",
          "name": "stdout",
          "text": [
            "CountVectorizer Shape: (7862, 1000)\n"
          ]
        }
      ]
    },
    {
      "cell_type": "markdown",
      "source": [
        "- `CountVectorizer` 객체 변수인 `feat_vect`는 위의 결과와 같이 7862개의 문서와 1000개의 피처로 구성된 행렬 데이터이다.\n",
        "- 이렇게 피처 벡터화된 데이터셋을 기반으로 LDA 토픽 모델링을 수행한다.\n",
        "- 토픽의 개수는 위의 뉴스그룹에서 추출한 주제와 동일하게 8개로 정한다.\n",
        "  + `LatentDirichletAllocation` 클래스의 `n_components` 파라미터를 이용하여 토픽 개수를 조정할 수 있다."
      ],
      "metadata": {
        "id": "oyYp2iM-45U1"
      }
    },
    {
      "cell_type": "code",
      "source": [
        "lda = LatentDirichletAllocation(n_components=8, random_state=0)\n",
        "lda.fit(feat_vect)"
      ],
      "metadata": {
        "colab": {
          "base_uri": "https://localhost:8080/"
        },
        "id": "fPqLq9VF5V_c",
        "outputId": "6a82ffdf-86a3-4b4e-c3a1-7bfe49091dbf"
      },
      "execution_count": null,
      "outputs": [
        {
          "output_type": "execute_result",
          "data": {
            "text/plain": [
              "LatentDirichletAllocation(n_components=8, random_state=0)"
            ]
          },
          "metadata": {},
          "execution_count": 6
        }
      ]
    },
    {
      "cell_type": "markdown",
      "source": [
        "- `LatentDirichletAllocation` 객체는 `components_` 속성값을 가지고 있는데, `components_` 는 개별 토픽별로 하나의 word 피처가 각 토픽에 할당된 개수이다. 높을수록 해당 word 피처는 그 토픽의 중심 word가 된다."
      ],
      "metadata": {
        "id": "2cMNG_hm5ZDI"
      }
    },
    {
      "cell_type": "code",
      "source": [
        "print(lda.components_.shape)"
      ],
      "metadata": {
        "colab": {
          "base_uri": "https://localhost:8080/"
        },
        "id": "ZgduL8aC58TF",
        "outputId": "3fd86cb8-9042-43ae-bce6-0edb55a7fcef"
      },
      "execution_count": null,
      "outputs": [
        {
          "output_type": "stream",
          "name": "stdout",
          "text": [
            "(8, 1000)\n"
          ]
        }
      ]
    },
    {
      "cell_type": "code",
      "source": [
        "lda.components_"
      ],
      "metadata": {
        "colab": {
          "base_uri": "https://localhost:8080/"
        },
        "id": "kbhdtScD6A3_",
        "outputId": "8977c50e-7304-41d6-b762-6d1478a7f0aa"
      },
      "execution_count": null,
      "outputs": [
        {
          "output_type": "execute_result",
          "data": {
            "text/plain": [
              "array([[3.60992018e+01, 1.35626798e+02, 2.15751867e+01, ...,\n",
              "        3.02911688e+01, 8.66830093e+01, 6.79285199e+01],\n",
              "       [1.25199920e-01, 1.44401815e+01, 1.25045596e-01, ...,\n",
              "        1.81506995e+02, 1.25097844e-01, 9.39593286e+01],\n",
              "       [3.34762663e+02, 1.25176265e-01, 1.46743299e+02, ...,\n",
              "        1.25105772e-01, 3.63689741e+01, 1.25025218e-01],\n",
              "       ...,\n",
              "       [3.60204965e+01, 2.08640688e+01, 4.29606813e+00, ...,\n",
              "        1.45056650e+01, 8.33854413e+00, 1.55690009e+01],\n",
              "       [1.25128711e-01, 1.25247756e-01, 1.25005143e-01, ...,\n",
              "        9.17278769e+01, 1.25177668e-01, 3.74575887e+01],\n",
              "       [5.49258690e+01, 4.47009532e+00, 9.88524814e+00, ...,\n",
              "        4.87048440e+01, 1.25034678e-01, 1.25074632e-01]])"
            ]
          },
          "metadata": {},
          "execution_count": 8
        }
      ]
    },
    {
      "cell_type": "markdown",
      "source": [
        "- `components_`는 8개의 row와 1000개의 column으로 이루어져 있으며, 8개의 토픽별로 각 word 피처와 해당 토픽의 연관도 값을 가지고 있다.\n",
        "- `display_topics()` 함수를 만들어 각 토픽별로 연관도가 높은 순으로 Word를 나열해보자."
      ],
      "metadata": {
        "id": "kJwOMGqB6GdN"
      }
    },
    {
      "cell_type": "code",
      "source": [
        "def display_topics(model, feature_names, no_top_words):\n",
        "    for topic_index, topic in enumerate(model.components_):\n",
        "        print('Topic #',topic_index)\n",
        "\n",
        "        # components_ array에서 가장 값이 큰 순으로 정렬했을 때, 그 값의 array index를 반환 \n",
        "        topic_word_indexes = topic.argsort()[::-1]\n",
        "        top_indexes=topic_word_indexes[:no_top_words]\n",
        "        \n",
        "        # top_indexes 대상인 index별로 feature_names에 해당하는 word feature 추출 후 join으로 concat\n",
        "        feature_concat = ' '.join([feature_names[i] for i in top_indexes])                \n",
        "        print(feature_concat)"
      ],
      "metadata": {
        "id": "QZN7wrxi6gYY"
      },
      "execution_count": null,
      "outputs": []
    },
    {
      "cell_type": "code",
      "source": [
        "# CountVectorizer객체 내의 전체 word들의 명칭을 get_features_names()를 통해 추출\n",
        "feature_names = count_vect.get_feature_names()"
      ],
      "metadata": {
        "colab": {
          "base_uri": "https://localhost:8080/"
        },
        "id": "8xab_aw06l5r",
        "outputId": "613f9731-ee22-4fa2-e3b8-c16ed1d78e9c"
      },
      "execution_count": null,
      "outputs": [
        {
          "output_type": "stream",
          "name": "stderr",
          "text": [
            "/usr/local/lib/python3.7/dist-packages/sklearn/utils/deprecation.py:87: FutureWarning: Function get_feature_names is deprecated; get_feature_names is deprecated in 1.0 and will be removed in 1.2. Please use get_feature_names_out instead.\n",
            "  warnings.warn(msg, category=FutureWarning)\n"
          ]
        }
      ]
    },
    {
      "cell_type": "code",
      "source": [
        "# Topic별 가장 연관도가 높은 word를 15개만 추출\n",
        "display_topics(lda, feature_names, 15)"
      ],
      "metadata": {
        "colab": {
          "base_uri": "https://localhost:8080/"
        },
        "id": "5cWhe8nY6p1y",
        "outputId": "3a296854-12ab-490b-f712-4b9a6f1f1868"
      },
      "execution_count": null,
      "outputs": [
        {
          "output_type": "stream",
          "name": "stdout",
          "text": [
            "Topic # 0\n",
            "year 10 game medical health team 12 20 disease cancer 1993 games years patients good\n",
            "Topic # 1\n",
            "don just like know people said think time ve didn right going say ll way\n",
            "Topic # 2\n",
            "image file jpeg program gif images output format files color entry 00 use bit 03\n",
            "Topic # 3\n",
            "like know don think use does just good time book read information people used post\n",
            "Topic # 4\n",
            "armenian israel armenians jews turkish people israeli jewish government war dos dos turkey arab armenia 000\n",
            "Topic # 5\n",
            "edu com available graphics ftp data pub motif mail widget software mit information version sun\n",
            "Topic # 6\n",
            "god people jesus church believe christ does christian say think christians bible faith sin life\n",
            "Topic # 7\n",
            "use dos thanks windows using window does display help like problem server need know run\n"
          ]
        }
      ]
    },
    {
      "cell_type": "markdown",
      "source": [
        "## **08 문서 유사도**\n",
        "___"
      ],
      "metadata": {
        "id": "eNSrNSCc7URI"
      }
    },
    {
      "cell_type": "markdown",
      "metadata": {
        "id": "i_aiiAk7AncI"
      },
      "source": [
        "### | **문서 유사도 측정 방법-코사인 유사도**\n",
        "- 문서와 문서 간의 유사도 비교는 일반적으로 **코사인 유사도(Cosine Similarity)**를 사용한다.\n",
        "- 코사인 유사도는 **벡터와 벡터 간의 유사도를 비교할 때 벡터의 크기보다는 벡터의 상호 방향성이 얼마나 유사한지**를 기준으로 계산한다. 즉, 코사인 유사도는 두 벡터 사이의 사잇각을 구해, 얼마나 유사한지 수치로 적용한 것이다.\n"
      ]
    },
    {
      "cell_type": "markdown",
      "source": [
        "![image.png](data:image/png;base64,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)"
      ],
      "metadata": {
        "id": "3N_ICSJZ9eqM"
      }
    },
    {
      "cell_type": "markdown",
      "source": [
        "### | **두 벡터 사잇각**\n",
        "- 두 벡터의 사잇각에 따라 다음과 같이 관계를 정의할 수 있다.\n",
        "![image.png](data:image/png;base64,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)"
      ],
      "metadata": {
        "id": "DNNQzdSS7bP8"
      }
    },
    {
      "cell_type": "markdown",
      "source": [
        "- 두 벡터 A와 B의 코사인 값, 즉 유사도는 두 벡터의 내적이 아래와 같다는 점을 이용하여,\n",
        "$$A*B = ||A||||B|| cos\\theta$$\n",
        "- 다음과 같이 구할 수 있다.\n",
        "$$similarity = cos\\theta = \\frac{A \\cdot B}{||A||||B||} = \\frac{\\sum^{n}_{i=1}A_i B_i}{\\sqrt{\\sum^{n}_{i=1}A_i^2} \\sqrt{\\sum^{n}_{i=1}B_i^2}}$$\n",
        "- 코사인 유사도의 장점은 다음과 같다.\n",
        "  1. 문서를 피처 벡터화하면 차원이 매우 많은 희소 행렬이 되기 쉬운데, 희소행렬에서 문서와 문서 벡터 간의 **크기**에 기반한 유사도 지표는 정확도가 떨어지기 쉽다.\n",
        "  2. 문서가 매우 긴 경우 단어의 빈도 수도 더 많으니, 빈도수만 기준으로 삼으면 공정한 비교를 할 수 없다.\n",
        "    + 예를 들어, A 문서에서 '머신러닝'이라는 단어가 5번 언급되고, B 문서에서 3번 언급된다고, A 문서가 머신러닝과 더 밀접하다고 판단할 수 없기 때문이다. \n",
        "- 이제 간단한 문서에 대해 서로 간의 문서 유사도(=코사인 유사도)를 구해보자. 두 개의 넘파이 배열에 대한 코사인 유사도를 구하는 `cos_similarity()` 함수를 작성한다."
      ],
      "metadata": {
        "id": "SEamhOol-BoB"
      }
    },
    {
      "cell_type": "code",
      "source": [
        "import numpy as np"
      ],
      "metadata": {
        "id": "wxN86IgbA62x"
      },
      "execution_count": null,
      "outputs": []
    },
    {
      "cell_type": "code",
      "source": [
        "def cos_similarity(v1, v2):\n",
        "    dot_product = np.dot(v1, v2)\n",
        "    l2_norm = (np.sqrt(sum(np.square(v1))) * np.sqrt(sum(np.square(v2))))\n",
        "    similarity = dot_product / l2_norm     \n",
        "    \n",
        "    return similarity"
      ],
      "metadata": {
        "id": "lYid0FYtA68f"
      },
      "execution_count": null,
      "outputs": []
    },
    {
      "cell_type": "markdown",
      "source": [
        "- `doc_list`로 정의된 3개의 간단한 문서의 유사도를 비교한다. 먼저, 문서를 TF-IDF 벡터화한다."
      ],
      "metadata": {
        "id": "w6h9DO7XBDdB"
      }
    },
    {
      "cell_type": "code",
      "source": [
        "doc_list = ['if you take the blue pill, the story ends' ,\n",
        "            'if you take the red pill, you stay in Wonderland',\n",
        "            'if you take the red pill, I show you how deep the rabbit hole goes']"
      ],
      "metadata": {
        "id": "LzZ8vNDfBPO6"
      },
      "execution_count": null,
      "outputs": []
    },
    {
      "cell_type": "code",
      "source": [
        "from sklearn.feature_extraction.text import TfidfVectorizer\n",
        "\n",
        "# TF-IDF 벡터화\n",
        "tfidf_vect_simple = TfidfVectorizer() \n",
        "feature_vect_simple = tfidf_vect_simple.fit_transform(doc_list)\n",
        "print(feature_vect_simple.shape)"
      ],
      "metadata": {
        "colab": {
          "base_uri": "https://localhost:8080/"
        },
        "id": "vTiww3JUBS46",
        "outputId": "11e77c11-cbbd-41a2-998f-bf2183612c1b"
      },
      "execution_count": null,
      "outputs": [
        {
          "output_type": "stream",
          "name": "stdout",
          "text": [
            "(3, 18)\n"
          ]
        }
      ]
    },
    {
      "cell_type": "markdown",
      "source": [
        "- 반환된 행렬은 희소 행렬이므로, `cos_similarity()` 함수의 입력 인자인 `array`로 만들기 위해 밀집 행렬로 변환한 뒤 다시 배열로 변환해야 한다."
      ],
      "metadata": {
        "id": "mn3H1eU7BZII"
      }
    },
    {
      "cell_type": "code",
      "source": [
        "# TFidfVectorizer로 transform()한 결과는 희소 행렬이므로 밀집 행렬로 변환\n",
        "feature_vect_dense = feature_vect_simple.todense()"
      ],
      "metadata": {
        "id": "El_cInbABkp3"
      },
      "execution_count": null,
      "outputs": []
    },
    {
      "cell_type": "code",
      "source": [
        "# 첫번째 문장과 두번째 문장의 피처 벡터 추출\n",
        "vect1 = np.array(feature_vect_dense[0]).reshape(-1,)\n",
        "vect2 = np.array(feature_vect_dense[1]).reshape(-1,)"
      ],
      "metadata": {
        "id": "ixmIPkCfBkwj"
      },
      "execution_count": null,
      "outputs": []
    },
    {
      "cell_type": "code",
      "source": [
        "# 첫번째 문장과 두번째 문장의 피처 벡터로 두개 문장의 코사인 유사도 추출\n",
        "similarity_simple = cos_similarity(vect1, vect2 )\n",
        "print('문장 1, 문장 2 Cosine 유사도: {0:.3f}'.format(similarity_simple))"
      ],
      "metadata": {
        "colab": {
          "base_uri": "https://localhost:8080/"
        },
        "id": "w-jER2DgBk1l",
        "outputId": "24b97778-f3e8-4878-c932-db8375bd51ae"
      },
      "execution_count": null,
      "outputs": [
        {
          "output_type": "stream",
          "name": "stdout",
          "text": [
            "문장 1, 문장 2 Cosine 유사도: 0.402\n"
          ]
        }
      ]
    },
    {
      "cell_type": "markdown",
      "source": [
        "- 첫 번째 문장과 두 번재 문장의 코사인 유사도는 0.402이다. 다음으로 첫 번째 문장과 세 번째 문장, 그리고 두 번째 문장과 세 번째 문장의 유사도도 측정해보자."
      ],
      "metadata": {
        "id": "0bpjQocqB1Y-"
      }
    },
    {
      "cell_type": "code",
      "source": [
        "# 첫 번재 문장과 세 번째 문장의 유사도\n",
        "vect1 = np.array(feature_vect_dense[0]).reshape(-1,)\n",
        "vect3 = np.array(feature_vect_dense[2]).reshape(-1,)\n",
        "similarity_simple = cos_similarity(vect1, vect3 )\n",
        "\n",
        "print('문장 1, 문장 3 Cosine 유사도: {0:.3f}'.format(similarity_simple))"
      ],
      "metadata": {
        "colab": {
          "base_uri": "https://localhost:8080/"
        },
        "id": "4Vd-QFpxB80I",
        "outputId": "be16fd38-9472-4e10-e26f-40534fb78658"
      },
      "execution_count": null,
      "outputs": [
        {
          "output_type": "stream",
          "name": "stdout",
          "text": [
            "문장 1, 문장 3 Cosine 유사도: 0.404\n"
          ]
        }
      ]
    },
    {
      "cell_type": "code",
      "source": [
        "# 두 번째 문장과 세 번째 문장의 유사도\n",
        "vect2 = np.array(feature_vect_dense[1]).reshape(-1,)\n",
        "vect3 = np.array(feature_vect_dense[2]).reshape(-1,)\n",
        "similarity_simple = cos_similarity(vect2, vect3 )\n",
        "\n",
        "print('문장 2, 문장 3 Cosine 유사도: {0:.3f}'.format(similarity_simple))"
      ],
      "metadata": {
        "colab": {
          "base_uri": "https://localhost:8080/"
        },
        "id": "caMsicGQB88O",
        "outputId": "01bb3eaa-a673-4ce4-803f-bac41922816d"
      },
      "execution_count": null,
      "outputs": [
        {
          "output_type": "stream",
          "name": "stdout",
          "text": [
            "문장 2, 문장 3 Cosine 유사도: 0.456\n"
          ]
        }
      ]
    },
    {
      "cell_type": "markdown",
      "source": [
        "- 사이킷런은 코사인 유사도를 계산해주는 `sklearn.metrics.pairwise.cosine_similarity()` 함수를 제공한다. 이 함수는 비교 기준이 되는 문서의 피처 행렬과 비교되는 문서의 피처 행렬을 입력 받는다.\n",
        "- `cosine_similarity()` 함수는 희소 행렬, 밀집 행렬 모두 적용 가능하며, 행렬과 배열 모두 적용 가능하다. 따라서 별도의 변환 작업이 필요 없다.\n",
        "- 이 함수를 이용하여 첫 번째 문서를 기준으로 자기 자신을 포함하여 3개의 문서의 유사도를 각각 구해보자."
      ],
      "metadata": {
        "id": "VheO-bWlIL8i"
      }
    },
    {
      "cell_type": "code",
      "source": [
        "from sklearn.metrics.pairwise import cosine_similarity\n",
        "\n",
        "similarity_simple_pair = cosine_similarity(feature_vect_simple[0] , feature_vect_simple)\n",
        "print(similarity_simple_pair)"
      ],
      "metadata": {
        "colab": {
          "base_uri": "https://localhost:8080/"
        },
        "id": "_BTvj2SXIV5E",
        "outputId": "7ba1a6ee-aff2-40de-e44d-0cb125619cf2"
      },
      "execution_count": null,
      "outputs": [
        {
          "output_type": "stream",
          "name": "stdout",
          "text": [
            "[[1.         0.40207758 0.40425045]]\n"
          ]
        }
      ]
    },
    {
      "cell_type": "markdown",
      "source": [
        "- 첫 번째 유사도 값인 1은 자기 자신에 대한 유사도 값이다. "
      ],
      "metadata": {
        "id": "2hYyWg9NJA3s"
      }
    },
    {
      "cell_type": "code",
      "source": [
        "similarity_simple_pair = cosine_similarity(feature_vect_simple[0] , feature_vect_simple[1:]) # 자기 자신과의 유사도 생략\n",
        "print(similarity_simple_pair)"
      ],
      "metadata": {
        "colab": {
          "base_uri": "https://localhost:8080/"
        },
        "id": "B1SDuJkoJLee",
        "outputId": "29e0a235-0a75-44e8-c464-885e78f6758e"
      },
      "execution_count": null,
      "outputs": [
        {
          "output_type": "stream",
          "name": "stdout",
          "text": [
            "[[0.40207758 0.40425045]]\n"
          ]
        }
      ]
    },
    {
      "cell_type": "markdown",
      "source": [
        "- `cosine_similarity()`는 pair로 코사인 유사도 값을 제공할 수 있다. 모든 개별 문서끼리의 코사인 유사도 값을 계산해보자."
      ],
      "metadata": {
        "id": "i5ZmKbn-JQNv"
      }
    },
    {
      "cell_type": "code",
      "source": [
        "similarity_simple_pair = cosine_similarity(feature_vect_simple , feature_vect_simple)\n",
        "print(similarity_simple_pair)"
      ],
      "metadata": {
        "colab": {
          "base_uri": "https://localhost:8080/"
        },
        "id": "ZkG5fgnwJcDb",
        "outputId": "09652836-f1a3-45f3-a708-c2f1c008477c"
      },
      "execution_count": null,
      "outputs": [
        {
          "output_type": "stream",
          "name": "stdout",
          "text": [
            "[[1.         0.40207758 0.40425045]\n",
            " [0.40207758 1.         0.45647296]\n",
            " [0.40425045 0.45647296 1.        ]]\n"
          ]
        }
      ]
    },
    {
      "cell_type": "code",
      "source": [
        "print('shape:',similarity_simple_pair.shape)"
      ],
      "metadata": {
        "colab": {
          "base_uri": "https://localhost:8080/"
        },
        "id": "70EARFFtJd5P",
        "outputId": "2c387962-15c4-40bf-b09a-cfca172d3b9e"
      },
      "execution_count": null,
      "outputs": [
        {
          "output_type": "stream",
          "name": "stdout",
          "text": [
            "shape: (3, 3)\n"
          ]
        }
      ]
    },
    {
      "cell_type": "markdown",
      "source": [
        "### | **Opinion Review 데이터셋을 이용한 문서 유사도 측정**\n",
        "- Opinion Review 데이터셋을 이용하여, 이들 문서 간의 유사도를 측정해보자.\n",
        "- 데이터셋을 DataFrame으로 로드하고, 문서 군집화를 적용한다."
      ],
      "metadata": {
        "id": "5ho07P-q7f1o"
      }
    },
    {
      "cell_type": "code",
      "source": [
        "import pandas as pd\n",
        "import glob ,os\n",
        "from sklearn.feature_extraction.text import TfidfVectorizer\n",
        "from sklearn.cluster import KMeans"
      ],
      "metadata": {
        "id": "bFWf0B-4Js4A"
      },
      "execution_count": null,
      "outputs": []
    },
    {
      "cell_type": "code",
      "source": [
        "from nltk.stem import WordNetLemmatizer\n",
        "import nltk\n",
        "import string\n",
        "\n",
        "remove_punct_dict = dict((ord(punct), None) for punct in string.punctuation)\n",
        "lemmar = WordNetLemmatizer()\n",
        "\n",
        "def LemTokens(tokens):\n",
        "    return [lemmar.lemmatize(token) for token in tokens]\n",
        "\n",
        "def LemNormalize(text):\n",
        "    return LemTokens(nltk.word_tokenize(text.lower().translate(remove_punct_dict)))"
      ],
      "metadata": {
        "id": "00Rf9k86K5n1"
      },
      "execution_count": null,
      "outputs": []
    },
    {
      "cell_type": "code",
      "source": [
        "path = r'/content/drive/MyDrive/2022-2 ESAA/Data/topics'\n",
        "all_files = glob.glob(os.path.join(path, \"*.data\"))     \n",
        "filename_list = []\n",
        "opinion_text = []"
      ],
      "metadata": {
        "id": "wzKIq8lWJqoq"
      },
      "execution_count": null,
      "outputs": []
    },
    {
      "cell_type": "code",
      "source": [
        "for file_ in all_files:\n",
        "    df = pd.read_table(file_,index_col=None, header=0,encoding='latin1')\n",
        "    filename_ = file_.split('\\\\')[-1]\n",
        "    filename = filename_.split('.')[0]\n",
        "    filename_list.append(filename)\n",
        "    opinion_text.append(df.to_string())\n",
        "\n",
        "document_df = pd.DataFrame({'filename':filename_list, 'opinion_text':opinion_text})"
      ],
      "metadata": {
        "id": "lqjr11nJJ-SN"
      },
      "execution_count": null,
      "outputs": []
    },
    {
      "cell_type": "code",
      "source": [
        "tfidf_vect = TfidfVectorizer(tokenizer=LemNormalize, stop_words='english' , \\\n",
        "                             ngram_range=(1,2), min_df=0.05, max_df=0.85 )\n",
        "feature_vect = tfidf_vect.fit_transform(document_df['opinion_text'])"
      ],
      "metadata": {
        "colab": {
          "base_uri": "https://localhost:8080/"
        },
        "id": "a0q_CsEnJ_us",
        "outputId": "7a05d122-51ce-4919-9c18-6445a25e9858"
      },
      "execution_count": null,
      "outputs": [
        {
          "output_type": "stream",
          "name": "stderr",
          "text": [
            "/usr/local/lib/python3.7/dist-packages/sklearn/feature_extraction/text.py:401: UserWarning: Your stop_words may be inconsistent with your preprocessing. Tokenizing the stop words generated tokens ['ha', 'le', 'u', 'wa'] not in stop_words.\n",
            "  % sorted(inconsistent)\n"
          ]
        }
      ]
    },
    {
      "cell_type": "code",
      "source": [
        "km_cluster = KMeans(n_clusters=3, max_iter=10000, random_state=0)\n",
        "km_cluster.fit(feature_vect)\n",
        "cluster_label = km_cluster.labels_\n",
        "cluster_centers = km_cluster.cluster_centers_\n",
        "document_df['cluster_label'] = cluster_label"
      ],
      "metadata": {
        "id": "01IacZdCKBjZ"
      },
      "execution_count": null,
      "outputs": []
    },
    {
      "cell_type": "markdown",
      "source": [
        "- 호텔을 주제로 군집화된 문서를 이용하여, 특정 문서와 다른 문서 간의 유사도를 알아본다.\n",
        "- 문서를 피처 벡터화해 변환하면, 문서 내 단어(Word)에 출현 빈도와 같은 값을 부여해 단어 피처의 값으로 벡터화된다. 이렇게 각 문서가 피처 벡터화 된 데이터를 `cosine_simularity()`를 이용하여, 상호 비교해 유사도를 확인해보자.\n",
        "- 먼저 호텔을 주제로 군집화된 데이터를 추출한 뒤, 이에 해당하는 `TfidVectorizer`의 데이터를 추출한다. "
      ],
      "metadata": {
        "id": "3Vy989jdLmZW"
      }
    },
    {
      "cell_type": "code",
      "source": [
        "from sklearn.metrics.pairwise import cosine_similarity\n",
        "\n",
        "# cluster_label=1인 데이터가 호텔로 클러스터링된 데이터\n",
        "hotel_indexes = document_df[document_df['cluster_label']==1].index\n",
        "print('호텔로 클러스터링 된 문서들의 DataFrame Index:', hotel_indexes) "
      ],
      "metadata": {
        "colab": {
          "base_uri": "https://localhost:8080/"
        },
        "id": "F0Ygn2dpMLb5",
        "outputId": "0376c855-f9fa-45a9-95ad-d3ec71337f1d"
      },
      "execution_count": null,
      "outputs": [
        {
          "output_type": "stream",
          "name": "stdout",
          "text": [
            "호텔로 클러스터링 된 문서들의 DataFrame Index: Int64Index([0, 5, 7, 8, 11, 21, 24, 28, 31, 32, 33, 34, 43, 45, 46, 48], dtype='int64')\n"
          ]
        }
      ]
    },
    {
      "cell_type": "code",
      "source": [
        "# 호텔로 클러스터링된 데이터 중 첫번째 문서를 추출하여 파일명 표시.  \n",
        "comparison_docname = document_df.iloc[hotel_indexes[0]]['filename']\n",
        "print('##### 비교 기준 문서명 ',comparison_docname,' 와 타 문서 유사도######')\n",
        "\n",
        "similarity_pair = cosine_similarity(feature_vect[hotel_indexes[0]] , feature_vect[hotel_indexes])\n",
        "print(similarity_pair)"
      ],
      "metadata": {
        "colab": {
          "base_uri": "https://localhost:8080/"
        },
        "id": "WvM29xt6MShc",
        "outputId": "f97d9b85-8af2-42ef-8c41-2d4825b54c75"
      },
      "execution_count": null,
      "outputs": [
        {
          "output_type": "stream",
          "name": "stdout",
          "text": [
            "##### 비교 기준 문서명  /content/drive/MyDrive/2022-2 ESAA/Data/topics/location_bestwestern_hotel_sfo  와 타 문서 유사도######\n",
            "[[1.         0.09201799 0.11008256 0.0866001  0.05846178 0.12007824\n",
            "  0.66839337 0.26167388 0.30950894 0.22029855 0.26090251 0.16717527\n",
            "  0.23179149 0.17331798 0.19000232 0.2398459 ]]\n"
          ]
        }
      ]
    },
    {
      "cell_type": "markdown",
      "source": [
        "- 유사도가 높은 순으로 이를 정렬하고, 시각화해보자."
      ],
      "metadata": {
        "id": "vRhyarAEMbf1"
      }
    },
    {
      "cell_type": "code",
      "source": [
        "import seaborn as sns\n",
        "import numpy as np\n",
        "import matplotlib.pyplot as plt\n",
        "%matplotlib inline\n",
        "\n",
        "# argsort()를 이용하여 앞예제의 첫번째 문서와 타 문서간 유사도가 큰 순으로 정렬한 인덱스 반환하되 자기 자신은 제외. \n",
        "sorted_index = similarity_pair.argsort()[:,::-1]\n",
        "sorted_index = sorted_index[:, 1:]\n",
        "\n",
        "# 유사도가 큰 순으로 hotel_indexes를 추출하여 재 정렬. \n",
        "hotel_sorted_indexes = hotel_indexes[sorted_index.reshape(-1)]\n",
        "\n",
        "# 유사도가 큰 순으로 유사도 값을 재정렬하되 자기 자신은 제외\n",
        "hotel_1_sim_value = np.sort(similarity_pair.reshape(-1))[::-1]\n",
        "hotel_1_sim_value = hotel_1_sim_value[1:]\n",
        "\n",
        "# 유사도가 큰 순으로 정렬된 Index와 유사도값을 이용하여 파일명과 유사도값을 Seaborn 막대 그래프로 시각화\n",
        "hotel_1_sim_df = pd.DataFrame()\n",
        "hotel_1_sim_df['filename'] = (document_df.iloc[hotel_sorted_indexes]['filename']).apply(lambda x : x.strip('/content/drive/MyDrive/2022-2 ESAA/Data/topics/'))\n",
        "hotel_1_sim_df['similarity'] = hotel_1_sim_value\n",
        "\n",
        "sns.barplot(x='similarity', y='filename',data=hotel_1_sim_df)\n",
        "plt.title(comparison_docname)"
      ],
      "metadata": {
        "colab": {
          "base_uri": "https://localhost:8080/",
          "height": 312
        },
        "id": "_azYskWTMe0d",
        "outputId": "d4891ad6-a746-470a-c3d9-ced0e2dffe0b"
      },
      "execution_count": null,
      "outputs": [
        {
          "output_type": "execute_result",
          "data": {
            "text/plain": [
              "Text(0.5, 1.0, '/content/drive/MyDrive/2022-2 ESAA/Data/topics/location_bestwestern_hotel_sfo')"
            ]
          },
          "metadata": {},
          "execution_count": 33
        },
        {
          "output_type": "display_data",
          "data": {
            "text/plain": [
              "<Figure size 432x288 with 1 Axes>"
            ],
            "image/png": "[encoded data removed]"
          },
          "metadata": {
            "needs_background": "light"
          }
        }
      ]
    },
    {
      "cell_type": "markdown",
      "source": [
        "## **09 한글 텍스트 처리-네이버 영화 평점 감성 분석**\n",
        "___\n",
        "- 이번 절에서는 네이버 영화 평점 데이터를 기반으로 감성 분석을 적용해보자. \n",
        "- 한글 NLP 처리에서 주의할 점과 대표적인 파이썬 기반 한글 형태소 패키지인 KoNLPy에 대해 알아볼 예정이다."
      ],
      "metadata": {
        "id": "lTM4ir9B7n4K"
      }
    },
    {
      "cell_type": "markdown",
      "source": [
        "### | **한글 NLP 처리의 어려움**\n",
        "- **띄어쓰기**와 **조사** 때문에, 일반적으로 한글 NLP 처리는 영어 등의 라틴어 처리보다 어렵다.\n",
        "  + 영어는 띄어쓰기를 잘못하면 잘못된 혹은 없는 단어로 인식하지만 한글은 의미가 왜곡되기 때문이다.\n",
        "  + 조사의 경우 워낙 경우의 수가 많아, 어근 추출 등의 전처리 시 제거하기가 어렵다.\n",
        "- 한글의 과학성은 세계적으로 인정받고 있지만, 위의 문제로 인해 상대적으로 라틴어 계열의 언어보다 NLP 처리가 어렵다."
      ],
      "metadata": {
        "id": "fme8cB_27sjM"
      }
    },
    {
      "cell_type": "markdown",
      "source": [
        "### | **KoNLPy 소개**\n",
        "- KoNLPy는 파이썬의 대표적인 한글 형태소 패키지이다.\n",
        "- **형태소 분석(Norphological analysis)** : 단어를 형태소 어근 단위로 쪼개고 각 형태소에 품사 태깅(POS tagging)을 부착하는 작업 "
      ],
      "metadata": {
        "id": "bOnKoXcW7v93"
      }
    },
    {
      "cell_type": "code",
      "source": [],
      "metadata": {
        "id": "NYn2Klf4OsZv"
      },
      "execution_count": null,
      "outputs": []
    },
    {
      "cell_type": "markdown",
      "source": [
        "### | **데이터 로딩**\n",
        "- 이제 네이버 영화 리뷰 데이터를 로드하고, 감성 분석을 진행해보자.\n",
        "\n"
      ],
      "metadata": {
        "id": "lOOrSRaN7090"
      }
    },
    {
      "cell_type": "code",
      "source": [
        "import pandas as pd\n",
        "\n",
        "train_df = pd.read_csv('/content/drive/MyDrive/ratings_train.txt', sep='\\t')\n",
        "train_df.head(3)"
      ],
      "metadata": {
        "colab": {
          "base_uri": "https://localhost:8080/",
          "height": 143
        },
        "id": "TbwvNnCFPFz6",
        "outputId": "a4b2e92b-4ffc-40a6-ae59-ba764dd9728a"
      },
      "execution_count": null,
      "outputs": [
        {
          "output_type": "execute_result",
          "data": {
            "text/plain": [
              "         id                           document  label\n",
              "0   9976970                아 더빙.. 진짜 짜증나네요 목소리      0\n",
              "1   3819312  흠...포스터보고 초딩영화줄....오버연기조차 가볍지 않구나      1\n",
              "2  10265843                  너무재밓었다그래서보는것을추천한다      0"
            ],
            "text/html": [
              "\n",
              "  <div id=\"df-f6e7cbc8-68d2-4d94-91d2-8653e709e6ca\">\n",
              "    <div class=\"colab-df-container\">\n",
              "      <div>\n",
              "<style scoped>\n",
              "    .dataframe tbody tr th:only-of-type {\n",
              "        vertical-align: middle;\n",
              "    }\n",
              "\n",
              "    .dataframe tbody tr th {\n",
              "        vertical-align: top;\n",
              "    }\n",
              "\n",
              "    .dataframe thead th {\n",
              "        text-align: right;\n",
              "    }\n",
              "</style>\n",
              "<table border=\"1\" class=\"dataframe\">\n",
              "  <thead>\n",
              "    <tr style=\"text-align: right;\">\n",
              "      <th></th>\n",
              "      <th>id</th>\n",
              "      <th>document</th>\n",
              "      <th>label</th>\n",
              "    </tr>\n",
              "  </thead>\n",
              "  <tbody>\n",
              "    <tr>\n",
              "      <th>0</th>\n",
              "      <td>9976970</td>\n",
              "      <td>아 더빙.. 진짜 짜증나네요 목소리</td>\n",
              "      <td>0</td>\n",
              "    </tr>\n",
              "    <tr>\n",
              "      <th>1</th>\n",
              "      <td>3819312</td>\n",
              "      <td>흠...포스터보고 초딩영화줄....오버연기조차 가볍지 않구나</td>\n",
              "      <td>1</td>\n",
              "    </tr>\n",
              "    <tr>\n",
              "      <th>2</th>\n",
              "      <td>10265843</td>\n",
              "      <td>너무재밓었다그래서보는것을추천한다</td>\n",
              "      <td>0</td>\n",
              "    </tr>\n",
              "  </tbody>\n",
              "</table>\n",
              "</div>\n",
              "      <button class=\"colab-df-convert\" onclick=\"convertToInteractive('df-f6e7cbc8-68d2-4d94-91d2-8653e709e6ca')\"\n",
              "              title=\"Convert this dataframe to an interactive table.\"\n",
              "              style=\"display:none;\">\n",
              "        \n",
              "  <svg xmlns=\"http://www.w3.org/2000/svg\" height=\"24px\"viewBox=\"0 0 24 24\"\n",
              "       width=\"24px\">\n",
              "    <path d=\"M0 0h24v24H0V0z\" fill=\"none\"/>\n",
              "    <path d=\"M18.56 5.44l.94 2.06.94-2.06 2.06-.94-2.06-.94-.94-2.06-.94 2.06-2.06.94zm-11 1L8.5 8.5l.94-2.06 2.06-.94-2.06-.94L8.5 2.5l-.94 2.06-2.06.94zm10 10l.94 2.06.94-2.06 2.06-.94-2.06-.94-.94-2.06-.94 2.06-2.06.94z\"/><path d=\"M17.41 7.96l-1.37-1.37c-.4-.4-.92-.59-1.43-.59-.52 0-1.04.2-1.43.59L10.3 9.45l-7.72 7.72c-.78.78-.78 2.05 0 2.83L4 21.41c.39.39.9.59 1.41.59.51 0 1.02-.2 1.41-.59l7.78-7.78 2.81-2.81c.8-.78.8-2.07 0-2.86zM5.41 20L4 18.59l7.72-7.72 1.47 1.35L5.41 20z\"/>\n",
              "  </svg>\n",
              "      </button>\n",
              "      \n",
              "  <style>\n",
              "    .colab-df-container {\n",
              "      display:flex;\n",
              "      flex-wrap:wrap;\n",
              "      gap: 12px;\n",
              "    }\n",
              "\n",
              "    .colab-df-convert {\n",
              "      background-color: #E8F0FE;\n",
              "      border: none;\n",
              "      border-radius: 50%;\n",
              "      cursor: pointer;\n",
              "      display: none;\n",
              "      fill: #1967D2;\n",
              "      height: 32px;\n",
              "      padding: 0 0 0 0;\n",
              "      width: 32px;\n",
              "    }\n",
              "\n",
              "    .colab-df-convert:hover {\n",
              "      background-color: #E2EBFA;\n",
              "      box-shadow: 0px 1px 2px rgba(60, 64, 67, 0.3), 0px 1px 3px 1px rgba(60, 64, 67, 0.15);\n",
              "      fill: #174EA6;\n",
              "    }\n",
              "\n",
              "    [theme=dark] .colab-df-convert {\n",
              "      background-color: #3B4455;\n",
              "      fill: #D2E3FC;\n",
              "    }\n",
              "\n",
              "    [theme=dark] .colab-df-convert:hover {\n",
              "      background-color: #434B5C;\n",
              "      box-shadow: 0px 1px 3px 1px rgba(0, 0, 0, 0.15);\n",
              "      filter: drop-shadow(0px 1px 2px rgba(0, 0, 0, 0.3));\n",
              "      fill: #FFFFFF;\n",
              "    }\n",
              "  </style>\n",
              "\n",
              "      <script>\n",
              "        const buttonEl =\n",
              "          document.querySelector('#df-f6e7cbc8-68d2-4d94-91d2-8653e709e6ca button.colab-df-convert');\n",
              "        buttonEl.style.display =\n",
              "          google.colab.kernel.accessAllowed ? 'block' : 'none';\n",
              "\n",
              "        async function convertToInteractive(key) {\n",
              "          const element = document.querySelector('#df-f6e7cbc8-68d2-4d94-91d2-8653e709e6ca');\n",
              "          const dataTable =\n",
              "            await google.colab.kernel.invokeFunction('convertToInteractive',\n",
              "                                                     [key], {});\n",
              "          if (!dataTable) return;\n",
              "\n",
              "          const docLinkHtml = 'Like what you see? Visit the ' +\n",
              "            '<a target=\"_blank\" href=https://colab.research.google.com/notebooks/data_table.ipynb>data table notebook</a>'\n",
              "            + ' to learn more about interactive tables.';\n",
              "          element.innerHTML = '';\n",
              "          dataTable['output_type'] = 'display_data';\n",
              "          await google.colab.output.renderOutput(dataTable, element);\n",
              "          const docLink = document.createElement('div');\n",
              "          docLink.innerHTML = docLinkHtml;\n",
              "          element.appendChild(docLink);\n",
              "        }\n",
              "      </script>\n",
              "    </div>\n",
              "  </div>\n",
              "  "
            ]
          },
          "metadata": {},
          "execution_count": 3
        }
      ]
    },
    {
      "cell_type": "markdown",
      "source": [
        "- 학습 데이터셋의 0가 1의 Label 값 비율을 살펴보자. 1이 긍정, 0이 부정 감성이다."
      ],
      "metadata": {
        "id": "JPNYGknDQwS5"
      }
    },
    {
      "cell_type": "code",
      "source": [
        "train_df['label'].value_counts()"
      ],
      "metadata": {
        "colab": {
          "base_uri": "https://localhost:8080/"
        },
        "id": "VoEzfeNjPGqP",
        "outputId": "f1667676-a53e-4657-8779-26673c23aea2"
      },
      "execution_count": null,
      "outputs": [
        {
          "output_type": "execute_result",
          "data": {
            "text/plain": [
              "0    75173\n",
              "1    74827\n",
              "Name: label, dtype: int64"
            ]
          },
          "metadata": {},
          "execution_count": 4
        }
      ]
    },
    {
      "cell_type": "markdown",
      "source": [
        "- Label값이 균등하게 분포하고 있다.\n",
        "- `train_df`의 경우, 리뷰 텍스트를 가지는 'document' 컬럼에 Null이 일부 존재하므로, 이 값을 공백으로 변환한다.\n",
        "- 문자가 아닌 수자의 경우, 단어적인 의미가 부족하므로, 파이썬의 정규 표현식 모듈인 `re`를 이용하여, 역시 공백으로 변환한다.\n",
        "- 테스트 데이터셋도 동일한 과정을 수행한다."
      ],
      "metadata": {
        "id": "NeHzTvNEQ4rW"
      }
    },
    {
      "cell_type": "code",
      "source": [
        "import re\n",
        "\n",
        "train_df = train_df.fillna(' ')\n",
        "\n",
        "# 정규 표현식을 이용하여 숫자를 공백으로 변경(정규 표현식으로 \\d 는 숫자를 의미함.) \n",
        "train_df['document'] = train_df['document'].apply( lambda x : re.sub(r\"\\d+\", \" \", x) )"
      ],
      "metadata": {
        "id": "N_t5XSVAPKle"
      },
      "execution_count": null,
      "outputs": []
    },
    {
      "cell_type": "code",
      "source": [
        "# 테스트 데이터 셋을 로딩하고 동일하게 Null 및 숫자를 공백으로 변환\n",
        "test_df = pd.read_csv('/content/drive/MyDrive/ratings_test.txt', sep='\\t')\n",
        "test_df = test_df.fillna(' ')\n",
        "test_df['document'] = test_df['document'].apply( lambda x : re.sub(r\"\\d+\", \" \", x) )"
      ],
      "metadata": {
        "id": "-BB400_KRTcX"
      },
      "execution_count": null,
      "outputs": []
    },
    {
      "cell_type": "code",
      "source": [
        "# id 컬럼 삭제\n",
        "train_df.drop('id', axis=1, inplace=True) \n",
        "test_df.drop('id', axis=1, inplace=True)"
      ],
      "metadata": {
        "id": "cOKfYFpLRUk7"
      },
      "execution_count": null,
      "outputs": []
    },
    {
      "cell_type": "markdown",
      "source": [
        "- 이제 각 문장을 한글 형태소 분석을 통해 형태소 단위로 토큰화 한 후, TF-IDF 벡터화를 진행해보자.\n",
        "- 한글 형태소 엔진은 SNS 분석에 적합한 `Twitter` 클래스를 이용한다.\n",
        "  + `Twitter` 객체의 `morphs()` 메서드를 이용하면 입력 인자로 들어온 문장을 형태소 단위로 토큰화해 list 객체로 반환한다.\n",
        "  + 이를 이용하여, 문장을 형태소 단위로 반환하는 별도의 tokenizer 함수 `tw_tokenizer()`를 생성해보자."
      ],
      "metadata": {
        "id": "1wS9p9h7RY1M"
      }
    },
    {
      "cell_type": "code",
      "source": [
        "!pip install konlpy"
      ],
      "metadata": {
        "colab": {
          "base_uri": "https://localhost:8080/"
        },
        "id": "Qa9cQtd7aduM",
        "outputId": "84b84257-ee72-4af6-b467-681cb91106d8"
      },
      "execution_count": null,
      "outputs": [
        {
          "output_type": "stream",
          "name": "stdout",
          "text": [
            "Looking in indexes: https://pypi.org/simple, https://us-python.pkg.dev/colab-wheels/public/simple/\n",
            "Collecting konlpy\n",
            "  Downloading konlpy-0.6.0-py2.py3-none-any.whl (19.4 MB)\n",
            "\u001b[K     |████████████████████████████████| 19.4 MB 1.2 MB/s \n",
            "\u001b[?25hRequirement already satisfied: lxml>=4.1.0 in /usr/local/lib/python3.7/dist-packages (from konlpy) (4.9.1)\n",
            "Requirement already satisfied: numpy>=1.6 in /usr/local/lib/python3.7/dist-packages (from konlpy) (1.21.6)\n",
            "Collecting JPype1>=0.7.0\n",
            "  Downloading JPype1-1.4.1-cp37-cp37m-manylinux_2_12_x86_64.manylinux2010_x86_64.whl (465 kB)\n",
            "\u001b[K     |████████████████████████████████| 465 kB 62.8 MB/s \n",
            "\u001b[?25hRequirement already satisfied: typing-extensions in /usr/local/lib/python3.7/dist-packages (from JPype1>=0.7.0->konlpy) (4.1.1)\n",
            "Requirement already satisfied: packaging in /usr/local/lib/python3.7/dist-packages (from JPype1>=0.7.0->konlpy) (21.3)\n",
            "Requirement already satisfied: pyparsing!=3.0.5,>=2.0.2 in /usr/local/lib/python3.7/dist-packages (from packaging->JPype1>=0.7.0->konlpy) (3.0.9)\n",
            "Installing collected packages: JPype1, konlpy\n",
            "Successfully installed JPype1-1.4.1 konlpy-0.6.0\n"
          ]
        }
      ]
    },
    {
      "cell_type": "code",
      "source": [
        "from konlpy.tag import Twitter\n",
        "\n",
        "twitter = Twitter()\n",
        "\n",
        "def tw_tokenizer(text):\n",
        "    # 입력 인자로 들어온 text 를 형태소 단어로 토큰화 하여 list 객체 반환\n",
        "    tokens_ko = twitter.morphs(text)\n",
        "    return tokens_ko"
      ],
      "metadata": {
        "colab": {
          "base_uri": "https://localhost:8080/"
        },
        "id": "qi-AlIOFPK4a",
        "outputId": "6f7f171d-2c9e-43f7-8ff0-a6903b125e2a"
      },
      "execution_count": null,
      "outputs": [
        {
          "output_type": "stream",
          "name": "stderr",
          "text": [
            "/usr/local/lib/python3.7/dist-packages/konlpy/tag/_okt.py:17: UserWarning: \"Twitter\" has changed to \"Okt\" since KoNLPy v0.4.5.\n",
            "  warn('\"Twitter\" has changed to \"Okt\" since KoNLPy v0.4.5.')\n"
          ]
        }
      ]
    },
    {
      "cell_type": "markdown",
      "source": [
        "- 사이킷런의 `TfidVectorizer`를 이용하여, TF-IDF 피처 모델을 생성한다. "
      ],
      "metadata": {
        "id": "ZbWCvd9sTRxZ"
      }
    },
    {
      "cell_type": "code",
      "source": [
        "from sklearn.feature_extraction.text import TfidfVectorizer\n",
        "from sklearn.linear_model import LogisticRegression\n",
        "from sklearn.model_selection import GridSearchCV\n",
        "\n",
        "# Twitter 객체의 morphs( ) 객체를 이용한 tokenizer를 사용. ngram_range는 (1,2) \n",
        "tfidf_vect = TfidfVectorizer(tokenizer=tw_tokenizer, ngram_range=(1,2), min_df=3, max_df=0.9)\n",
        "tfidf_vect.fit(train_df['document'])\n",
        "tfidf_matrix_train = tfidf_vect.transform(train_df['document'])"
      ],
      "metadata": {
        "id": "d8a6Z3rRPMmw",
        "colab": {
          "base_uri": "https://localhost:8080/"
        },
        "outputId": "c6dd0f84-0994-49ef-b59e-f600db7e2b8b"
      },
      "execution_count": null,
      "outputs": [
        {
          "output_type": "stream",
          "name": "stderr",
          "text": [
            "/usr/local/lib/python3.7/dist-packages/sklearn/feature_extraction/text.py:517: UserWarning: The parameter 'token_pattern' will not be used since 'tokenizer' is not None'\n",
            "  \"The parameter 'token_pattern' will not be used\"\n"
          ]
        }
      ]
    },
    {
      "cell_type": "markdown",
      "source": [
        "- 로지스틱 회귀를 이용하여 분류 기반의 감성 분석을 수행한다. 로지스틱 회귀의 하이퍼 파라미터 C의 최적화를 위해 GridSearchCV를 이용한다."
      ],
      "metadata": {
        "id": "YIUz3cFXTYTQ"
      }
    },
    {
      "cell_type": "code",
      "source": [
        "# Logistic Regression 을 이용하여 감성 분석 Classification 수행. \n",
        "lg_clf = LogisticRegression(random_state=0)\n",
        "\n",
        "# Parameter C 최적화를 위해 GridSearchCV 를 이용. \n",
        "params = { 'C': [1 ,3.5, 4.5, 5.5, 10 ] }\n",
        "grid_cv = GridSearchCV(lg_clf , param_grid=params , cv=3 ,scoring='accuracy', verbose=1 )\n",
        "grid_cv.fit(tfidf_matrix_train , train_df['label'] )\n",
        "print(grid_cv.best_params_ , round(grid_cv.best_score_,4))"
      ],
      "metadata": {
        "id": "hWBCa830PMuT",
        "colab": {
          "base_uri": "https://localhost:8080/"
        },
        "outputId": "365d533f-9d87-43df-fd1d-54cd577fde1c"
      },
      "execution_count": null,
      "outputs": [
        {
          "output_type": "stream",
          "name": "stdout",
          "text": [
            "Fitting 3 folds for each of 5 candidates, totalling 15 fits\n"
          ]
        },
        {
          "output_type": "stream",
          "name": "stderr",
          "text": [
            "/usr/local/lib/python3.7/dist-packages/sklearn/linear_model/_logistic.py:818: ConvergenceWarning: lbfgs failed to converge (status=1):\n",
            "STOP: TOTAL NO. of ITERATIONS REACHED LIMIT.\n",
            "\n",
            "Increase the number of iterations (max_iter) or scale the data as shown in:\n",
            "    https://scikit-learn.org/stable/modules/preprocessing.html\n",
            "Please also refer to the documentation for alternative solver options:\n",
            "    https://scikit-learn.org/stable/modules/linear_model.html#logistic-regression\n",
            "  extra_warning_msg=_LOGISTIC_SOLVER_CONVERGENCE_MSG,\n",
            "/usr/local/lib/python3.7/dist-packages/sklearn/linear_model/_logistic.py:818: ConvergenceWarning: lbfgs failed to converge (status=1):\n",
            "STOP: TOTAL NO. of ITERATIONS REACHED LIMIT.\n",
            "\n",
            "Increase the number of iterations (max_iter) or scale the data as shown in:\n",
            "    https://scikit-learn.org/stable/modules/preprocessing.html\n",
            "Please also refer to the documentation for alternative solver options:\n",
            "    https://scikit-learn.org/stable/modules/linear_model.html#logistic-regression\n",
            "  extra_warning_msg=_LOGISTIC_SOLVER_CONVERGENCE_MSG,\n",
            "/usr/local/lib/python3.7/dist-packages/sklearn/linear_model/_logistic.py:818: ConvergenceWarning: lbfgs failed to converge (status=1):\n",
            "STOP: TOTAL NO. of ITERATIONS REACHED LIMIT.\n",
            "\n",
            "Increase the number of iterations (max_iter) or scale the data as shown in:\n",
            "    https://scikit-learn.org/stable/modules/preprocessing.html\n",
            "Please also refer to the documentation for alternative solver options:\n",
            "    https://scikit-learn.org/stable/modules/linear_model.html#logistic-regression\n",
            "  extra_warning_msg=_LOGISTIC_SOLVER_CONVERGENCE_MSG,\n",
            "/usr/local/lib/python3.7/dist-packages/sklearn/linear_model/_logistic.py:818: ConvergenceWarning: lbfgs failed to converge (status=1):\n",
            "STOP: TOTAL NO. of ITERATIONS REACHED LIMIT.\n",
            "\n",
            "Increase the number of iterations (max_iter) or scale the data as shown in:\n",
            "    https://scikit-learn.org/stable/modules/preprocessing.html\n",
            "Please also refer to the documentation for alternative solver options:\n",
            "    https://scikit-learn.org/stable/modules/linear_model.html#logistic-regression\n",
            "  extra_warning_msg=_LOGISTIC_SOLVER_CONVERGENCE_MSG,\n",
            "/usr/local/lib/python3.7/dist-packages/sklearn/linear_model/_logistic.py:818: ConvergenceWarning: lbfgs failed to converge (status=1):\n",
            "STOP: TOTAL NO. of ITERATIONS REACHED LIMIT.\n",
            "\n",
            "Increase the number of iterations (max_iter) or scale the data as shown in:\n",
            "    https://scikit-learn.org/stable/modules/preprocessing.html\n",
            "Please also refer to the documentation for alternative solver options:\n",
            "    https://scikit-learn.org/stable/modules/linear_model.html#logistic-regression\n",
            "  extra_warning_msg=_LOGISTIC_SOLVER_CONVERGENCE_MSG,\n",
            "/usr/local/lib/python3.7/dist-packages/sklearn/linear_model/_logistic.py:818: ConvergenceWarning: lbfgs failed to converge (status=1):\n",
            "STOP: TOTAL NO. of ITERATIONS REACHED LIMIT.\n",
            "\n",
            "Increase the number of iterations (max_iter) or scale the data as shown in:\n",
            "    https://scikit-learn.org/stable/modules/preprocessing.html\n",
            "Please also refer to the documentation for alternative solver options:\n",
            "    https://scikit-learn.org/stable/modules/linear_model.html#logistic-regression\n",
            "  extra_warning_msg=_LOGISTIC_SOLVER_CONVERGENCE_MSG,\n",
            "/usr/local/lib/python3.7/dist-packages/sklearn/linear_model/_logistic.py:818: ConvergenceWarning: lbfgs failed to converge (status=1):\n",
            "STOP: TOTAL NO. of ITERATIONS REACHED LIMIT.\n",
            "\n",
            "Increase the number of iterations (max_iter) or scale the data as shown in:\n",
            "    https://scikit-learn.org/stable/modules/preprocessing.html\n",
            "Please also refer to the documentation for alternative solver options:\n",
            "    https://scikit-learn.org/stable/modules/linear_model.html#logistic-regression\n",
            "  extra_warning_msg=_LOGISTIC_SOLVER_CONVERGENCE_MSG,\n",
            "/usr/local/lib/python3.7/dist-packages/sklearn/linear_model/_logistic.py:818: ConvergenceWarning: lbfgs failed to converge (status=1):\n",
            "STOP: TOTAL NO. of ITERATIONS REACHED LIMIT.\n",
            "\n",
            "Increase the number of iterations (max_iter) or scale the data as shown in:\n",
            "    https://scikit-learn.org/stable/modules/preprocessing.html\n",
            "Please also refer to the documentation for alternative solver options:\n",
            "    https://scikit-learn.org/stable/modules/linear_model.html#logistic-regression\n",
            "  extra_warning_msg=_LOGISTIC_SOLVER_CONVERGENCE_MSG,\n",
            "/usr/local/lib/python3.7/dist-packages/sklearn/linear_model/_logistic.py:818: ConvergenceWarning: lbfgs failed to converge (status=1):\n",
            "STOP: TOTAL NO. of ITERATIONS REACHED LIMIT.\n",
            "\n",
            "Increase the number of iterations (max_iter) or scale the data as shown in:\n",
            "    https://scikit-learn.org/stable/modules/preprocessing.html\n",
            "Please also refer to the documentation for alternative solver options:\n",
            "    https://scikit-learn.org/stable/modules/linear_model.html#logistic-regression\n",
            "  extra_warning_msg=_LOGISTIC_SOLVER_CONVERGENCE_MSG,\n",
            "/usr/local/lib/python3.7/dist-packages/sklearn/linear_model/_logistic.py:818: ConvergenceWarning: lbfgs failed to converge (status=1):\n",
            "STOP: TOTAL NO. of ITERATIONS REACHED LIMIT.\n",
            "\n",
            "Increase the number of iterations (max_iter) or scale the data as shown in:\n",
            "    https://scikit-learn.org/stable/modules/preprocessing.html\n",
            "Please also refer to the documentation for alternative solver options:\n",
            "    https://scikit-learn.org/stable/modules/linear_model.html#logistic-regression\n",
            "  extra_warning_msg=_LOGISTIC_SOLVER_CONVERGENCE_MSG,\n",
            "/usr/local/lib/python3.7/dist-packages/sklearn/linear_model/_logistic.py:818: ConvergenceWarning: lbfgs failed to converge (status=1):\n",
            "STOP: TOTAL NO. of ITERATIONS REACHED LIMIT.\n",
            "\n",
            "Increase the number of iterations (max_iter) or scale the data as shown in:\n",
            "    https://scikit-learn.org/stable/modules/preprocessing.html\n",
            "Please also refer to the documentation for alternative solver options:\n",
            "    https://scikit-learn.org/stable/modules/linear_model.html#logistic-regression\n",
            "  extra_warning_msg=_LOGISTIC_SOLVER_CONVERGENCE_MSG,\n",
            "/usr/local/lib/python3.7/dist-packages/sklearn/linear_model/_logistic.py:818: ConvergenceWarning: lbfgs failed to converge (status=1):\n",
            "STOP: TOTAL NO. of ITERATIONS REACHED LIMIT.\n",
            "\n",
            "Increase the number of iterations (max_iter) or scale the data as shown in:\n",
            "    https://scikit-learn.org/stable/modules/preprocessing.html\n",
            "Please also refer to the documentation for alternative solver options:\n",
            "    https://scikit-learn.org/stable/modules/linear_model.html#logistic-regression\n",
            "  extra_warning_msg=_LOGISTIC_SOLVER_CONVERGENCE_MSG,\n"
          ]
        },
        {
          "output_type": "stream",
          "name": "stdout",
          "text": [
            "{'C': 3.5} 0.8593\n"
          ]
        },
        {
          "output_type": "stream",
          "name": "stderr",
          "text": [
            "/usr/local/lib/python3.7/dist-packages/sklearn/linear_model/_logistic.py:818: ConvergenceWarning: lbfgs failed to converge (status=1):\n",
            "STOP: TOTAL NO. of ITERATIONS REACHED LIMIT.\n",
            "\n",
            "Increase the number of iterations (max_iter) or scale the data as shown in:\n",
            "    https://scikit-learn.org/stable/modules/preprocessing.html\n",
            "Please also refer to the documentation for alternative solver options:\n",
            "    https://scikit-learn.org/stable/modules/linear_model.html#logistic-regression\n",
            "  extra_warning_msg=_LOGISTIC_SOLVER_CONVERGENCE_MSG,\n"
          ]
        }
      ]
    },
    {
      "cell_type": "markdown",
      "source": [
        "- 이제 테스트셋을 이용하여 최종 감석 분석 예측을 수행해보자."
      ],
      "metadata": {
        "id": "AQykkAArVMk6"
      }
    },
    {
      "cell_type": "code",
      "source": [
        "from sklearn.metrics import accuracy_score\n",
        "\n",
        "# 학습 데이터를 적용한 TfidfVectorizer를 이용하여 테스트 데이터를 TF-IDF 값으로 Feature 변환함. \n",
        "tfidf_matrix_test = tfidf_vect.transform(test_df['document'])\n",
        "\n",
        "# classifier 는 GridSearchCV에서 최적 파라미터로 학습된 classifier를 그대로 이용\n",
        "best_estimator = grid_cv.best_estimator_\n",
        "preds = best_estimator.predict(tfidf_matrix_test)\n",
        "\n",
        "print('Logistic Regression 정확도: ',accuracy_score(test_df['label'],preds))"
      ],
      "metadata": {
        "id": "S9iwMs-_PP23",
        "colab": {
          "base_uri": "https://localhost:8080/"
        },
        "outputId": "a2fb08c5-469a-4459-c70d-b939834ebf70"
      },
      "execution_count": null,
      "outputs": [
        {
          "output_type": "stream",
          "name": "stdout",
          "text": [
            "Logistic Regression 정확도:  0.86186\n"
          ]
        }
      ]
    }
  ],
  "metadata": {
    "colab": {
      "collapsed_sections": [],
      "provenance": [],
      "include_colab_link": true
    },
    "kernelspec": {
      "display_name": "Python 3",
      "name": "python3"
    },
    "language_info": {
      "name": "python"
    }
  },
  "nbformat": 4,
  "nbformat_minor": 0
}