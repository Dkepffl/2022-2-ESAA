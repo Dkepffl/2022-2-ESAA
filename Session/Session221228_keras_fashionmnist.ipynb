{
  "nbformat": 4,
  "nbformat_minor": 0,
  "metadata": {
    "colab": {
      "provenance": [],
      "authorship_tag": "ABX9TyNmKftVtRS30ADGWld76iCE",
      "include_colab_link": true
    },
    "kernelspec": {
      "name": "python3",
      "display_name": "Python 3"
    },
    "language_info": {
      "name": "python"
    }
  },
  "cells": [
    {
      "cell_type": "markdown",
      "metadata": {
        "id": "view-in-github",
        "colab_type": "text"
      },
      "source": [
        "<a href=\"https://colab.research.google.com/github/Dkepffl/2022-2-ESAA/blob/main/Session/Session221228_keras_fashionmnist.ipynb\" target=\"_parent\"><img src=\"https://colab.research.google.com/assets/colab-badge.svg\" alt=\"Open In Colab\"/></a>"
      ]
    },
    {
      "cell_type": "code",
      "execution_count": 1,
      "metadata": {
        "id": "yzL9gnzIenTn"
      },
      "outputs": [],
      "source": [
        "import tensorflow as tf\n",
        "\n",
        "import numpy as np\n",
        "import matplotlib.pyplot as plt"
      ]
    },
    {
      "cell_type": "markdown",
      "source": [
        "## **Keras를 이용한 기본 이미지 분류**"
      ],
      "metadata": {
        "id": "GXDDsYu8ld29"
      }
    },
    {
      "cell_type": "markdown",
      "source": [
        "### | **패션 MNIST 데이터셋 임포트하기**\n",
        "- **패션 MNIST 데이터셋** : 10개의 범주(category)와 70,000개의 흑백 이미지로 구성된 데이터셋\n",
        "- 각 이미지는 28X28 픽셀로 되어 있다.\n",
        "- 60,000개의 이미지는 훈련 데이터셋으로, 10,000개의 이미지는 평가 데이터셋으로 이용한다."
      ],
      "metadata": {
        "id": "70zsyXExljxf"
      }
    },
    {
      "cell_type": "code",
      "source": [
        "fashion_mnist = tf.keras.datasets.fashion_mnist\n",
        "(train_images, train_labels), (test_images, test_labels) = fashion_mnist.load_data()"
      ],
      "metadata": {
        "colab": {
          "base_uri": "https://localhost:8080/"
        },
        "id": "UvFgAomWmUSN",
        "outputId": "63aef79a-1e88-41b8-f084-25fcd8a12515"
      },
      "execution_count": 2,
      "outputs": [
        {
          "output_type": "stream",
          "name": "stdout",
          "text": [
            "Downloading data from https://storage.googleapis.com/tensorflow/tf-keras-datasets/train-labels-idx1-ubyte.gz\n",
            "29515/29515 [==============================] - 0s 0us/step\n",
            "Downloading data from https://storage.googleapis.com/tensorflow/tf-keras-datasets/train-images-idx3-ubyte.gz\n",
            "26421880/26421880 [==============================] - 0s 0us/step\n",
            "Downloading data from https://storage.googleapis.com/tensorflow/tf-keras-datasets/t10k-labels-idx1-ubyte.gz\n",
            "5148/5148 [==============================] - 0s 0us/step\n",
            "Downloading data from https://storage.googleapis.com/tensorflow/tf-keras-datasets/t10k-images-idx3-ubyte.gz\n",
            "4422102/4422102 [==============================] - 0s 0us/step\n"
          ]
        }
      ]
    },
    {
      "cell_type": "markdown",
      "source": [
        "- `train_images`와 `train_labels` 배열 : 훈련셋\n",
        "- `test_images`와 `test_labels` 배열 : 테스트셋\n",
        "- 픽셀 값은 0과 255 사이의 값이다.\n",
        "- 레이블(label)은 0에서 9가지의 정수 배열이다. 옷의 클래스를 의미한다.\n",
        "  - 0 : T-shirt/top\n",
        "  - 1 : Trouser\n",
        "  - 2\t: Pullover\n",
        "  - 3\t: Dress\n",
        "  - 4\t: Coat\n",
        "  - 5\t: Sandal\n",
        "  - 6\t: Shirt\n",
        "  - 7\t: Sneaker\n",
        "  - 8\t: Bag\n",
        "  - 9\t: Ankle boot\n",
        "- 각 이미지는 하나의 레이블을 갖고 있다. 데이터셋에 클래스 이름이 포함되어 있지 않아, 뒤에서 이미지를 출력할 때 사용하기 위한 별도의 변수를 만들어 저장한다."
      ],
      "metadata": {
        "id": "zgqqDRHYmgEN"
      }
    },
    {
      "cell_type": "code",
      "source": [
        "class_names = ['T-shirt/top', 'Trouser', 'Pullover', 'Dress', 'Coat', 'Sandal', 'Shirt', 'Sneaker', 'Bag', 'Ankle boot']"
      ],
      "metadata": {
        "id": "zr0pc3UPnSyC"
      },
      "execution_count": 4,
      "outputs": []
    },
    {
      "cell_type": "markdown",
      "source": [
        "### | **데이터 탐색**\n",
        "- 데이터셋 구조를 살펴보자.\n",
        "- 아래는 이미지 데이터셋과 레이블 값의 크기를 확인해보는 코드이다."
      ],
      "metadata": {
        "id": "YZU2kcBGln_j"
      }
    },
    {
      "cell_type": "code",
      "source": [
        "train_images.shape"
      ],
      "metadata": {
        "colab": {
          "base_uri": "https://localhost:8080/"
        },
        "id": "rpeA0Pz5nQbR",
        "outputId": "61b4089d-16f4-424b-efa6-eddf380d45fb"
      },
      "execution_count": 3,
      "outputs": [
        {
          "output_type": "execute_result",
          "data": {
            "text/plain": [
              "(60000, 28, 28)"
            ]
          },
          "metadata": {},
          "execution_count": 3
        }
      ]
    },
    {
      "cell_type": "code",
      "source": [
        "len(train_labels)"
      ],
      "metadata": {
        "colab": {
          "base_uri": "https://localhost:8080/"
        },
        "id": "5yNhr9clnaNB",
        "outputId": "e2c5b9df-ab2e-4f2a-f125-3832530388c0"
      },
      "execution_count": 5,
      "outputs": [
        {
          "output_type": "execute_result",
          "data": {
            "text/plain": [
              "60000"
            ]
          },
          "metadata": {},
          "execution_count": 5
        }
      ]
    },
    {
      "cell_type": "code",
      "source": [
        "train_labels"
      ],
      "metadata": {
        "colab": {
          "base_uri": "https://localhost:8080/"
        },
        "id": "Gl-kWQ-zni4l",
        "outputId": "60d500eb-c0f4-44ef-ad71-81fbd06737a2"
      },
      "execution_count": 6,
      "outputs": [
        {
          "output_type": "execute_result",
          "data": {
            "text/plain": [
              "array([9, 0, 0, ..., 3, 0, 5], dtype=uint8)"
            ]
          },
          "metadata": {},
          "execution_count": 6
        }
      ]
    },
    {
      "cell_type": "markdown",
      "source": [
        "- 각 레이블의 값은 0과 9 사이의 정수이다.\n",
        "- 테스트셋의 크기도 살펴보자."
      ],
      "metadata": {
        "id": "6YyW7Z-_njib"
      }
    },
    {
      "cell_type": "code",
      "source": [
        "test_images.shape"
      ],
      "metadata": {
        "colab": {
          "base_uri": "https://localhost:8080/"
        },
        "id": "whuYbCf4nrPK",
        "outputId": "26f2570c-3ffe-433b-aa11-0218e59438a1"
      },
      "execution_count": 7,
      "outputs": [
        {
          "output_type": "execute_result",
          "data": {
            "text/plain": [
              "(10000, 28, 28)"
            ]
          },
          "metadata": {},
          "execution_count": 7
        }
      ]
    },
    {
      "cell_type": "code",
      "source": [
        "len(test_labels)"
      ],
      "metadata": {
        "colab": {
          "base_uri": "https://localhost:8080/"
        },
        "id": "ZgsSqUHens1D",
        "outputId": "be450c55-c115-49d1-cb6a-96dff16aed8d"
      },
      "execution_count": 8,
      "outputs": [
        {
          "output_type": "execute_result",
          "data": {
            "text/plain": [
              "10000"
            ]
          },
          "metadata": {},
          "execution_count": 8
        }
      ]
    },
    {
      "cell_type": "markdown",
      "source": [
        "### | **데이터 전처리**\n",
        "- 훈련 데이터셋에 있는 첫 번째 이미지를 살펴보자.\n",
        "- 오른쪽 바를 보면 픽셀 값의 범위가 0~255 사이라는 것을 알 수 있다."
      ],
      "metadata": {
        "id": "flsPoxa3lqhN"
      }
    },
    {
      "cell_type": "code",
      "source": [
        "plt.figure()\n",
        "plt.imshow(train_images[0])\n",
        "plt.colorbar()\n",
        "plt.grid(False)\n",
        "plt.show()"
      ],
      "metadata": {
        "colab": {
          "base_uri": "https://localhost:8080/",
          "height": 265
        },
        "id": "pjyIeWyWn3fa",
        "outputId": "32c3caad-84be-4585-af06-f590502eb0e7"
      },
      "execution_count": 9,
      "outputs": [
        {
          "output_type": "display_data",
          "data": {
            "text/plain": [
              "<Figure size 432x288 with 2 Axes>"
            ],
            "image/png": "[encoded data removed]"
          },
          "metadata": {
            "needs_background": "light"
          }
        }
      ]
    },
    {
      "cell_type": "markdown",
      "source": [
        "- 신경망 모델을 훈련시키 전 스케일링을 통해 이 값의 범위를 0과 1 사이로 조정하자.\n",
        "- 훈련 데이터셋과 테스트 데이터셋을 동일한 방식으로 전처리하는 것이 중요하다."
      ],
      "metadata": {
        "id": "LhOW4zdEn5j_"
      }
    },
    {
      "cell_type": "code",
      "source": [
        "train_images = train_images / 255.0\n",
        "test_images = test_images / 255.0"
      ],
      "metadata": {
        "id": "ypyTxEA4oC7b"
      },
      "execution_count": 10,
      "outputs": []
    },
    {
      "cell_type": "markdown",
      "source": [
        "- 훈련 세트에서 처음 25개 이미지와 그 아래 클래스 이름을 출력해보자. 데이터 포맷이 올바른지 확인하고, 모델 구성과 훈련할 준비를 마친다."
      ],
      "metadata": {
        "id": "Cabvmyq9oIbU"
      }
    },
    {
      "cell_type": "code",
      "source": [
        "plt.figure(figsize=(10,10))\n",
        "for i in range(25):\n",
        "    plt.subplot(5,5,i+1)\n",
        "    plt.xticks([])\n",
        "    plt.yticks([])\n",
        "    plt.grid(False)\n",
        "    plt.imshow(train_images[i], cmap=plt.cm.binary)\n",
        "    plt.xlabel(class_names[train_labels[i]])\n",
        "plt.show()"
      ],
      "metadata": {
        "colab": {
          "base_uri": "https://localhost:8080/",
          "height": 589
        },
        "id": "1Ke9ekOqoP3p",
        "outputId": "56b5b4d7-d904-4576-fbdc-f0a24fdbbfa5"
      },
      "execution_count": 11,
      "outputs": [
        {
          "output_type": "display_data",
          "data": {
            "text/plain": [
              "<Figure size 720x720 with 25 Axes>"
            ],
            "image/png": "[encoded data removed]"
          },
          "metadata": {}
        }
      ]
    },
    {
      "cell_type": "markdown",
      "source": [
        "### | **모델 구성**"
      ],
      "metadata": {
        "id": "AqW41qGLlr3_"
      }
    },
    {
      "cell_type": "markdown",
      "source": [
        "#### **층 설정**\n",
        "___\n",
        "- 신경망은 기본적으로 레이어로 구성되어 있다.\n",
        "- 대부분 딥러닝은 간단한 층을 연결하여 구성한다.\n",
        "- `tf.keras.layers.Dense`와 같은 층들의 가중치는 훈련하는 동안 업데이트된다."
      ],
      "metadata": {
        "id": "CoSwZF-ClwG9"
      }
    },
    {
      "cell_type": "code",
      "source": [
        "model = tf.keras.Sequential([\n",
        "    tf.keras.layers.Flatten(input_shape=(28, 28)),\n",
        "    tf.keras.layers.Dense(128, activation='relu'),\n",
        "    tf.keras.layers.Dense(10)\n",
        "])"
      ],
      "metadata": {
        "id": "RgN3A3Y0okYl"
      },
      "execution_count": 12,
      "outputs": []
    },
    {
      "cell_type": "markdown",
      "source": [
        "- 이 모델은 먼저 2차원 배열(28X28)인 이미지 데이터를 1차원 배열 형태로 변환한다.\n",
        "- 그리고 `tf.keras.layers.Dense` 층이 연결되는데, 이 층을 fully-connected 층이라고 부른다.\n",
        "- 첫 번째 `Dense` 레이어는 128개의 노드를 가지고 있으며 활성화 함수로 ReLU 함수를 적용한다.\n",
        "- 마지막 레이어는 10개의 노드를 가지고 있으며 softmax를 활성화 함수로 사용한다."
      ],
      "metadata": {
        "id": "kAsTMlhyolAU"
      }
    },
    {
      "cell_type": "markdown",
      "source": [
        "#### **모델 컴파일**\n",
        "___\n",
        "- 이제 손실함수, 옵티마이져, 평가지표(metrics)을 설정해보자.\n",
        "- 손실함수는 훈련 중 모델이 얼마나 정확한지 측정하며, 모델을 올바른 방향으로 학습시키는 것은 이 함수의 값이 최소화되는 것을 의미한다.\n",
        "- 옵티마이저(optimizer)는 손실 함수를 최소화하는 방향으로 모델을 업데이트하는 방법이다.\n",
        "- 평가지표(metrics)는 훈련 및 테스트 단계에서 모델을 예측 성능을 확인하기 위한 지표이다."
      ],
      "metadata": {
        "id": "q47M_76nl0k5"
      }
    },
    {
      "cell_type": "code",
      "source": [
        "model.compile(optimizer='adam',\n",
        "              loss=tf.keras.losses.SparseCategoricalCrossentropy(from_logits=True),\n",
        "              metrics=['accuracy'])"
      ],
      "metadata": {
        "id": "f48STmGkpXmQ"
      },
      "execution_count": 13,
      "outputs": []
    },
    {
      "cell_type": "markdown",
      "source": [
        "### | **모델 훈련**\n",
        "1. 훈련 데이터셋을 모델에 입력한다.\n",
        "2. 모델이 이미지와 레이블을 매핑하는 방법을 배운다.\n",
        "3. 테스트셋에 대한 모델의 예측을 만들고 이 예측이 정확한지 확인해본다."
      ],
      "metadata": {
        "id": "Hip92MceltFt"
      }
    },
    {
      "cell_type": "markdown",
      "source": [
        "#### **모델 피드**\n",
        "___\n",
        "- 모델 훈련은 `fit()` 메서드를 이용해 진행할 수 있다.\n",
        "- 모델이 훈련되면서 손실과 정확도 지표가 출력된다."
      ],
      "metadata": {
        "id": "eSNelTxtl3sj"
      }
    },
    {
      "cell_type": "code",
      "source": [
        "model.fit(train_images, train_labels, epochs=10)"
      ],
      "metadata": {
        "colab": {
          "base_uri": "https://localhost:8080/"
        },
        "id": "Ywg8iK_MpoKq",
        "outputId": "c29784b0-9639-45a7-dbd8-66f712d0e8ba"
      },
      "execution_count": 14,
      "outputs": [
        {
          "output_type": "stream",
          "name": "stdout",
          "text": [
            "Epoch 1/10\n",
            "1875/1875 [==============================] - 6s 3ms/step - loss: 0.4957 - accuracy: 0.8261\n",
            "Epoch 2/10\n",
            "1875/1875 [==============================] - 6s 3ms/step - loss: 0.3729 - accuracy: 0.8660\n",
            "Epoch 3/10\n",
            "1875/1875 [==============================] - 7s 4ms/step - loss: 0.3341 - accuracy: 0.8785\n",
            "Epoch 4/10\n",
            "1875/1875 [==============================] - 7s 4ms/step - loss: 0.3096 - accuracy: 0.8866\n",
            "Epoch 5/10\n",
            "1875/1875 [==============================] - 6s 3ms/step - loss: 0.2943 - accuracy: 0.8913\n",
            "Epoch 6/10\n",
            "1875/1875 [==============================] - 5s 3ms/step - loss: 0.2770 - accuracy: 0.8976\n",
            "Epoch 7/10\n",
            "1875/1875 [==============================] - 6s 3ms/step - loss: 0.2665 - accuracy: 0.9011\n",
            "Epoch 8/10\n",
            "1875/1875 [==============================] - 6s 3ms/step - loss: 0.2534 - accuracy: 0.9050\n",
            "Epoch 9/10\n",
            "1875/1875 [==============================] - 6s 3ms/step - loss: 0.2437 - accuracy: 0.9078\n",
            "Epoch 10/10\n",
            "1875/1875 [==============================] - 6s 3ms/step - loss: 0.2374 - accuracy: 0.9107\n"
          ]
        },
        {
          "output_type": "execute_result",
          "data": {
            "text/plain": [
              "<keras.callbacks.History at 0x7f14ae083310>"
            ]
          },
          "metadata": {},
          "execution_count": 14
        }
      ]
    },
    {
      "cell_type": "markdown",
      "source": [
        "#### **정확도 평가**\n",
        "___\n",
        "- 테스트 데이터셋에서의 성능을 확인해본다.\n",
        "- 해당 모델은 테스트셋의 정확도가 훈련 데이터셋의 정확도보다 조금 낮다. 이는 과대적합(overfitting) 때문이다."
      ],
      "metadata": {
        "id": "tOwKTqeel4x8"
      }
    },
    {
      "cell_type": "code",
      "source": [
        "test_loss, test_acc = model.evaluate(test_images,  test_labels, verbose=2)\n",
        "print('Test accuracy:', test_acc)"
      ],
      "metadata": {
        "colab": {
          "base_uri": "https://localhost:8080/"
        },
        "id": "9JsjAo-UqAhx",
        "outputId": "6e5f0a37-4529-493e-daf7-2067ca64f152"
      },
      "execution_count": 16,
      "outputs": [
        {
          "output_type": "stream",
          "name": "stdout",
          "text": [
            "313/313 - 0s - loss: 0.3341 - accuracy: 0.8854 - 431ms/epoch - 1ms/step\n",
            "Test accuracy: 0.8853999972343445\n"
          ]
        }
      ]
    },
    {
      "cell_type": "markdown",
      "source": [
        "#### **예측하기**\n",
        "___\n",
        "- 훈련된 모델을 사용하여 이미지에 대한 예측을 수행해보자.\n",
        "- 모델의 선형 출력, 로짓, 소프트맥스 레이어를 연결하여, 로짓값을 확률 형식으로 변환한다."
      ],
      "metadata": {
        "id": "Z4Lo6avll52P"
      }
    },
    {
      "cell_type": "code",
      "source": [
        "probability_model = tf.keras.Sequential([model, tf.keras.layers.Softmax()])"
      ],
      "metadata": {
        "id": "c5ANvgBgqQZI"
      },
      "execution_count": 17,
      "outputs": []
    },
    {
      "cell_type": "code",
      "source": [
        "predictions = probability_model.predict(test_images)"
      ],
      "metadata": {
        "colab": {
          "base_uri": "https://localhost:8080/"
        },
        "id": "wlVSOA-1qTV3",
        "outputId": "7efdb575-8d84-478e-939d-06826adeb112"
      },
      "execution_count": 18,
      "outputs": [
        {
          "output_type": "stream",
          "name": "stdout",
          "text": [
            "313/313 [==============================] - 1s 1ms/step\n"
          ]
        }
      ]
    },
    {
      "cell_type": "code",
      "source": [
        "predictions[0]"
      ],
      "metadata": {
        "colab": {
          "base_uri": "https://localhost:8080/"
        },
        "id": "Oe6IATcUqVZD",
        "outputId": "e86ba2d2-90c6-4239-af49-2991e3174ee3"
      },
      "execution_count": 19,
      "outputs": [
        {
          "output_type": "execute_result",
          "data": {
            "text/plain": [
              "array([1.04783517e-07, 7.13238288e-11, 4.95405006e-09, 9.66292259e-13,\n",
              "       1.14565255e-08, 1.19570559e-02, 1.37572478e-08, 7.02754175e-03,\n",
              "       3.15757442e-09, 9.81015384e-01], dtype=float32)"
            ]
          },
          "metadata": {},
          "execution_count": 19
        }
      ]
    },
    {
      "cell_type": "markdown",
      "source": [
        "- 각 값은 10개의 옷 품목에 상응하는 모델의 신뢰도를 나타낸다.\n",
        "- 가장 높은 신뢰도를 가진 레이블을 찾아보자."
      ],
      "metadata": {
        "id": "-YlvQCIBqWzJ"
      }
    },
    {
      "cell_type": "code",
      "source": [
        "np.argmax(predictions[0])"
      ],
      "metadata": {
        "colab": {
          "base_uri": "https://localhost:8080/"
        },
        "id": "XBuysxrqqgAn",
        "outputId": "865165a5-6660-4941-9c2a-118c7915fbef"
      },
      "execution_count": 20,
      "outputs": [
        {
          "output_type": "execute_result",
          "data": {
            "text/plain": [
              "9"
            ]
          },
          "metadata": {},
          "execution_count": 20
        }
      ]
    },
    {
      "cell_type": "code",
      "source": [
        "test_labels[0] # 테스트 레이블 확인"
      ],
      "metadata": {
        "colab": {
          "base_uri": "https://localhost:8080/"
        },
        "id": "JtRYb0-kqhvC",
        "outputId": "f3e11e6e-2f94-4ecc-f078-63a2bb3b70e6"
      },
      "execution_count": 21,
      "outputs": [
        {
          "output_type": "execute_result",
          "data": {
            "text/plain": [
              "9"
            ]
          },
          "metadata": {},
          "execution_count": 21
        }
      ]
    },
    {
      "cell_type": "markdown",
      "source": [
        "#### **예측 확인**\n",
        "___"
      ],
      "metadata": {
        "id": "pZ0LGef3l7Ld"
      }
    },
    {
      "cell_type": "code",
      "source": [
        "def plot_image(i, predictions_array, true_label, img):\n",
        "  true_label, img = true_label[i], img[i]\n",
        "  plt.grid(False)\n",
        "  plt.xticks([])\n",
        "  plt.yticks([])\n",
        "\n",
        "  plt.imshow(img, cmap=plt.cm.binary)\n",
        "\n",
        "  predicted_label = np.argmax(predictions_array)\n",
        "  if predicted_label == true_label:\n",
        "    color = 'blue'\n",
        "  else:\n",
        "    color = 'red'\n",
        "\n",
        "  plt.xlabel(\"{} {:2.0f}% ({})\".format(class_names[predicted_label],\n",
        "                                100*np.max(predictions_array),\n",
        "                                class_names[true_label]),\n",
        "                                color=color)"
      ],
      "metadata": {
        "id": "IYMf4V8NqmgA"
      },
      "execution_count": 22,
      "outputs": []
    },
    {
      "cell_type": "code",
      "source": [
        "def plot_value_array(i, predictions_array, true_label):\n",
        "  true_label = true_label[i]\n",
        "  plt.grid(False)\n",
        "  plt.xticks(range(10))\n",
        "  plt.yticks([])\n",
        "  thisplot = plt.bar(range(10), predictions_array, color=\"#777777\")\n",
        "  plt.ylim([0, 1])\n",
        "  predicted_label = np.argmax(predictions_array)\n",
        "\n",
        "  thisplot[predicted_label].set_color('red')\n",
        "  thisplot[true_label].set_color('blue')"
      ],
      "metadata": {
        "id": "TDywFrbjqnN5"
      },
      "execution_count": 23,
      "outputs": []
    },
    {
      "cell_type": "markdown",
      "source": [
        "- 위에서 만든 함수들을 이용하여 일부 이미지에 대한 예측을 수행하고, 0번째 원소의 이미지, 예측, 신뢰도 점수 배열을 확인해보자."
      ],
      "metadata": {
        "id": "0ymxdlRMqrzU"
      }
    },
    {
      "cell_type": "code",
      "source": [
        "i = 0\n",
        "plt.figure(figsize=(6,3))\n",
        "plt.subplot(1,2,1)\n",
        "plot_image(i, predictions[i], test_labels, test_images)\n",
        "\n",
        "plt.subplot(1,2,2)\n",
        "plot_value_array(i, predictions[i],  test_labels) # 신뢰도 점수\n",
        "plt.show()"
      ],
      "metadata": {
        "colab": {
          "base_uri": "https://localhost:8080/",
          "height": 211
        },
        "id": "WbwdE_WQq0Yn",
        "outputId": "5252d90f-ed56-4582-941c-cf2e65558128"
      },
      "execution_count": 24,
      "outputs": [
        {
          "output_type": "display_data",
          "data": {
            "text/plain": [
              "<Figure size 432x216 with 2 Axes>"
            ],
            "image/png": "[encoded data removed]"
          },
          "metadata": {
            "needs_background": "light"
          }
        }
      ]
    },
    {
      "cell_type": "code",
      "source": [
        "i = 12\n",
        "plt.figure(figsize=(6,3))\n",
        "plt.subplot(1,2,1)\n",
        "plot_image(i, predictions[i], test_labels, test_images)\n",
        "\n",
        "plt.subplot(1,2,2)\n",
        "plot_value_array(i, predictions[i],  test_labels)\n",
        "plt.show()"
      ],
      "metadata": {
        "colab": {
          "base_uri": "https://localhost:8080/",
          "height": 211
        },
        "id": "6wNiWSMDq8Cv",
        "outputId": "44df6cad-be5a-4f16-ad22-f41df66fdbad"
      },
      "execution_count": 25,
      "outputs": [
        {
          "output_type": "display_data",
          "data": {
            "text/plain": [
              "<Figure size 432x216 with 2 Axes>"
            ],
            "image/png": "[encoded data removed]"
          },
          "metadata": {
            "needs_background": "light"
          }
        }
      ]
    },
    {
      "cell_type": "markdown",
      "source": [
        "- 올바르게 예측된 레이블은 파란색이고, 잘못 예측된 레이블은 빨강색이다.\n",
        "- 오른쪽 그래프의 y축 값은 예측 레이블의 신뢰도 퍼센트이다.\n",
        "- 신뢰도 점수가 높아도 잘못 예측할 수 있다."
      ],
      "metadata": {
        "id": "OZqHNp1qq-RU"
      }
    },
    {
      "cell_type": "code",
      "source": [
        "# Plot the first X test images, their predicted labels, and the true labels.\n",
        "# Color correct predictions in blue and incorrect predictions in red.\n",
        "num_rows = 5\n",
        "num_cols = 3\n",
        "num_images = num_rows*num_cols\n",
        "plt.figure(figsize=(2*2*num_cols, 2*num_rows))\n",
        "for i in range(num_images):\n",
        "  plt.subplot(num_rows, 2*num_cols, 2*i+1)\n",
        "  plot_image(i, predictions[i], test_labels, test_images)\n",
        "  plt.subplot(num_rows, 2*num_cols, 2*i+2)\n",
        "  plot_value_array(i, predictions[i], test_labels)\n",
        "plt.tight_layout()\n",
        "plt.show()"
      ],
      "metadata": {
        "colab": {
          "base_uri": "https://localhost:8080/",
          "height": 729
        },
        "id": "pHVFBz8vrJ4I",
        "outputId": "30574049-f382-4603-92f8-ca690fdd9c2b"
      },
      "execution_count": 26,
      "outputs": [
        {
          "output_type": "display_data",
          "data": {
            "text/plain": [
              "<Figure size 864x720 with 30 Axes>"
            ],
            "image/png": "[encoded data removed]"
          },
          "metadata": {
            "needs_background": "light"
          }
        }
      ]
    },
    {
      "cell_type": "markdown",
      "source": [
        "### | **훈련된 모델 사용하기**\n",
        "- 마지막으로 훈련된 모델을 이용하여, 이미지 한 개에 대한 예측을 만들어보자."
      ],
      "metadata": {
        "id": "N0sbOTlXl9jH"
      }
    },
    {
      "cell_type": "code",
      "source": [
        "# Grab an image from the test dataset.\n",
        "img = test_images[1]\n",
        "print(img.shape)"
      ],
      "metadata": {
        "colab": {
          "base_uri": "https://localhost:8080/"
        },
        "id": "Ic8TJNIQrSFr",
        "outputId": "4a83b435-dc75-4bc3-d2f1-62cfbc1f73fb"
      },
      "execution_count": 27,
      "outputs": [
        {
          "output_type": "stream",
          "name": "stdout",
          "text": [
            "(28, 28)\n"
          ]
        }
      ]
    },
    {
      "cell_type": "code",
      "source": [
        "# Add the image to a batch where it's the only member.\n",
        "img = (np.expand_dims(img,0))\n",
        "print(img.shape)"
      ],
      "metadata": {
        "colab": {
          "base_uri": "https://localhost:8080/"
        },
        "id": "FO-lBJ5jrUJe",
        "outputId": "fe30d5a1-5c17-40b0-bc38-555a03b05f3d"
      },
      "execution_count": 28,
      "outputs": [
        {
          "output_type": "stream",
          "name": "stdout",
          "text": [
            "(1, 28, 28)\n"
          ]
        }
      ]
    },
    {
      "cell_type": "code",
      "source": [
        "predictions_single = probability_model.predict(img)\n",
        "print(predictions_single)"
      ],
      "metadata": {
        "colab": {
          "base_uri": "https://localhost:8080/"
        },
        "id": "zeIoxvDQrYVg",
        "outputId": "7bd284e6-6768-411d-bc49-91aab3dbea48"
      },
      "execution_count": 29,
      "outputs": [
        {
          "output_type": "stream",
          "name": "stdout",
          "text": [
            "1/1 [==============================] - 0s 31ms/step\n",
            "[[1.0888293e-04 5.0567780e-13 9.9926132e-01 2.0638586e-09 3.7678599e-04\n",
            "  4.8976964e-12 2.5304791e-04 1.0340598e-18 5.4584965e-11 3.2286760e-12]]\n"
          ]
        }
      ]
    },
    {
      "cell_type": "code",
      "source": [
        "plot_value_array(1, predictions_single[0], test_labels)\n",
        "_ = plt.xticks(range(10), class_names, rotation=45)\n",
        "plt.show()"
      ],
      "metadata": {
        "colab": {
          "base_uri": "https://localhost:8080/",
          "height": 300
        },
        "id": "FnaqcE4JraK7",
        "outputId": "6bdab3a3-e412-4c5a-9baf-77a3c954c9c6"
      },
      "execution_count": 30,
      "outputs": [
        {
          "output_type": "display_data",
          "data": {
            "text/plain": [
              "<Figure size 432x288 with 1 Axes>"
            ],
            "image/png": "[encoded data removed]"
          },
          "metadata": {
            "needs_background": "light"
          }
        }
      ]
    },
    {
      "cell_type": "code",
      "source": [],
      "metadata": {
        "id": "3bd3GDHsr27T"
      },
      "execution_count": null,
      "outputs": []
    },
    {
      "cell_type": "markdown",
      "source": [
        "- `tf.keras.Model.predict`은 배치의 각 이미지에 대해 하나의 이중 리스트를 반환한다.\n"
      ],
      "metadata": {
        "id": "ga3EbE6OrWuL"
      }
    },
    {
      "cell_type": "code",
      "source": [
        "np.argmax(predictions_single[0])"
      ],
      "metadata": {
        "colab": {
          "base_uri": "https://localhost:8080/"
        },
        "id": "sL1Wo_mCrl1J",
        "outputId": "7746a9ef-74e4-4c0d-a175-9161eacd5b7a"
      },
      "execution_count": 31,
      "outputs": [
        {
          "output_type": "execute_result",
          "data": {
            "text/plain": [
              "2"
            ]
          },
          "metadata": {},
          "execution_count": 31
        }
      ]
    }
  ]
}