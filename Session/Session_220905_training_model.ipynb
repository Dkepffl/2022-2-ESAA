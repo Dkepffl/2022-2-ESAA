{
  "nbformat": 4,
  "nbformat_minor": 0,
  "metadata": {
    "colab": {
      "provenance": [],
      "collapsed_sections": [],
      "include_colab_link": true
    },
    "kernelspec": {
      "name": "python3",
      "display_name": "Python 3"
    },
    "language_info": {
      "name": "python"
    }
  },
  "cells": [
    {
      "cell_type": "markdown",
      "metadata": {
        "id": "view-in-github",
        "colab_type": "text"
      },
      "source": [
        "<a href=\"https://colab.research.google.com/github/Dkepffl/2022-2-ESAA/blob/main/Session/Session_220905_training_model.ipynb\" target=\"_parent\"><img src=\"https://colab.research.google.com/assets/colab-badge.svg\" alt=\"Open In Colab\"/></a>"
      ]
    },
    {
      "cell_type": "markdown",
      "source": [
        "## **| 모델 훈련 연습 문제**\n",
        "___\n",
        "- 출처 : 핸즈온 머신러닝 Ch04 연습문제 1, 5, 9, 10번\n",
        "- 개념 문제의 경우 텍스트 셀을 추가하여 정답을 적어주세요."
      ],
      "metadata": {
        "id": "zCu72vDHGMHo"
      }
    },
    {
      "cell_type": "markdown",
      "source": [
        "### **1. 수백만 개의 특성을 가진 훈련 세트에서는 어떤 선형 회귀 알고리즘을 사용할 수 있을까요?**\n",
        "___\n",
        "##### **[답]**\n",
        "모델은 단순 선형 회귀, 다항 회귀, 릿지, 라쏘, 엘라스틱넷 상관 없이 사용 가능할 것 같다. 다만 훈련 세트의 피처 수가 많기 때문에, 정규 방정식보다는 경사 하강법(배치 경사 하강법, 확률적 경사 하강법, 미니 배치 경사하강법)을 적용하여 최적 파라미터를 찾는 선형 회귀 알고리즘을 사용하는 것이 좋을 것 같다. \n"
      ],
      "metadata": {
        "id": "j3g-_Dq9GiuT"
      }
    },
    {
      "cell_type": "markdown",
      "source": [
        "### **2. 배치 경사 하강법을 사용하고 에포크마다 검증 오차를 그래프로 나타내봤습니다. 검증 오차가 일정하게 상승되고 있다면 어떤 일이 일어나고 있는 걸까요? 이 문제를 어떻게 해결할 수 있나요?**\n",
        "___\n",
        "##### **[답]**\n",
        "과대적합이 의심된다. 조기 종료를 이용하여, 검증 오차가 최솟값이 되는 지점에서 멈추게 한다."
      ],
      "metadata": {
        "id": "-pDjW5XcHPOt"
      }
    },
    {
      "cell_type": "markdown",
      "source": [
        "### **3. 릿지 회귀를 사용했을 때 훈련 오차가 검증 오차와 거의 비슷하고 둘 다 높았습니다. 이 모델에는 높은 편향이 문제인가요, 아니면 높은 분산이 문제인가요? 규제 하이퍼파라미터 $\\alpha$를 증가시켜야 할까요 아니면 줄여야 할까요?**\n",
        "___\n",
        "##### **[답]**\n",
        "과소적합 같다. 높은 편향을 가진 모델이 훈련 데이터에 과소적합되기 쉽다. 규제 하이퍼파라미터 $\\alpha$이 증가하면 모델의 분산이 줄고 편향이 커지기 때문에, 하이퍼 파라미터 $\\alpha$를 작게 해야 한다."
      ],
      "metadata": {
        "id": "nM7JbsLoy7b7"
      }
    },
    {
      "cell_type": "markdown",
      "source": [
        "### **4. 다음과 같이 사용해야 하는 이유는?**\n",
        "___\n",
        "- 평범한 선형 회귀(즉, 아무런 규제가 없는 모델) 대신 릿지 회귀\n",
        "- 릿지 회귀 대신 라쏘 회귀\n",
        "- 라쏘 회귀 대신 엘라스틱넷"
      ],
      "metadata": {
        "id": "C8tARu-ZzOGx"
      }
    },
    {
      "cell_type": "markdown",
      "source": [
        "##### **[답]**\n",
        "- 규제가 있는 모델이 일반적으로 규제가 없는 모델보다 성능이 좋다.\n",
        "- 중요한 피처가 일부라고 생각되면 라쏘나 엘라스틱넷이 낫다\n",
        "- 피처 수가 훈련 샘플 수보다 많거나 피처 몇 개가 강하게 연관되어 있으면, 라쏘가 문제를 일으켜, 엘라스틱넷을 사용한다."
      ],
      "metadata": {
        "id": "ledz_WObHoPt"
      }
    }
  ]
}